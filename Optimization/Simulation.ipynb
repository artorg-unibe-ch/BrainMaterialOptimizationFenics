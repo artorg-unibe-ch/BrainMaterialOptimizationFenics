{
 "cells": [
  {
   "cell_type": "code",
   "execution_count": null,
   "metadata": {},
   "outputs": [],
   "source": [
    "import pandas as pd                       # Allows to use data in tables\n",
    "import matplotlib.pyplot as plt           # Allows to do plots\n",
    "import os                                 # Allows to use path\n",
    "import SimpleFunctions as SF\n",
    "\n",
    "NumberElementsTested = [1,2,3,5,10,20]\n",
    "NumberElements = NumberElementsTested[5]\n",
    "\n",
    "LoadCases = ['Compression', 'Tension', 'SimpleShear']\n",
    "LoadCase = LoadCases[1]\n",
    "\n",
    "InitialGuess = ['BuddayParameters', 'MarcParameters']\n",
    "InitialGuess = InitialGuess[1]\n",
    "\n",
    "# Get last values computed\n",
    "df = pd.read_csv('OptimizationResults/' + InitialGuess + '/' + str(NumberElements) + 'Elements.txt', sep=' ', decimal='.')\n",
    "FinalValues = df.iloc[-1]\n",
    "\n",
    "# Simulation parameters\n",
    "FinalRelativeStretch = 0.1\n",
    "RelativeStepSize     = 0.02\n",
    "\n",
    "# optimized values\n",
    "Nu = FinalValues.Nu\n",
    "Mu = FinalValues.Mu\n",
    "Alpha = FinalValues.Alpha\n",
    "\n",
    "D = 3*(1-2*Nu)/(Mu*(1+Nu))\n",
    "\n",
    "# Mesh\n",
    "Dimensions = [5,5,5]\n",
    "[Mesh, V, u, du, v] = SF.MeshDefinition(Dimensions, NumberElements)\n",
    "[F, J, C, Ic] = SF.Kinematics(u)\n",
    "\n",
    "# Strain energy density function (Ogden)\n",
    "Psi = SF.CompressibleOgden(Mu, Alpha, D, C, Ic, J)\n",
    "\n",
    "# Simulate the solution\n",
    "DataFrame = SF.SolveProblem(LoadCase, FinalRelativeStretch, RelativeStepSize, Dimensions, NumberElements, Mesh, V, u, du, v, Ic, J, F, Psi)\n",
    "\n",
    "# Experimental data\n",
    "FolderPath = os.path.join('/home/msimon/Desktop/SHARED/ScriptsAndData/ExperimentalData/')\n",
    "FilePath = os.path.join(FolderPath, 'CR_' + LoadCase + '_ExpDat.csv')\n",
    "ExpData = pd.read_csv(FilePath, sep=';', header=None, decimal=',')\n",
    "\n",
    "# Plot\n",
    "plt.rc('figure', figsize=[12,7])\n",
    "fig = plt.figure()\n",
    "#fig.suptitle('Simulations %i Elements by side'%(NumberElements))\n",
    "ax = fig.add_subplot(1, 1, 1)\n",
    "ax.cla()\n",
    "ax.plot(ExpData[0], ExpData[1],  color = 'b', linestyle = '--', label = 'Original Data', marker = 'o', markersize = 8, fillstyle='none')\n",
    "ax.plot(DataFrame.Stretches, DataFrame.P,  color = 'r', linestyle = '--', label = 'Simulation Prediction', marker = 'o', markersize = 8, fillstyle='none')\n",
    "ax.set_xlabel('Stretch ratio (-)')\n",
    "ax.set_ylabel('Stresses (kPa)')\n",
    "ax.xaxis.set_major_locator(plt.MultipleLocator(0.02))\n",
    "ax.legend(loc='upper left', frameon=True, framealpha=1)\n",
    "#plt.title(LoadCase)\n",
    "#plt.savefig(os.path.join(Output_Path, FileName + '.pdf'))\n",
    "plt.show()"
   ]
  },
  {
   "cell_type": "code",
   "execution_count": 38,
   "metadata": {},
   "outputs": [],
   "source": [
    "# Folder for the results\n",
    "Output_Path = 'ResultsOgden/' + InitialGuess\n",
    "os.makedirs(Output_Path, exist_ok=True)\n",
    "\n",
    "FileName = str(NumberElements) + 'Elements_' + LoadCase\n",
    "\n",
    "# Save table and figure\n",
    "DataFrame.to_csv(os.path.join(Output_Path, FileName))"
   ]
  }
 ],
 "metadata": {
  "kernelspec": {
   "display_name": "Python 3",
   "language": "python",
   "name": "python3"
  },
  "language_info": {
   "codemirror_mode": {
    "name": "ipython",
    "version": 3
   },
   "file_extension": ".py",
   "mimetype": "text/x-python",
   "name": "python",
   "nbconvert_exporter": "python",
   "pygments_lexer": "ipython3",
   "version": "3.7.6"
  }
 },
 "nbformat": 4,
 "nbformat_minor": 4
}
