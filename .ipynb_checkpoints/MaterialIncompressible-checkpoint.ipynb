{
 "cells": [
  {
   "cell_type": "code",
   "execution_count": 1,
   "metadata": {},
   "outputs": [],
   "source": [
    "from sympy import *\n",
    "import numpy as np\n",
    "from IPython.display import display\n",
    "import matplotlib.pyplot as plt"
   ]
  },
  {
   "cell_type": "code",
   "execution_count": 2,
   "metadata": {},
   "outputs": [],
   "source": [
    "def sec(C):\n",
    "    sec = 1/2 * (trace(C)**2 - trace(C**2))\n",
    "    return sec"
   ]
  },
  {
   "cell_type": "code",
   "execution_count": 3,
   "metadata": {},
   "outputs": [],
   "source": [
    "# Identity tensor\n",
    "I = eye(3)\n",
    "\n",
    "# Direction vector\n",
    "e1 = I[:,0]\n",
    "e2 = I[:,1]\n",
    "e3 = I[:,2]"
   ]
  },
  {
   "cell_type": "code",
   "execution_count": 4,
   "metadata": {},
   "outputs": [],
   "source": [
    "# Dilatation coefficients\n",
    "u, Nu   = symbols(r'u \\nu', positive=True)\n",
    "\n",
    "LambdaH = 1             # Coefficient for homogeneous dilatation\n",
    "LambdaX = u **(-Nu)     # Coefficient for lengthening in e1 direction (here <1)\n",
    "LambdaY = u **(-Nu)     # Coefficient for lengthening in e2 direction (here <1)\n",
    "LambdaZ = u             # Coefficient for lengthening in e3 direction (here >1)"
   ]
  },
  {
   "cell_type": "code",
   "execution_count": 5,
   "metadata": {},
   "outputs": [],
   "source": [
    "# Deformation matrices\n",
    "U = I + (LambdaX-1) * np.outer(e1,e1) + (LambdaY-1) * np.outer(e2,e2) + (LambdaZ-1) * np.outer(e3,e3)\n",
    "\n",
    "# Gradient of the deformation\n",
    "F = (LambdaH-1) * I + U\n",
    "\n",
    "# Volume change\n",
    "J = det(F)\n",
    "\n",
    "# Right Cauchy-Green strain tensor\n",
    "C = transpose(F) * F"
   ]
  },
  {
   "cell_type": "code",
   "execution_count": 6,
   "metadata": {},
   "outputs": [],
   "source": [
    "# Eigenvalues of Right Cauchy-Green strain tensor\n",
    "Lambda1, Lambda2, Lambda3 = symbols(r'\\lambda_1 \\lambda_2 \\lambda_3')\n",
    "\n",
    "# Hyperelastic models (incompressible)\n",
    "\n",
    "# Neo-Hookean\n",
    "Mu = symbols('\\mu')\n",
    "Values_NH = [1.15]\n",
    "\n",
    "Psi_NH = Mu/2 * (Lambda1 + Lambda2 + Lambda3 - 3)\n",
    "\n",
    "\n",
    "# Mooney-Rivlin\n",
    "Mu, C2 = symbols('\\mu C_2')\n",
    "Values_MR = [1.15, 0.00]\n",
    "\n",
    "Psi_MR = (Mu/2 - C2) * (Lambda1 + Lambda2 + Lambda3 - 3) + C2 * (1/Lambda1 + 1/Lambda2 + 1/Lambda3 - 3)\n",
    "\n",
    "\n",
    "# Gent\n",
    "Mu, Jm = symbols('\\mu J_m')\n",
    "Values_Gn = [1.15, 1.00]\n",
    "\n",
    "Psi_Gn = - Mu*Jm/2 * ln(1 - (Lambda1 + Lambda2 + Lambda3 - 3) / Jm)\n",
    "\n",
    "\n",
    "# Demiray\n",
    "Mu, Beta = symbols(r'\\mu \\beta')\n",
    "Values_Dm = [1.15, 1.00]\n",
    "\n",
    "Psi_Dm = Mu/2 * (exp(Beta*(Lambda1 + Lambda2 + Lambda3 - 3)) - 1) / Beta\n",
    "\n",
    "\n",
    "# Ogden\n",
    "Mu, Alpha = symbols(r'\\mu \\alpha')\n",
    "Values_Og = [1.15, 2]\n",
    "\n",
    "Psi_Og = 2*Mu * (Lambda1**(Alpha/2) + Lambda2**(Alpha/2) + Lambda3**(Alpha/2) - 3) / Alpha**2\n",
    "\n",
    "\n",
    "Psis = [Psi_NH, Psi_MR, Psi_Gn, Psi_Dm, Psi_Og]"
   ]
  },
  {
   "cell_type": "code",
   "execution_count": 7,
   "metadata": {},
   "outputs": [],
   "source": [
    "for Psi in Psis:\n",
    "    \n",
    "    # Derivative with respect to Lambdas (https://en.wikipedia.org/wiki/Hyperelastic_material: incompressible isotropic hyperelastic material)\n",
    "    T_L1 = Lambda1*Derivative(Psi, Lambda1)*np.outer(e1,e1)\n",
    "    T_L2 = Lambda2*Derivative(Psi, Lambda2)*np.outer(e2,e2)\n",
    "    T_L3 = Lambda3*Derivative(Psi, Lambda3)*np.outer(e3,e3)\n",
    "\n",
    "    p = symbols('p')\n",
    "    T = T_L1 + T_L2 + T_L3 - p * I       # Add the pressure p for incompressibility\n",
    "    T = Matrix(T)\n",
    "    T = T.doit()\n",
    "\n",
    "    # Replace Eingenvalues\n",
    "    Lambdas = C.eigenvals()\n",
    "    Lambdas = list(Lambdas)\n",
    "    T = T.subs({Lambda1:Lambdas[0], Lambda2:Lambdas[0], Lambda3:Lambdas[1]})\n",
    "\n",
    "    # No stress over side\n",
    "    Pressure = solveset(T[0,0], p)\n",
    "    Pressure = list(Pressure)[0]\n",
    "\n",
    "    # Replace pressure\n",
    "    T = T.subs({p:Pressure})\n",
    "\n",
    "    # Other stresses\n",
    "    P = T * det(F) * F.inv().transpose()               # Nominal stress\n",
    "    S = det(F) * F.inv() * T * F.inv().transpose()     # Material stress for J=1\n",
    "\n",
    "    # Define axial responses\n",
    "    if Psi == Psi_NH:\n",
    "        S_U33 = S[2,2].subs({Mu:Values_NH[0]})\n",
    "        P_U33 = P[2,2].subs({Mu:Values_NH[0]})\n",
    "        T_U33 = T[2,2].subs({Mu:Values_NH[0]})\n",
    "        \n",
    "    elif Psi == Psi_MR:\n",
    "        S_U33 = S[2,2].subs({Mu:Values_MR[0], C2:Values_MR[1]})\n",
    "        P_U33 = P[2,2].subs({Mu:Values_MR[0], C2:Values_MR[1]})\n",
    "        T_U33 = T[2,2].subs({Mu:Values_MR[0], C2:Values_MR[1]})\n",
    "        \n",
    "    elif Psi == Psi_Gn:\n",
    "        S_U33 = S[2,2].subs({Mu:Values_Gn[0], Jm:Values_Gn[1]})\n",
    "        P_U33 = P[2,2].subs({Mu:Values_Gn[0], Jm:Values_Gn[1]})\n",
    "        T_U33 = T[2,2].subs({Mu:Values_Gn[0], Jm:Values_Gn[1]})\n",
    "        \n",
    "    elif Psi == Psi_Dm:\n",
    "        S_U33 = S[2,2].subs({Mu:Values_Dm[0], Beta:Values_Dm[1]})\n",
    "        P_U33 = P[2,2].subs({Mu:Values_Dm[0], Beta:Values_Dm[1]})\n",
    "        T_U33 = T[2,2].subs({Mu:Values_Dm[0], Beta:Values_Dm[1]})\n",
    "        \n",
    "    elif Psi == Psi_Og:\n",
    "        S_U33 = S[2,2].subs({Mu:Values_Og[0], Alpha:Values_Og[1]})\n",
    "        P_U33 = P[2,2].subs({Mu:Values_Og[0], Alpha:Values_Og[1]})\n",
    "        T_U33 = T[2,2].subs({Mu:Values_Og[0], Alpha:Values_Og[1]})\n",
    "\n",
    "    # Convert expression into numpy function\n",
    "    # f = lambdify(u, T_U33, 'numpy')\n",
    "    f = lambdify((Nu, u), P_U33, 'numpy')\n",
    "    # f = lambdify(u, S_U33, 'numpy')\n",
    "\n",
    "    if Psi == Psi_NH:\n",
    "        NH = f\n",
    "        \n",
    "    elif Psi == Psi_MR:\n",
    "        MR = f\n",
    "        \n",
    "    elif Psi == Psi_Gn:\n",
    "        Gn = f\n",
    "        \n",
    "    elif Psi == Psi_Dm:\n",
    "        Dm = f\n",
    "        \n",
    "    elif Psi == Psi_Og:\n",
    "        Og = f   "
   ]
  },
  {
   "cell_type": "code",
   "execution_count": 18,
   "metadata": {},
   "outputs": [
    {
     "data": {
      "image/png": "[encoded data removed]",
      "text/plain": [
       "<Figure size 720x504 with 1 Axes>"
      ]
     },
     "metadata": {
      "needs_background": "light"
     },
     "output_type": "display_data"
    }
   ],
   "source": [
    "# Plot Results\n",
    "\n",
    "Nu   = 0.5\n",
    "Xmin = 0.65\n",
    "Xmax = 1.55\n",
    "Delta = 0.01\n",
    "U33 = np.linspace(Xmin,Xmax,int((Xmax-Xmin)/Delta+1))\n",
    "\n",
    "plt.rc('figure', figsize=[10,7])\n",
    "fig = plt.figure()\n",
    "ax = fig.add_subplot(1, 1, 1)\n",
    "ax.cla()\n",
    "ax.plot(U33, NH(Nu,U33),  color = 'k', linestyle = '-', label='Neo-Hookean')\n",
    "ax.plot(U33, MR(Nu,U33),  color = 'g', linestyle = '-', label='Mooney-Rivlin')\n",
    "ax.plot(U33, Gn(Nu,U33),  color = 'b', linestyle = '-', label='Gent')\n",
    "ax.plot(U33, Dm(Nu,U33),  color = 'c', linestyle = '-', label='Demiray')\n",
    "ax.plot(U33, Og(Nu,U33),  color = 'r', linestyle = '-', label='Ogden')\n",
    "ax.set_xlabel('Stretch ratio (-)')\n",
    "ax.set_ylabel('Stress (kPa)')\n",
    "# plt.xlim([0.8, 1.2])\n",
    "# plt.ylim([-0.5, 0.5])\n",
    "plt.legend(loc='upper left', frameon=True, framealpha=1)\n",
    "plt.show()"
   ]
  },
  {
   "cell_type": "code",
   "execution_count": null,
   "metadata": {},
   "outputs": [],
   "source": []
  }
 ],
 "metadata": {
  "kernelspec": {
   "display_name": "Python 3",
   "language": "python",
   "name": "python3"
  },
  "language_info": {
   "codemirror_mode": {
    "name": "ipython",
    "version": 3
   },
   "file_extension": ".py",
   "mimetype": "text/x-python",
   "name": "python",
   "nbconvert_exporter": "python",
   "pygments_lexer": "ipython3",
   "version": "3.8.2"
  }
 },
 "nbformat": 4,
 "nbformat_minor": 4
}
