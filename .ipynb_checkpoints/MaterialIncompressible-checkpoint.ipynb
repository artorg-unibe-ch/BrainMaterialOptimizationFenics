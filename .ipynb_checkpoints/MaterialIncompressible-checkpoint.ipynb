{
 "cells": [
  {
   "cell_type": "code",
   "execution_count": 1,
   "metadata": {},
   "outputs": [],
   "source": [
    "from sympy import *\n",
    "import numpy as np\n",
    "from IPython.display import display\n",
    "import matplotlib.pyplot as plt\n",
    "import os\n",
    "import pandas as pd"
   ]
  },
  {
   "cell_type": "code",
   "execution_count": 2,
   "metadata": {},
   "outputs": [],
   "source": [
    "# Identity tensor\n",
    "I = eye(3)\n",
    "\n",
    "# Direction vector\n",
    "e1 = I[:,0]\n",
    "e2 = I[:,1]\n",
    "e3 = I[:,2]"
   ]
  },
  {
   "cell_type": "code",
   "execution_count": 3,
   "metadata": {},
   "outputs": [],
   "source": [
    "# Dilatation coefficients\n",
    "u, Nu, Mu   = symbols(r'u \\nu \\mu', positive=True)\n",
    "\n",
    "LambdaH = 1             # Coefficient for homogeneous dilatation\n",
    "LambdaX = u **(-Nu)     # Coefficient for lengthening in e1 direction (here <1)\n",
    "LambdaY = u **(-Nu)     # Coefficient for lengthening in e2 direction (here <1)\n",
    "LambdaZ = u             # Coefficient for lengthening in e3 direction (here >1)"
   ]
  },
  {
   "cell_type": "code",
   "execution_count": 4,
   "metadata": {},
   "outputs": [],
   "source": [
    "# Deformation matrices\n",
    "U = I + (LambdaX-1) * np.outer(e1,e1) + (LambdaY-1) * np.outer(e2,e2) + (LambdaZ-1) * np.outer(e3,e3)\n",
    "\n",
    "# Gradient of the deformation\n",
    "F = (LambdaH-1) * I + U\n",
    "\n",
    "# Volume change\n",
    "J = det(F)\n",
    "\n",
    "# Right Cauchy-Green strain tensor\n",
    "C = transpose(F) * F"
   ]
  },
  {
   "cell_type": "code",
   "execution_count": 5,
   "metadata": {},
   "outputs": [],
   "source": [
    "# Eigenvalues of Right Cauchy-Green strain tensor\n",
    "Lambda1, Lambda2, Lambda3 = symbols(r'\\lambda_1 \\lambda_2 \\lambda_3')\n",
    "\n",
    "# Invariants\n",
    "J, I1, I2 = symbols(r'J I_1 I_2')\n",
    "JFunction = Lambda1*Lambda2*Lambda3\n",
    "I1Function = Lambda1**2+Lambda2**2+Lambda3**2\n",
    "I2Function = Lambda1**2*Lambda2**2 + Lambda2**2*Lambda3**2 + Lambda3**2*Lambda1**2\n",
    "\n",
    "# Hyperelastic models (incompressible)\n",
    "\n",
    "# Neo-Hookean\n",
    "C1           = symbols(r'C_1', positive=True)\n",
    "C1Function   = Mu / 2\n",
    "Psi_NH       = C1 * (I1 - 3)\n",
    "\n",
    "# Mooney-Rivlin\n",
    "C01, C10, D1 = symbols(r'C_{01} C_{10} D_{1}', positive=True)\n",
    "C10Function  = Mu / 2 - C01\n",
    "D1Function   = Mu * (1+Nu) / (3*(1-2*Nu))\n",
    "Psi_MR       = C01 * (J**Rational(-4,3)*I2 - 3) + C10 * (J**Rational(-2,3)*I1 - 3)\n",
    "\n",
    "# Gent\n",
    "Jm           = symbols('J_m')\n",
    "Psi_Gn       = - Mu*Jm/2 * ln(1 - (I1 - 3) / Jm)\n",
    "\n",
    "# Demiray\n",
    "Beta         = symbols(r'\\beta')\n",
    "Psi_Dm       = Mu/2 * (exp(Beta*(I1 - 3)) - 1) / Beta\n",
    "\n",
    "# Ogden\n",
    "Alpha        = symbols(r'\\alpha')\n",
    "Psi_Og       = 2*Mu * (Lambda1**Alpha + Lambda2**Alpha + Lambda3**Alpha - 3) / Alpha**2\n",
    "\n",
    "\n",
    "Psis = [Psi_NH, Psi_MR, Psi_Gn, Psi_Dm, Psi_Og]"
   ]
  },
  {
   "cell_type": "code",
   "execution_count": 6,
   "metadata": {},
   "outputs": [
    {
     "name": "stdout",
     "output_type": "stream",
     "text": [
      "Neo-Hookean material\n",
      "Mooney-Rivlin material\n",
      "Gent material\n",
      "Demiray material\n",
      "Ogden material\n"
     ]
    }
   ],
   "source": [
    "for Psi in Psis:\n",
    "\n",
    "    # Derivative with respect to Lambdas (https://en.wikipedia.org/wiki/Hyperelastic_material: compressible isotropic hyperelastic material)\n",
    "    PsiLambda = Psi.subs({J:JFunction,I1:I1Function,I2:I2Function})\n",
    "\n",
    "    T1 = Lambda1*Derivative(PsiLambda, Lambda1)\n",
    "    T1 = T1.doit()\n",
    "\n",
    "    T2 = Lambda2*Derivative(PsiLambda, Lambda2)\n",
    "    T2 = T2.doit()\n",
    "\n",
    "    T3 = Lambda3*Derivative(PsiLambda, Lambda3)\n",
    "    T3 = T3.doit()\n",
    "\n",
    "    T = T1 * np.outer(e1,e1) + T2 *np.outer(e2,e2) + T3 * np.outer(e3,e3)\n",
    "    T = Matrix(T).doit()\n",
    "    T = T.subs({JFunction:J,I1Function:I1,I2Function:I2})\n",
    "    T = simplify(T)\n",
    "    T = T.subs({JFunction:J,I1Function:I1,I2Function:I2})\n",
    "    T = T.subs({J:'J',I1:'I_1',I2:'I_2'})\n",
    "#     display(T)     # Control\n",
    "    \n",
    "    # Replace invariants\n",
    "    T = T.subs({'J':JFunction,'I_1':I1Function,'I_2':I2Function})\n",
    "\n",
    "    # Replace material constants\n",
    "    T = T.subs({C1:C1Function, C10:C10Function})\n",
    "\n",
    "    # Replace Eingenvalues\n",
    "    Lambdas = C.eigenvals()\n",
    "    Lambdas = list(Lambdas)\n",
    "    T = T.subs({Lambda1:sqrt(Lambdas[0]), Lambda2:sqrt(Lambdas[0]), Lambda3:sqrt(Lambdas[1])})\n",
    "    \n",
    "    # T11 and T22 are null\n",
    "    T = T - T[0,0] * I\n",
    "    T = simplify(T)\n",
    "\n",
    "    # Other stresses\n",
    "    J = det(F)                                    # Volume change\n",
    "    P = J * T * F.inv().transpose()               # Nominal stress\n",
    "    S = J * F.inv() * T * F.inv().transpose()     # Material stress\n",
    "\n",
    "    # Define axial responses\n",
    "    if Psi == Psis[0]:\n",
    "        print('Neo-Hookean material')\n",
    "        NH = lambdify((Nu, Mu, u), P[2,2], 'numpy')\n",
    "    elif Psi == Psis[1]:\n",
    "        print('Mooney-Rivlin material')\n",
    "        MR = lambdify((C01, Nu, Mu, u), P[2,2], 'numpy')\n",
    "    elif Psi == Psis[2]:\n",
    "        print('Gent material')\n",
    "        Gn = lambdify((Jm, Nu, Mu, u), P[2,2], 'numpy')\n",
    "    elif Psi == Psis[3]:\n",
    "        print('Demiray material')\n",
    "        Dm = lambdify((Beta, Nu, Mu, u), P[2,2], 'numpy')\n",
    "    elif Psi == Psis[4]:\n",
    "        print('Ogden material')\n",
    "        Og = lambdify((Alpha, Nu, Mu, u), P[2,2], 'numpy')"
   ]
  },
  {
   "cell_type": "code",
   "execution_count": 8,
   "metadata": {},
   "outputs": [
    {
     "name": "stdout",
     "output_type": "stream",
     "text": [
      "Stresses at stretch ratio of 1.00:\n",
      "Neo-Hookean   : 0.000\n",
      "Mooney-Rivlin : 0.000\n",
      "Gent          : 0.000\n",
      "Demiray       : 0.000\n",
      "Ogden         : 0.000\n"
     ]
    },
    {
     "data": {
      "image/png": "[encoded data removed]",
      "text/plain": [
       "<Figure size 720x504 with 1 Axes>"
      ]
     },
     "metadata": {
      "needs_background": "light"
     },
     "output_type": "display_data"
    }
   ],
   "source": [
    "# Plot Results\n",
    "\n",
    "NuV = 0.5\n",
    "MuV = 1.15\n",
    "uV  = 1.\n",
    "print('Stresses at stretch ratio of %.2f:'%(uV))\n",
    "\n",
    "# Values\n",
    "NuV    = 0.5    # Poisson's ratio (-)\n",
    "MuV    = 1.15   # Shear modulus (kpa)\n",
    "C01V   = 0.     # Mooney-Rivlin 3rd material constant (kPa) if == 0 => Neo-Hookean\n",
    "JmV    = 1.     # Gent 3rd material constant (-) if == 1 => ~Neo-Hookean with ln\n",
    "BetaV  = 1.     # Demiray 3rd material constant (-) if == 1 => ~Neo-Hookean with exp\n",
    "AlphaV = 2.     # Ogden 3rd material constant (-) if == 2 => Neo-Hookean\n",
    "\n",
    "Xmin = 0.85\n",
    "Xmax = 1.15\n",
    "Delta = 0.01\n",
    "U33 = np.linspace(Xmin,Xmax,int((Xmax-Xmin)/Delta+1))\n",
    "\n",
    "plt.rc('figure', figsize=[10,7])\n",
    "fig = plt.figure()\n",
    "ax = fig.add_subplot(1, 1, 1)\n",
    "ax.cla()\n",
    "ax.plot(U33, NH(NuV, MuV, U33),  color = 'k', linestyle = '-', label='Neo-Hookean')\n",
    "print('Neo-Hookean   : %.3f'%(NH(NuV, MuV, uV)))\n",
    "ax.plot(U33, MR(C01V, NuV, MuV, U33),  color = 'g', linestyle = '-', label='Mooney-Rivlin')\n",
    "print('Mooney-Rivlin : %.3f'%(MR(C01V, NuV, MuV, uV)))\n",
    "ax.plot(U33, Gn(JmV, NuV, MuV, U33),  color = 'b', linestyle = '-', label='Gent')\n",
    "print('Gent          : %.3f'%(Gn(JmV, NuV, MuV, uV)))\n",
    "ax.plot(U33, Dm(BetaV, NuV, MuV, U33),  color = 'c', linestyle = '-', label='Demiray')\n",
    "print('Demiray       : %.3f'%(Dm(BetaV, NuV, MuV, uV)))\n",
    "ax.plot(U33, Og(AlphaV, NuV, MuV, U33),  color = 'r', linestyle = '-', label='Ogden')\n",
    "print('Ogden         : %.3f'%(Og(AlphaV, NuV, MuV, uV)))\n",
    "ax.set_xlabel('Stretch ratio (-)')\n",
    "ax.set_ylabel('Stress (kPa)')\n",
    "# plt.xlim([0.8, 1.2])\n",
    "# plt.ylim([1, 3])\n",
    "plt.legend(loc='upper left', frameon=True, framealpha=1)\n",
    "plt.show()"
   ]
  },
  {
   "cell_type": "code",
   "execution_count": null,
   "metadata": {},
   "outputs": [],
   "source": [
    "# Save Results\n",
    "\n",
    "Psis2Save = [Psis[0]]   # Constitutive models to save\n",
    "\n",
    "# Folder for the results\n",
    "Output_Path = os.path.join('AnalyticalResults')\n",
    "os.makedirs(Output_Path, exist_ok=True)\n",
    "\n",
    "for Psi in Psis2Save:\n",
    "    \n",
    "    if Psi == Psis[0]:\n",
    "        FileName = 'NeoHookean_Nu' + str(NuV) + 'Mu' + str(MuV) + '.csv'\n",
    "        DataFrame = pd.DataFrame({'Stretch Ratio (-)':U33, 'P Stress (kPa)':NH(NuV, MuV, U33)})\n",
    "        \n",
    "    if Psi == Psis[1]:\n",
    "        FileName = 'MooneyRivlin_Nu' + str(NuV) + 'Mu' + str(MuV) + 'C01' + str(C01V) + '.csv'\n",
    "        DataFrame = pd.DataFrame({'Stretch Ratio (-)':U33, 'P Stress (kPa)':MR(C10V, NuV, MuV, U33)})\n",
    "        \n",
    "    if Psi == Psis[2]:\n",
    "        FileName = 'Gent_Nu' + str(NuV) + 'Mu' + str(MuV) + 'Jm' + str(JmV) + '.csv'\n",
    "        DataFrame = pd.DataFrame({'Stretch Ratio (-)':U33, 'P Stress (kPa)':Gn(JmV, NuV, MuV, U33)})\n",
    "    \n",
    "    if Psi == Psis[3]:\n",
    "        FileName = 'Demiray_Nu' + str(NuV) + 'Mu' + str(MuV) + 'Beta' + str(BetaV) + '.csv'\n",
    "        DataFrame = pd.DataFrame({'Stretch Ratio (-)':U33, 'P Stress (kPa)':Dm(BetaV, NuV, MuV, U33)})\n",
    "        \n",
    "    if Psi == Psis[4]:\n",
    "        FileName = 'Ogden_Nu' + str(NuV) + 'Mu' + str(MuV) + 'Alpha' + str(AlphaV) + '.csv'\n",
    "        DataFrame = pd.DataFrame({'Stretch Ratio (-)':U33, 'P Stress (kPa)':Og(AlphaV, NuV, MuV, U33)})\n",
    "        \n",
    "    # Save table and figure\n",
    "    DataFrame.to_csv(os.path.join(Output_Path, FileName), index=False)"
   ]
  }
 ],
 "metadata": {
  "kernelspec": {
   "display_name": "Python 3",
   "language": "python",
   "name": "python3"
  },
  "language_info": {
   "codemirror_mode": {
    "name": "ipython",
    "version": 3
   },
   "file_extension": ".py",
   "mimetype": "text/x-python",
   "name": "python",
   "nbconvert_exporter": "python",
   "pygments_lexer": "ipython3",
   "version": "3.8.2"
  }
 },
 "nbformat": 4,
 "nbformat_minor": 4
}
