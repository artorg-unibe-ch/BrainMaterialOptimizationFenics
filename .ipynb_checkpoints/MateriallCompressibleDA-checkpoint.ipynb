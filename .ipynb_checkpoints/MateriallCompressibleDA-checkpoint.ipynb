{
 "cells": [
  {
   "cell_type": "code",
   "execution_count": 2,
   "metadata": {},
   "outputs": [],
   "source": [
    "import sympy as sp\n",
    "import numpy as np\n",
    "from IPython.display import display\n",
    "import matplotlib.pyplot as plt"
   ]
  },
  {
   "cell_type": "code",
   "execution_count": null,
   "metadata": {},
   "outputs": [],
   "source": [
    "# The following is based on https://en.wikipedia.org/wiki/Neo-Hookean_solid\n",
    "# -> Uniaxial Extension / Compressible neo-Hookean material"
   ]
  },
  {
   "cell_type": "code",
   "execution_count": 3,
   "metadata": {},
   "outputs": [
    {
     "data": {
      "text/latex": [
       "$\\displaystyle C_{1} \\left(\\bar{I_1} - 3\\right) + D_{1} \\left(J - 1\\right)^{2}$"
      ],
      "text/plain": [
       "C_{1}*(\\bar{I_1} - 3) + D_{1}*(J - 1)**2"
      ]
     },
     "metadata": {},
     "output_type": "display_data"
    }
   ],
   "source": [
    "# Neo-Hookean\n",
    "C1, D1 = sp.symbols(r'C_{1} D_{1}', positive=True)\n",
    "J, I1n, I1 = sp.symbols(r'J \\bar{I_1} I_1')\n",
    "Psi_NH = C1 * (I1n - 3) + D1 * (J-1)**2\n",
    "\n",
    "Psis = [Psi_NH]\n",
    "Psi  = Psis[0]\n",
    "display(Psi)"
   ]
  },
  {
   "cell_type": "code",
   "execution_count": 4,
   "metadata": {},
   "outputs": [
    {
     "data": {
      "text/latex": [
       "$\\displaystyle C_{1} \\left(-3 + \\frac{\\lambda_1^{2} + \\lambda_2^{2} + \\lambda_3^{2}}{J^{\\frac{2}{3}}}\\right) + D_{1} \\left(J - 1\\right)^{2}$"
      ],
      "text/plain": [
       "C_{1}*(-3 + (\\lambda_1**2 + \\lambda_2**2 + \\lambda_3**2)/J**(2/3)) + D_{1}*(J - 1)**2"
      ]
     },
     "metadata": {},
     "output_type": "display_data"
    },
    {
     "data": {
      "text/latex": [
       "$\\displaystyle C_{1} \\left(-3 + \\frac{\\lambda_1^{2} + \\lambda_2^{2} + \\lambda_3^{2}}{\\lambda_1^{\\frac{2}{3}} \\lambda_2^{\\frac{2}{3}} \\lambda_3^{\\frac{2}{3}}}\\right) + D_{1} \\left(\\lambda_1 \\lambda_2 \\lambda_3 - 1\\right)^{2}$"
      ],
      "text/plain": [
       "C_{1}*(-3 + (\\lambda_1**2 + \\lambda_2**2 + \\lambda_3**2)/(\\lambda_1**(2/3)*\\lambda_2**(2/3)*\\lambda_3**(2/3))) + D_{1}*(\\lambda_1*\\lambda_2*\\lambda_3 - 1)**2"
      ]
     },
     "metadata": {},
     "output_type": "display_data"
    }
   ],
   "source": [
    "mu, lmbda = sp.symbols(r'\\mu \\lambda', positive=True)\n",
    "C1Function  = mu / 2\n",
    "D1Function  = lmbda / 2\n",
    "\n",
    "lambda1, lambda2, lambda3 = sp.symbols(r'\\lambda_1 \\lambda_2 \\lambda_3', positive=True)\n",
    "JFunction  = lambda1 * lambda2 * lambda3\n",
    "I1Function = lambda1**2+lambda2**2+lambda3**2\n",
    "I2Function = lambda1**2*lambda2**2 + lambda2**2*lambda3**2 + lambda3**2*lambda1**2\n",
    "I1nFunction= J**(-sp.Rational(2,3)) * I1Function\n",
    "#Psi = Psi.subs({C1:C1Function,D1:D1Function, J:JFunction, I1:I1Function})\n",
    "Psi_subs = Psi.subs({I1n:I1nFunction})\n",
    "display(Psi_subs)\n",
    "Psi_subs = Psi_subs.subs({J:JFunction})\n",
    "display(Psi_subs)"
   ]
  },
  {
   "cell_type": "code",
   "execution_count": 11,
   "metadata": {},
   "outputs": [
    {
     "data": {
      "text/latex": [
       "$\\displaystyle \\frac{2 \\left(C_{1} \\left(2 \\lambda_1^{2} - \\lambda_2^{2} - \\lambda_3^{2}\\right) + 3 D_{1} \\lambda_1^{\\frac{5}{3}} \\lambda_2^{\\frac{5}{3}} \\lambda_3^{\\frac{5}{3}} \\left(\\lambda_1 \\lambda_2 \\lambda_3 - 1\\right)\\right)}{3 \\lambda_1^{\\frac{5}{3}} \\lambda_2^{\\frac{5}{3}} \\lambda_3^{\\frac{5}{3}}}$"
      ],
      "text/plain": [
       "2*(C_{1}*(2*\\lambda_1**2 - \\lambda_2**2 - \\lambda_3**2) + 3*D_{1}*\\lambda_1**(5/3)*\\lambda_2**(5/3)*\\lambda_3**(5/3)*(\\lambda_1*\\lambda_2*\\lambda_3 - 1))/(3*\\lambda_1**(5/3)*\\lambda_2**(5/3)*\\lambda_3**(5/3))"
      ]
     },
     "metadata": {},
     "output_type": "display_data"
    }
   ],
   "source": [
    "# Cauchy Stress\n",
    "sigma11, sigma22, sigma33 = sp.symbols(r'\\sigma_{11} \\sigma_{22} \\sigma_{33}')\n",
    "sigma11 = lambda1*sp.Derivative(Psi_subs, lambda1)/(lambda1*lambda2*lambda3)\n",
    "sigma11 = sigma11.doit()\n",
    "sigma22 = lambda2*sp.Derivative(Psi_subs, lambda2)/(lambda1*lambda2*lambda3)\n",
    "sigma22 = sigma22.doit()\n",
    "sigma33 = lambda3*sp.Derivative(Psi_subs, lambda3)/(lambda1*lambda2*lambda3)\n",
    "sigma33 = sigma33.doit()\n",
    "display(sp.simplify(sigma11))"
   ]
  },
  {
   "cell_type": "code",
   "execution_count": 69,
   "metadata": {},
   "outputs": [
    {
     "data": {
      "text/latex": [
       "$\\displaystyle \\frac{\\sqrt{J}}{\\sqrt{\\hat{\\lambda}}}$"
      ],
      "text/plain": [
       "sqrt(J)/sqrt(\\hat{\\lambda})"
      ]
     },
     "metadata": {},
     "output_type": "display_data"
    }
   ],
   "source": [
    "# uniaxial stretch ratio\n",
    "stretch = sp.symbols(r'\\hat{\\lambda}', positive=True)\n",
    "lambda1Function = stretch\n",
    "lambda2Function = lambda2\n",
    "lambda3Function = lambda2\n",
    "\n",
    "# get stretch ratio on other two directions (lambda2)\n",
    "JFunction_uniaxial = JFunction.subs({lambda1:lambda1Function, lambda2:lambda2Function, lambda3:lambda3Function})\n",
    "lambda2Function_uniaxial = sp.solve(JFunction_uniaxial-J, lambda2)[1]\n",
    "display(lambda2Function_uniaxial)\n"
   ]
  },
  {
   "cell_type": "code",
   "execution_count": 13,
   "metadata": {},
   "outputs": [
    {
     "data": {
      "text/latex": [
       "$\\displaystyle \\frac{2 \\left(2 C_{1} \\left(- J + \\hat{\\lambda}^{3}\\right) + 3 D_{1} J^{\\frac{5}{3}} \\hat{\\lambda} \\left(J - 1\\right)\\right)}{3 J^{\\frac{5}{3}} \\hat{\\lambda}}$"
      ],
      "text/plain": [
       "2*(2*C_{1}*(-J + \\hat{\\lambda}**3) + 3*D_{1}*J**(5/3)*\\hat{\\lambda}*(J - 1))/(3*J**(5/3)*\\hat{\\lambda})"
      ]
     },
     "execution_count": 13,
     "metadata": {},
     "output_type": "execute_result"
    }
   ],
   "source": [
    "# Compute Cauchy stress for uniaxial loading case\n",
    "sigma11_uniaxial = sigma11.subs({lambda1:lambda1Function, lambda2:lambda2Function_uniaxial, lambda3:lambda2Function_uniaxial})\n",
    "sigma22_uniaxial = sigma22.subs({lambda1:lambda1Function, lambda2:lambda2Function_uniaxial, lambda3:lambda2Function_uniaxial})\n",
    "sigma33_uniaxial = sigma33.subs({lambda1:lambda1Function, lambda2:lambda2Function_uniaxial, lambda3:lambda2Function_uniaxial})\n",
    "sp.simplify(sigma11_uniaxial)\n"
   ]
  },
  {
   "cell_type": "code",
   "execution_count": 15,
   "metadata": {},
   "outputs": [
    {
     "data": {
      "text/latex": [
       "$\\displaystyle - \\frac{2 C_{1} \\left(J - \\hat{\\lambda}^{3}\\right)}{J^{\\frac{5}{3}} \\hat{\\lambda}}$"
      ],
      "text/plain": [
       "-2*C_{1}*(J - \\hat{\\lambda}**3)/(J**(5/3)*\\hat{\\lambda})"
      ]
     },
     "metadata": {},
     "output_type": "display_data"
    },
    {
     "data": {
      "text/latex": [
       "$\\displaystyle \\frac{2 \\left(C_{1} J - C_{1} \\hat{\\lambda}^{3} + 3 D_{1} J^{\\frac{5}{3}} \\hat{\\lambda} \\left(J - 1\\right)\\right)}{3 J^{\\frac{5}{3}} \\hat{\\lambda}}$"
      ],
      "text/plain": [
       "2*(C_{1}*J - C_{1}*\\hat{\\lambda}**3 + 3*D_{1}*J**(5/3)*\\hat{\\lambda}*(J - 1))/(3*J**(5/3)*\\hat{\\lambda})"
      ]
     },
     "execution_count": 15,
     "metadata": {},
     "output_type": "execute_result"
    }
   ],
   "source": [
    "# Computation of sigma11 now requires value of J\n",
    "# to eliminate J, we exploit that sigma22=sigma33=0\n",
    "# therefore: sigma11 - sigma33 = sigma11\n",
    "sigma_11_33_uniaxial = sp.simplify(sigma11_uniaxial - sigma33_uniaxial)\n",
    "display(sigma_11_33_uniaxial)\n",
    "# equating both expressions for sigma11 provides an expression for J\n",
    "eqn_J = sp.simplify(sigma11_uniaxial - sigma_11_33_uniaxial)\n",
    "sp.simplify(eqn_J)"
   ]
  },
  {
   "cell_type": "code",
   "execution_count": 17,
   "metadata": {},
   "outputs": [
    {
     "data": {
      "text/plain": [
       "[]"
      ]
     },
     "execution_count": 17,
     "metadata": {},
     "output_type": "execute_result"
    }
   ],
   "source": [
    "# this expression has no analytic solution for J\n",
    "J_uniaxial = sp.solve(eqn_J, J)\n",
    "J_uniaxial"
   ]
  },
  {
   "cell_type": "code",
   "execution_count": 80,
   "metadata": {},
   "outputs": [
    {
     "data": {
      "text/latex": [
       "$\\displaystyle - \\frac{4 C_{1}}{9 J^{\\frac{5}{3}} \\hat{\\lambda}} + \\frac{10 C_{1} \\hat{\\lambda}^{2}}{9 J^{\\frac{8}{3}}} + 2 D_{1}$"
      ],
      "text/plain": [
       "-4*C_{1}/(9*J**(5/3)*\\hat{\\lambda}) + 10*C_{1}*\\hat{\\lambda}**2/(9*J**(8/3)) + 2*D_{1}"
      ]
     },
     "execution_count": 80,
     "metadata": {},
     "output_type": "execute_result"
    }
   ],
   "source": [
    "eqn_J_prime = sp.diff(eqn_J, J)\n",
    "eqn_J_prime"
   ]
  },
  {
   "cell_type": "code",
   "execution_count": 81,
   "metadata": {},
   "outputs": [],
   "source": [
    "# therefore we try computing J numerically, given the other parameters: uniaxial stretch ratio, C1, D1\n",
    "from scipy import optimize \n",
    "\n",
    "eqn_J_prime = sp.diff(eqn_J, J)\n",
    "J_est_function = sp.lambdify((J, stretch, C1, D1), eqn_J, 'numpy')\n",
    "J_est_prime_function = sp.lambdify((J, stretch, C1, D1), eqn_J_prime, 'numpy')\n",
    "\n",
    "def compute_J(current_stretch, fixed_C1, fixed_D1):\n",
    "    #J_est = optimize.root_scalar(J_est_function, x0=1, args=(current_stretch, fixed_C1, fixed_D1), method='brentq', bracket=[0.1,10])\n",
    "    J_est = optimize.root_scalar(J_est_function, x0=1, args=(current_stretch, fixed_C1, fixed_D1), method='newton', fprime=J_est_prime_function)\n",
    "    return J_est\n",
    "\n",
    "# test\n",
    "#root = compute_J(current_stretch=0.95, fixed_C1=0.1, fixed_D1=0.01)"
   ]
  },
  {
   "cell_type": "code",
   "execution_count": 83,
   "metadata": {},
   "outputs": [],
   "source": [
    "# compute sigma11 using estimated J for given stretch, C1, D1\n",
    "\n",
    "sigma11_uniaxial_function = sp.lambdify((J, stretch, C1, D1), sigma11_uniaxial, 'numpy')\n",
    "sigma22_uniaxial_function = sp.lambdify((J, stretch, C1, D1), sigma22_uniaxial, 'numpy')\n",
    "\n",
    "def compute_sigmas(stretch_array, C1, D1):\n",
    "    sigma11 = np.zeros(stretch_array.shape)\n",
    "    sigma22 = np.zeros(stretch_array.shape)\n",
    "    for i in range(stretch_array.shape[0]):\n",
    "        current_stretch = stretch_array[i]\n",
    "        try:\n",
    "            root = compute_J(current_stretch, C1, D1)\n",
    "            J_est = root.root\n",
    "            sigma11[i] = sigma11_uniaxial_function(J_est, current_stretch, C1, D1)\n",
    "            sigma22[i] = sigma22_uniaxial_function(J_est, current_stretch, C1, D1)\n",
    "        except Exception as e:\n",
    "            print(e)\n",
    "            sigma11[i] = np.nan\n",
    "            sigma22[i] = np.nan\n",
    "    return sigma11, sigma22"
   ]
  },
  {
   "cell_type": "code",
   "execution_count": 124,
   "metadata": {},
   "outputs": [],
   "source": [
    "C_1 = 1e3\n",
    "D_1 = 1e8\n",
    "\n",
    "stretch_min = 0.1\n",
    "stretch_max = 4\n",
    "stretch_delta = 0.01\n",
    "stretch_array = np.arange(stretch_min,stretch_max,stretch_delta)\n",
    "\n",
    "sigma11, sigma22 = compute_sigmas(stretch_array, C_1, D_1)"
   ]
  },
  {
   "cell_type": "code",
   "execution_count": 125,
   "metadata": {},
   "outputs": [
    {
     "data": {
      "image/png": "[encoded data removed]",
      "text/plain": [
       "<Figure size 720x504 with 1 Axes>"
      ]
     },
     "metadata": {
      "needs_background": "light"
     },
     "output_type": "display_data"
    }
   ],
   "source": [
    "\n",
    "plt.rc('figure', figsize=[10,7])\n",
    "fig = plt.figure()\n",
    "ax = fig.add_subplot(1, 1, 1)\n",
    "ax.cla()\n",
    "ax.plot(stretch_array, sigma11,  color = 'k', linestyle = '-', label='Neo-Hookean')\n",
    "ax.set_xlabel('Stretch ratio (-)')\n",
    "ax.set_ylabel('Stress (kPa)')\n",
    "# plt.xlim([0.8, 1.2])\n",
    "# plt.ylim([-0.5, 0.5])\n",
    "plt.legend(loc='upper left', frameon=True, framealpha=1)\n",
    "plt.show()"
   ]
  },
  {
   "cell_type": "code",
   "execution_count": null,
   "metadata": {},
   "outputs": [],
   "source": []
  },
  {
   "cell_type": "code",
   "execution_count": null,
   "metadata": {},
   "outputs": [],
   "source": []
  },
  {
   "cell_type": "code",
   "execution_count": null,
   "metadata": {},
   "outputs": [],
   "source": []
  }
 ],
 "metadata": {
  "kernelspec": {
   "display_name": "Python 3",
   "language": "python",
   "name": "python3"
  },
  "language_info": {
   "codemirror_mode": {
    "name": "ipython",
    "version": 3
   },
   "file_extension": ".py",
   "mimetype": "text/x-python",
   "name": "python",
   "nbconvert_exporter": "python",
   "pygments_lexer": "ipython3",
   "version": "3.7.5"
  }
 },
 "nbformat": 4,
 "nbformat_minor": 4
}
