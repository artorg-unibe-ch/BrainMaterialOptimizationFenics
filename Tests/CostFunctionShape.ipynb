{
 "cells": [
  {
   "cell_type": "code",
   "execution_count": 2,
   "metadata": {},
   "outputs": [],
   "source": [
    "import numpy as np\n",
    "import os\n",
    "import pandas as pd\n",
    "import SimpleFunctions as SF\n",
    "import matplotlib.pyplot as plt\n",
    "from mpl_toolkits.mplot3d import Axes3D\n",
    "import time\n",
    "from ipywidgets import interact, interactive, fixed, interact_manual\n",
    "import ipywidgets as widgets"
   ]
  },
  {
   "cell_type": "code",
   "execution_count": null,
   "metadata": {},
   "outputs": [],
   "source": [
    "# Grid\n",
    "NPoints = 11\n",
    "Nus     = np.linspace(0.395,0.455,NPoints+1)\n",
    "Mus     = np.linspace(0.2,0.8,NPoints+1)\n",
    "Alphas  = np.linspace(-30,-20,NPoints+1)\n",
    "\n",
    "\n",
    "# Optimization Parameters\n",
    "ConstitutiveModels = ['Ogden', 'Neo-Hookean']\n",
    "ConstitutiveModel = ConstitutiveModels[0]\n",
    "\n",
    "BCsTypes = ['Ideal', 'Fixed']\n",
    "BCsType  = BCsTypes[1]\n",
    "\n",
    "NumberElementsTested = [1, 2, 3, 5, 10, 20]\n",
    "NumberElements = NumberElementsTested[5]\n",
    "\n",
    "LoadCases = ['Compression', 'Tension', 'SimpleShear']\n",
    "RelativeWeights = [1,1,1]\n",
    "\n",
    "\n",
    "# Simulation parameters\n",
    "FinalRelativeStretch = 0.1\n",
    "RelativeStepSize     = 0.02\n",
    "\n",
    "\n",
    "# Folder for the results\n",
    "Output_Path = os.path.join('CostFunctionShape', BCsType, ConstitutiveModel)\n",
    "os.makedirs(Output_Path, exist_ok=True)\n",
    "\n",
    "FileName = str(NumberElements) + 'Elements' + str(NPoints) + '³Points.csv'\n",
    "\n",
    "# Data frame to store values\n",
    "Columns = ['Nu','Mu', 'Alpha', 'TotalCost']\n",
    "DataFrame = pd.DataFrame(columns=Columns, index=range(int((NPoints+1)**3)), dtype='float64')\n",
    "\n",
    "IterationTime = []\n",
    "\n",
    "# Compute the map\n",
    "Point = 0\n",
    "for Nu in range(NPoints+1):\n",
    "    for Mu in range(NPoints+1):        \n",
    "        for Alpha in range(NPoints+1):\n",
    "            \n",
    "            # Initialize time tracking\n",
    "            start = time.time()\n",
    "            \n",
    "            Parameters = [Nus[Nu], Mus[Mu], Alphas[Alpha]]\n",
    "            \n",
    "            TotalCost = SF.CostFunction(Parameters, ConstitutiveModel, BCsType, NumberElements, LoadCases, RelativeWeights, FinalRelativeStretch, RelativeStepSize, Plot = False)\n",
    "            \n",
    "            # Save values to table\n",
    "            Parameters.append(TotalCost)\n",
    "            DataFrame.loc[Point] = Parameters\n",
    "            Point += 1\n",
    "            \n",
    "            IterationTime.append(time.time() - start)\n",
    "\n",
    "# Save table\n",
    "DataFrame.to_csv(os.path.join(Output_Path, FileName), index=False, sep=',')"
   ]
  },
  {
   "cell_type": "code",
   "execution_count": null,
   "metadata": {},
   "outputs": [],
   "source": [
    "IterationTimes = np.array([159.205, 169.551])\n",
    "print('Compilation time: %1.3f'%(IterationTimes[1]-IterationTimes[0]))\n",
    "IterationTimes = np.array([159.205, 169.551, 168.555, 166.909, 165.516])\n",
    "print('Mean Iteration time: %1.3f'%np.mean(IterationTimes))\n",
    "IterationTime = np.array([159.205-158.716, 159.205-157.264, 159.205-155.129])\n",
    "print('Mean time for new mesh generation: %1.3f'%np.mean(IterationTime))\n",
    "a = (NPoints+1)**3*np.mean(IterationTimes)/(3600*24)\n",
    "print('TotalTimeEstimated without new mesh %1.3f'%(a))\n",
    "b = ((NPoints+1)**3)*(np.mean(IterationTimes)+np.mean(IterationTime))/(3600*24)\n",
    "print('TotalTimeEstimated with new mesh %1.3f'%(b))"
   ]
  },
  {
   "cell_type": "code",
   "execution_count": 15,
   "metadata": {},
   "outputs": [
    {
     "name": "stdout",
     "output_type": "stream",
     "text": [
      "Min cost point for:\n",
      "Nu            0.400455\n",
      "Mu            0.636364\n",
      "Alpha       -22.727273\n",
      "TotalCost     0.067716\n",
      "Name: 248, dtype: float64\n"
     ]
    }
   ],
   "source": [
    "NPoints = 11\n",
    "\n",
    "# Optimization Parameters\n",
    "ConstitutiveModels = ['Ogden', 'Neo-Hookean']\n",
    "ConstitutiveModel = ConstitutiveModels[0]\n",
    "\n",
    "BCsTypes = ['Ideal', 'Fixed']\n",
    "BCsType  = BCsTypes[1]\n",
    "\n",
    "\n",
    "NumberElementsTested = [1, 2, 3, 5, 10, 20]\n",
    "NumberElements = NumberElementsTested[5]\n",
    "\n",
    "# Folder for the results\n",
    "Output_Path = os.path.join('CostFunctionShape', BCsType, ConstitutiveModel)\n",
    "Optim_Path = os.path.join('OptimizationResults', BCsType, ConstitutiveModel)\n",
    "\n",
    "os.makedirs(Output_Path, exist_ok=True)\n",
    "\n",
    "FileName = str(NumberElements) + 'Elements' + str(NPoints) + '³Points.csv'\n",
    "OptiName = str(NumberElements) + 'Elements.txt'\n",
    "MarcName = str(NumberElements) + 'Elements-M.txt'\n",
    "\n",
    "# Cost Function Data\n",
    "CostData = pd.read_csv(os.path.join(Output_Path, FileName), sep=',', decimal='.')\n",
    "OptiData = pd.read_csv(os.path.join(Optim_Path, OptiName), sep=' ', decimal='.')\n",
    "MarcData = pd.read_csv(os.path.join(Optim_Path, MarcName), sep=' ', decimal='.')\n",
    "\n",
    "# Row with the minimum cost\n",
    "print('Min cost point for:')\n",
    "print(CostData.loc[CostData['TotalCost'].idxmin()])"
   ]
  },
  {
   "cell_type": "code",
   "execution_count": 78,
   "metadata": {},
   "outputs": [
    {
     "data": {
      "application/vnd.jupyter.widget-view+json": {
       "model_id": "f8ba3320f45348708b16088b74e4ab18",
       "version_major": 2,
       "version_minor": 0
      },
      "text/plain": [
       "Canvas(toolbar=Toolbar(toolitems=[('Home', 'Reset original view', 'home', 'home'), ('Back', 'Back to previous …"
      ]
     },
     "metadata": {},
     "output_type": "display_data"
    },
    {
     "name": "stderr",
     "output_type": "stream",
     "text": [
      "/home/mathieu/miniconda3/envs/fenicsproject/lib/python3.8/site-packages/matplotlib/colors.py:527: RuntimeWarning: invalid value encountered in less\n",
      "  xa[xa < 0] = -1\n"
     ]
    }
   ],
   "source": [
    "# 3D Plot\n",
    "%matplotlib widget\n",
    "plt.rc('figure', figsize=[12,7])\n",
    "fig = plt.figure()\n",
    "ax = fig.add_subplot(111, projection='3d')\n",
    "\n",
    "Nus    = CostData.Nu\n",
    "Mus    = CostData.Mu\n",
    "Alphas = CostData.Alpha\n",
    "Costs  = CostData.TotalCostNormMax\n",
    "\n",
    "DM, MuM, AlphaM = 1.026, 0.458, -59.367\n",
    "NuM = (3-DM*MuM)/(DM*MuM+6)\n",
    "Marcdf = pd.DataFrame([NuM, MuM, AlphaM])\n",
    "\n",
    "Threshold = 1E-0\n",
    "Subsampling = 1\n",
    "\n",
    "Vmin = min(Costs)\n",
    "Vmax = Threshold * (max(Costs) - min(Costs))\n",
    "\n",
    "#img = ax.scatter(Nus, Mus, Alphas, c=Costs, cmap=plt.jet(), vmin=0, vmax=0.1)\n",
    "CostImage = ax.scatter(Nus[0::Subsampling], Mus[0::Subsampling], Alphas[0::Subsampling], c=Costs[0::Subsampling], cmap=plt.gray(), marker = '.', vmin=Vmin, vmax=Vmax, label='Points tested')\n",
    "ColorBar=plt.colorbar(CostImage)\n",
    "ColorBar.set_label('Cost (-)')\n",
    "ax.set_xlabel('Nu (-)')\n",
    "ax.set_ylabel('Mu (kPa)')\n",
    "ax.set_zlabel('Alpha (-)')\n",
    "#ax.plot([Nus[CostData['TotalCost'].idxmin()]], [Mus[CostData['TotalCost'].idxmin()]], [Alphas[CostData['TotalCost'].idxmin()]], marker = 'o', color='k', label='Grid min cost point')\n",
    "ax.plot([OptiData.Nu[0]], [OptiData.Mu[0]], [OptiData.Alpha[0]], marker = 'o', color='m', label='Budday starting point')\n",
    "ax.plot(OptiData.Nu, OptiData.Mu, OptiData.Alpha, marker = None, color='m', label='Optimization path')\n",
    "ax.plot([OptiData.Nu[len(OptiData)-1]], [OptiData.Mu[len(OptiData)-1]], [OptiData.Alpha[len(OptiData)-1]], marker = 'o', color='r', label='Optimization result')\n",
    "ax.plot([MarcData.Nu[0]], [MarcData.Mu[0]], [MarcData.Alpha[0]], marker = 'o', color='c', label='Marc starting point')\n",
    "ax.plot(MarcData.Nu, MarcData.Mu, MarcData.Alpha, marker = None, color='c', label='Optimization path')\n",
    "ax.plot([MarcData.Nu[len(MarcData)-1]], [MarcData.Mu[len(MarcData)-1]], [MarcData.Alpha[len(MarcData)-1]], marker = 'o', color='b', label='Optimization result')\n",
    "ax.plot(Marcdf.loc[0], Marcdf.loc[1], Marcdf.loc[2], marker = 'o', color='g', label='Marc optimization result')\n",
    "ax.legend()\n",
    "plt.show()"
   ]
  },
  {
   "cell_type": "code",
   "execution_count": 42,
   "metadata": {},
   "outputs": [
    {
     "data": {
      "application/vnd.jupyter.widget-view+json": {
       "model_id": "d5a93d48558b4e65b908916fc680ad20",
       "version_major": 2,
       "version_minor": 0
      },
      "text/plain": [
       "Canvas(toolbar=Toolbar(toolitems=[('Home', 'Reset original view', 'home', 'home'), ('Back', 'Back to previous …"
      ]
     },
     "metadata": {},
     "output_type": "display_data"
    }
   ],
   "source": [
    "# Filtering\n",
    "\n",
    "MaxRow = CostData['TotalCost'].idxmax()\n",
    "\n",
    "Threshold = 3.75E-2\n",
    "MaxCost = max(CostData.TotalCost)\n",
    "\n",
    "FilteredCost = pd.DataFrame(columns=CostData.columns)\n",
    "\n",
    "for Point in range(len(CostData)):\n",
    "    CostValue = CostData.TotalCost[Point]\n",
    "    if CostValue < MaxCost * Threshold:\n",
    "        FilteredCost = FilteredCost.append(CostData.loc[Point])\n",
    "        \n",
    "# Filtered 3D Plot\n",
    "%matplotlib widget\n",
    "plt.rc('figure', figsize=[12,7])\n",
    "fig = plt.figure()\n",
    "ax = fig.add_subplot(111, projection='3d')\n",
    "\n",
    "Nus    = FilteredCost.Nu\n",
    "Mus    = FilteredCost.Mu\n",
    "Alphas = FilteredCost.Alpha\n",
    "Costs  = FilteredCost.TotalCost\n",
    "\n",
    "#img = ax.scatter(Nus, Mus, Alphas, c=Costs, cmap=plt.jet(), vmin=0, vmax=0.1)\n",
    "CostImage = ax.scatter(Nus, Mus, Alphas, c=Costs, cmap=plt.viridis(), marker = '.', label='Points tested')\n",
    "ColorBar=plt.colorbar(CostImage)\n",
    "ColorBar.set_label('Cost (-)')\n",
    "ax.set_xlabel('Nu (-)')\n",
    "ax.set_ylabel('Mu (kPa)')\n",
    "ax.set_zlabel('Alpha (-)')\n",
    "ax.plot([Nus[FilteredCost['TotalCost'].idxmin()]], [Mus[FilteredCost['TotalCost'].idxmin()]], [Alphas[FilteredCost['TotalCost'].idxmin()]], marker = 'o', color='k', label='Grid min cost point')\n",
    "ax.plot([OptiData.Nu[len(OptiData)-1]], [OptiData.Mu[len(OptiData)-1]], [OptiData.Alpha[len(OptiData)-1]], marker = 'o', color='r', label='Optimization result')\n",
    "ax.legend()\n",
    "plt.show()"
   ]
  },
  {
   "cell_type": "code",
   "execution_count": 36,
   "metadata": {},
   "outputs": [
    {
     "data": {
      "application/vnd.jupyter.widget-view+json": {
       "model_id": "019afa666f9f4a1b9c28303bcc5dbb89",
       "version_major": 2,
       "version_minor": 0
      },
      "text/plain": [
       "Canvas(toolbar=Toolbar(toolitems=[('Home', 'Reset original view', 'home', 'home'), ('Back', 'Back to previous …"
      ]
     },
     "metadata": {},
     "output_type": "display_data"
    }
   ],
   "source": [
    "# 2D plot\n",
    "%matplotlib widget\n",
    "\n",
    "Xaxes = ['Nu', 'Mu', 'Alpha']\n",
    "Yaxes = ['Nu', 'Mu', 'Alpha']\n",
    "\n",
    "\n",
    "# Plot tuning\n",
    "Xaxis = Xaxes[0]\n",
    "Yaxis = Yaxes[1]\n",
    "Threshold = 7E-2\n",
    "\n",
    "\n",
    "# Plot\n",
    "Vmin = min(CostData.TotalCost)\n",
    "Vmax = Threshold * (max(CostData.TotalCost) - min(CostData.TotalCost))\n",
    "\n",
    "MinPoint = CostData['TotalCost'].idxmin()\n",
    "\n",
    "CostData.plot.scatter(x=Xaxis,y=Yaxis,c='TotalCost', colormap='viridis', vmin=Vmin, vmax=Vmax, marker = '.')\n",
    "plt.plot(CostData[Xaxis][MinPoint], CostData[Yaxis][MinPoint], marker = 'o', color='k', markersize=10, fillstyle='none', label='Grid min cost point')\n",
    "plt.plot([OptiData[Xaxis][len(OptiData)-1]], [OptiData[Yaxis][len(OptiData)-1]], marker = 'o', color='r', markersize=10, fillstyle='none', label='Optimization result')\n",
    "plt.legend(loc='lower right')\n",
    "plt.show()"
   ]
  },
  {
   "cell_type": "code",
   "execution_count": 35,
   "metadata": {},
   "outputs": [
    {
     "data": {
      "application/vnd.jupyter.widget-view+json": {
       "model_id": "1a22516509724b398fe865f75598d63c",
       "version_major": 2,
       "version_minor": 0
      },
      "text/plain": [
       "Canvas(toolbar=Toolbar(toolitems=[('Home', 'Reset original view', 'home', 'home'), ('Back', 'Back to previous …"
      ]
     },
     "metadata": {},
     "output_type": "display_data"
    }
   ],
   "source": [
    "%matplotlib widget\n",
    "\n",
    "CostData.Nu\n",
    "NuContour    = np.array(CostData.Nu[0:12**3:12**2])\n",
    "MuContour    = np.array(CostData.Mu[0:12**2:12**1])\n",
    "AlphaContour = np.array(CostData.Alpha[0:12**1:12**0])\n",
    "\n",
    "NuMuCost    = np.array(CostData.TotalCost[int(np.argwhere(AlphaContour == CostData.Alpha[MinPoint])):12**3:12**1])\n",
    "\n",
    "plt.rc('figure', figsize=[12,7])\n",
    "fig = plt.figure()\n",
    "ax = fig.add_subplot(111)\n",
    "CostContour = plt.contour(NuContour, MuContour, NuMuCost.reshape(12,12), np.linspace(min(NuMuCost), max(NuMuCost), 50))\n",
    "ColorBar=plt.colorbar(CostContour)\n",
    "ColorBar.set_label('Cost (-)')\n",
    "plt.plot(CostData.Nu[MinPoint], CostData.Mu[MinPoint], marker = 'o', color='k', markersize=10, label='Grid min cost point')\n",
    "plt.plot([OptiData.Nu[len(OptiData)-1]], [OptiData.Mu[len(OptiData)-1]], marker = 'o', color='r', markersize=10, label='Optimization result')\n",
    "ax.set_xlabel('Nu (-)')\n",
    "ax.set_ylabel('Mu (kPa)')\n",
    "plt.legend(loc='lower right', framealpha=1)\n",
    "plt.show()"
   ]
  },
  {
   "cell_type": "code",
   "execution_count": 1,
   "metadata": {},
   "outputs": [
    {
     "ename": "NameError",
     "evalue": "name 'pd' is not defined",
     "output_type": "error",
     "traceback": [
      "\u001b[0;31m---------------------------------------------------------------------------\u001b[0m",
      "\u001b[0;31mNameError\u001b[0m                                 Traceback (most recent call last)",
      "\u001b[0;32m<ipython-input-1-6c917095c3fb>\u001b[0m in \u001b[0;36m<module>\u001b[0;34m\u001b[0m\n\u001b[0;32m----> 1\u001b[0;31m \u001b[0mCostData\u001b[0m \u001b[0;34m=\u001b[0m \u001b[0mpd\u001b[0m\u001b[0;34m.\u001b[0m\u001b[0mDataFrame\u001b[0m\u001b[0;34m(\u001b[0m\u001b[0mdtype\u001b[0m\u001b[0;34m=\u001b[0m\u001b[0;34m'float64'\u001b[0m\u001b[0;34m)\u001b[0m\u001b[0;34m\u001b[0m\u001b[0;34m\u001b[0m\u001b[0m\n\u001b[0m\u001b[1;32m      2\u001b[0m \u001b[0mValues\u001b[0m \u001b[0;34m=\u001b[0m \u001b[0mpd\u001b[0m\u001b[0;34m.\u001b[0m\u001b[0mread_csv\u001b[0m\u001b[0;34m(\u001b[0m\u001b[0;34m'CostFunctionGrid/Ranges.txt'\u001b[0m\u001b[0;34m,\u001b[0m \u001b[0msep\u001b[0m\u001b[0;34m=\u001b[0m\u001b[0;34m','\u001b[0m\u001b[0;34m,\u001b[0m \u001b[0mdecimal\u001b[0m\u001b[0;34m=\u001b[0m\u001b[0;34m'.'\u001b[0m\u001b[0;34m)\u001b[0m\u001b[0;34m\u001b[0m\u001b[0;34m\u001b[0m\u001b[0m\n\u001b[1;32m      3\u001b[0m \u001b[0;34m\u001b[0m\u001b[0m\n\u001b[1;32m      4\u001b[0m \u001b[0;32mfor\u001b[0m \u001b[0mIteration\u001b[0m \u001b[0;32min\u001b[0m \u001b[0mrange\u001b[0m\u001b[0;34m(\u001b[0m\u001b[0;36m0\u001b[0m\u001b[0;34m,\u001b[0m\u001b[0;36m10\u001b[0m\u001b[0;34m,\u001b[0m\u001b[0;36m2\u001b[0m\u001b[0;34m)\u001b[0m\u001b[0;34m:\u001b[0m\u001b[0;34m\u001b[0m\u001b[0;34m\u001b[0m\u001b[0m\n\u001b[1;32m      5\u001b[0m \u001b[0;34m\u001b[0m\u001b[0m\n",
      "\u001b[0;31mNameError\u001b[0m: name 'pd' is not defined"
     ]
    }
   ],
   "source": [
    "CostData = pd.DataFrame(dtype='float64')\n",
    "Values = pd.read_csv('CostFunctionGrid/Ranges.txt', sep=',', decimal='.')\n",
    "\n",
    "for Iteration in range(0,10,2):\n",
    "    \n",
    "    print('Iteration %i'%(Iteration))\n",
    "\n",
    "    Vals = np.array([Values.loc[Iteration].Nu, Values.loc[Iteration+1].Nu, Values.loc[Iteration].Mu, Values.loc[Iteration+1].Mu, Values.loc[Iteration].Alpha, Values.loc[Iteration+1].Alpha])\n",
    "    print('Values given')\n",
    "    print(Vals)\n",
    "    \n",
    "    CostFile = pd.read_csv('CostFunctionGrid/Results' + str(Iteration) + '.csv', sep=',', decimal='.')\n",
    "    \n",
    "    Range  = np.array([CostFile.Nu.min(), CostFile.Nu.max(), CostFile.Mu.min(), CostFile.Mu.max(), CostFile.Alpha.min(), CostFile.Alpha.max()])\n",
    "    print('Values in results file')\n",
    "    print(Range)\n",
    "    \n",
    "    CostData = CostData.append(CostFile, ignore_index=True)"
   ]
  },
  {
   "cell_type": "code",
   "execution_count": 5,
   "metadata": {},
   "outputs": [
    {
     "name": "stdout",
     "output_type": "stream",
     "text": [
      "Main field is cut into 8 subfields\n",
      "[0.445 0.47  0.495]\n",
      "[0.1 0.4 0.7]\n",
      "[-60. -40. -20.]\n"
     ]
    }
   ],
   "source": [
    "import numpy as np\n",
    "SubFields = 2\n",
    "print('Main field is cut into %.i subfields'%(SubFields**3))\n",
    "Nus = np.linspace(0.445,0.495,SubFields+1)\n",
    "Mus = np.linspace(0.1,0.7,SubFields+1)\n",
    "Alphas = np.linspace(-60,-20,SubFields+1)\n",
    "\n",
    "Nus = np.round(Nus,3)\n",
    "Mus = np.round(Mus,3)\n",
    "Alphas = np.round(Alphas,3)\n",
    "\n",
    "\n",
    "print(Nus)\n",
    "print(Mus)\n",
    "print(Alphas)"
   ]
  },
  {
   "cell_type": "code",
   "execution_count": 7,
   "metadata": {},
   "outputs": [
    {
     "data": {
      "text/plain": [
       "array([0.445, 0.45 , 0.455, 0.46 , 0.465, 0.47 ])"
      ]
     },
     "execution_count": 7,
     "metadata": {},
     "output_type": "execute_result"
    }
   ],
   "source": [
    "np.linspace(Nus[0],Nus[1],6)"
   ]
  },
  {
   "cell_type": "code",
   "execution_count": 10,
   "metadata": {},
   "outputs": [
    {
     "data": {
      "text/plain": [
       "array([0.1 , 0.12, 0.14, 0.16, 0.18, 0.2 , 0.22, 0.24, 0.26, 0.28, 0.3 ,\n",
       "       0.32, 0.34, 0.36, 0.38, 0.4 ])"
      ]
     },
     "execution_count": 10,
     "metadata": {},
     "output_type": "execute_result"
    }
   ],
   "source": [
    "np.linspace(Mus[0],Mus[1],16)"
   ]
  },
  {
   "cell_type": "code",
   "execution_count": 33,
   "metadata": {},
   "outputs": [
    {
     "data": {
      "text/plain": [
       "array([0.1 , 0.15, 0.2 , 0.25, 0.3 , 0.35, 0.4 ])"
      ]
     },
     "execution_count": 33,
     "metadata": {},
     "output_type": "execute_result"
    }
   ],
   "source": [
    "np.linspace(Alphas[0],Alphas[1],21)"
   ]
  },
  {
   "cell_type": "code",
   "execution_count": 11,
   "metadata": {},
   "outputs": [
    {
     "name": "stdout",
     "output_type": "stream",
     "text": [
      "    Alpha   Mu     Nu\n",
      "0   -60.0  0.1  0.445\n",
      "1   -40.0  0.4  0.470\n",
      "2   -40.0  0.1  0.445\n",
      "3   -20.0  0.4  0.470\n",
      "4   -60.0  0.4  0.445\n",
      "5   -40.0  0.7  0.470\n",
      "6   -40.0  0.4  0.445\n",
      "7   -20.0  0.7  0.470\n",
      "8   -60.0  0.1  0.470\n",
      "9   -40.0  0.4  0.495\n",
      "10  -40.0  0.1  0.470\n",
      "11  -20.0  0.4  0.495\n",
      "12  -60.0  0.4  0.470\n",
      "13  -40.0  0.7  0.495\n",
      "14  -40.0  0.4  0.470\n",
      "15  -20.0  0.7  0.495\n"
     ]
    }
   ],
   "source": [
    "import pandas as pd\n",
    "Values = pd.DataFrame(dtype='float64')\n",
    "for Nu in range(SubFields):\n",
    "    for Mu in range(SubFields):\n",
    "        for Alpha in range(SubFields):\n",
    "\n",
    "            Range  = np.array([Nus[Nu], Mus[Mu], Alphas[Alpha],Nus[Nu+1], Mus[Mu+1], Alphas[Alpha+1]])\n",
    "            Range  = np.reshape(Range,(2,3))\n",
    "            Range1 = {'Nu':Range[0,0], 'Mu':Range[0,1], 'Alpha':Range[0,2]}\n",
    "            Range2 = {'Nu':Range[1,0], 'Mu':Range[1,1], 'Alpha':Range[1,2]}\n",
    "\n",
    "            Values = Values.append(Range1, ignore_index=True)\n",
    "            Values = Values.append(Range2, ignore_index=True)\n",
    "\n",
    "print(Values)\n",
    "Values.to_csv('Ranges.txt', index=False)"
   ]
  },
  {
   "cell_type": "code",
   "execution_count": 103,
   "metadata": {},
   "outputs": [
    {
     "data": {
      "text/plain": [
       "0.495"
      ]
     },
     "execution_count": 103,
     "metadata": {},
     "output_type": "execute_result"
    }
   ],
   "source": [
    "Values.loc[249].Nu"
   ]
  },
  {
   "cell_type": "code",
   "execution_count": 13,
   "metadata": {},
   "outputs": [
    {
     "data": {
      "text/plain": [
       "8064"
      ]
     },
     "execution_count": 13,
     "metadata": {},
     "output_type": "execute_result"
    }
   ],
   "source": [
    "6*16*21*4"
   ]
  },
  {
   "cell_type": "code",
   "execution_count": null,
   "metadata": {},
   "outputs": [],
   "source": []
  }
 ],
 "metadata": {
  "kernelspec": {
   "display_name": "Python 3",
   "language": "python",
   "name": "python3"
  },
  "language_info": {
   "codemirror_mode": {
    "name": "ipython",
    "version": 3
   },
   "file_extension": ".py",
   "mimetype": "text/x-python",
   "name": "python",
   "nbconvert_exporter": "python",
   "pygments_lexer": "ipython3",
   "version": "3.8.2"
  }
 },
 "nbformat": 4,
 "nbformat_minor": 4
}
