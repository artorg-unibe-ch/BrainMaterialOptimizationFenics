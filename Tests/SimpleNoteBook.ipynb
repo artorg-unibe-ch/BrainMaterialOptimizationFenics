{
 "cells": [
  {
   "cell_type": "code",
   "execution_count": null,
   "metadata": {},
   "outputs": [],
   "source": [
    "# import sys\n",
    "# sys.path.insert(0, \"/home/msimon/Desktop/FEniCS/Tests\")\n",
    "import SimpleFunctions as SF"
   ]
  },
  {
   "cell_type": "code",
   "execution_count": null,
   "metadata": {},
   "outputs": [],
   "source": [
    "ConstitutiveModels = ['Ogden', 'Neo-Hookean']\n",
    "ConstitutiveModel = ConstitutiveModels[0]\n",
    "\n",
    "NumberElementsTested = [1, 2, 3, 5, 10, 20]\n",
    "NumberElements = NumberElementsTested[1]\n",
    "\n",
    "LoadCases = ['Compression', 'Tension', 'SimpleShear']\n",
    "RelativeWeights = [1,1,1]\n",
    "\n",
    "\n",
    "FinalRelativeStretch = 0.1\n",
    "RelativeStepSize     = 0.02\n",
    "\n",
    "\n",
    "#for NumberElements in NumberElementsTested:\n",
    "ResultsOptimization = SF.ParametersOptimization(ConstitutiveModel, NumberElements, LoadCases, RelativeWeights, FinalRelativeStretch, RelativeStepSize)"
   ]
  }
 ],
 "metadata": {
  "kernelspec": {
   "display_name": "Python 3",
   "language": "python",
   "name": "python3"
  },
  "language_info": {
   "codemirror_mode": {
    "name": "ipython",
    "version": 3
   },
   "file_extension": ".py",
   "mimetype": "text/x-python",
   "name": "python",
   "nbconvert_exporter": "python",
   "pygments_lexer": "ipython3",
   "version": "3.8.2"
  }
 },
 "nbformat": 4,
 "nbformat_minor": 4
}
