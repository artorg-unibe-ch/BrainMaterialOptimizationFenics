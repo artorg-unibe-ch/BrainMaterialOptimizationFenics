{
 "cells": [
  {
   "cell_type": "code",
   "execution_count": 4,
   "metadata": {},
   "outputs": [
    {
     "ename": "SyntaxError",
     "evalue": "invalid syntax (CompressibleOgdenFunctions.py, line 72)",
     "output_type": "error",
     "traceback": [
      "Traceback \u001b[0;36m(most recent call last)\u001b[0m:\n",
      "  File \u001b[1;32m\"/home/msimon/anaconda3/envs/fenicsenv/lib/python3.7/site-packages/IPython/core/interactiveshell.py\"\u001b[0m, line \u001b[1;32m3331\u001b[0m, in \u001b[1;35mrun_code\u001b[0m\n    exec(code_obj, self.user_global_ns, self.user_ns)\n",
      "\u001b[0;36m  File \u001b[0;32m\"<ipython-input-4-6454d2f2cd51>\"\u001b[0;36m, line \u001b[0;32m3\u001b[0;36m, in \u001b[0;35m<module>\u001b[0;36m\u001b[0m\n\u001b[0;31m    import CompressibleOgdenFunctions as COg\u001b[0m\n",
      "\u001b[0;36m  File \u001b[0;32m\"/home/msimon/Desktop/FEniCS/Tests/CompressibleOgdenFunctions.py\"\u001b[0;36m, line \u001b[0;32m72\u001b[0m\n\u001b[0;31m    u_1 = fe.Expression(('0', '0', '(s-1)*h'), degree=1, s = InitialState, h = Dimensions[2] )        # Displacement imposed\u001b[0m\n\u001b[0m      ^\u001b[0m\n\u001b[0;31mSyntaxError\u001b[0m\u001b[0;31m:\u001b[0m invalid syntax\n"
     ]
    }
   ],
   "source": [
    "# import sys\n",
    "# sys.path.insert(0, \"/home/msimon/Desktop/FEniCS/Tests\")\n",
    "import CompressibleOgdenFunctions as COg\n",
    "import pandas as pd"
   ]
  },
  {
   "cell_type": "code",
   "execution_count": null,
   "metadata": {},
   "outputs": [],
   "source": [
    "Nu = 0.49\n",
    "FinalRelativeStretch = 0.1\n",
    "RelativeStepSize     = 0.02\n",
    "Dimensions = [5,5,5]\n",
    "LoadCases = ['Compression', 'Tension', 'Simple Shear']\n",
    "RelativeWeights = [1,1,1]\n",
    "NumberElementsTested = [1, 2, 3, 5, 10, 20]\n",
    "\n",
    "for NumberElements in NumberElementsTested:\n",
    "    ResOpt = COg.OgdenOptimization(Nu, LoadCases, RelativeWeights, NumberElements, FinalRelativeStretch, RelativeStepSize, Dimensions)"
   ]
  },
  {
   "cell_type": "code",
   "execution_count": null,
   "metadata": {},
   "outputs": [],
   "source": [
    "Nu = 0.49\n",
    "Mu    = 0.66                          # (kPa)\n",
    "Alpha = -24.3                         # (-)\n",
    "LoadCases = ['Compression', 'Tension', 'Simple Shear']\n",
    "RelativeWeights = [1,1,1]\n",
    "FinalRelativeStretch = 0.1\n",
    "RelativeStepSize     = 0.02\n",
    "Dimensions = [5,5,5]\n",
    "NumberElements = 2\n",
    "# Mu, Alpha = ResOpt.x\n",
    "COg.OgdenCostFunction([ Mu, Alpha], Nu, LoadCases, RelativeWeights, NumberElements, FinalRelativeStretch, RelativeStepSize, Dimensions, Plot = True)"
   ]
  },
  {
   "cell_type": "code",
   "execution_count": null,
   "metadata": {},
   "outputs": [],
   "source": [
    "import pandas as pd                       # Allows to use data in tables\n",
    "import matplotlib.pyplot as plt           # Allows to do plots\n",
    "\n",
    "\n",
    "NumberElementsTested = [1]\n",
    "NumberElements = NumberElementsTested[0]\n",
    "\n",
    "df = pd.read_csv(str(NumberElements) + 'ElementsOptimizationResults.txt', sep=' ', decimal='.')\n",
    "\n",
    "plt.rc('figure', figsize=[36,7])\n",
    "fig = plt.figure()\n",
    "ax = fig.add_subplot(1, 3, 1)\n",
    "ax.cla()\n",
    "ax.plot(df.Mu,  color = 'r', linestyle = '--', marker = 'o', markersize = 8, fillstyle='none')\n",
    "ax.set_xlabel('Iteration number(-)')\n",
    "ax.set_ylabel('Mu (kPa)')\n",
    "\n",
    "ax = fig.add_subplot(1, 3, 2)\n",
    "ax.cla()\n",
    "ax.plot(df.Alpha,  color = 'b', linestyle = '--', marker = 'o', markersize = 8, fillstyle='none')\n",
    "ax.set_xlabel('Iteration number(-)')\n",
    "ax.set_ylabel('Alpha (-)')\n",
    "\n",
    "ax = fig.add_subplot(1, 3, 3)\n",
    "ax.cla()\n",
    "ax.plot(df.TotalCost,  color = 'g', linestyle = '--', marker = 'o', markersize = 8, fillstyle='none')\n",
    "ax.set_xlabel('Iteration number(-)')\n",
    "ax.set_ylabel('Cost (-)')\n",
    "\n",
    "dt = pd.read_csv('OptimizationTime.txt', header=None)\n",
    "\n",
    "plt.rc('figure', figsize=[12,7])\n",
    "fig = plt.figure()\n",
    "ax = fig.add_subplot(1, 1, 1)\n",
    "ax.cla()\n",
    "ax.plot(dt,  color = 'r', linestyle = '--', marker = 'o', markersize = 8, fillstyle='none')\n",
    "ax.set_xlabel('Iteration number(-)')\n",
    "ax.set_ylabel('Iteration Time (s)')"
   ]
  },
  {
   "cell_type": "code",
   "execution_count": null,
   "metadata": {},
   "outputs": [],
   "source": []
  }
 ],
 "metadata": {
  "kernelspec": {
   "display_name": "Python 3",
   "language": "python",
   "name": "python3"
  },
  "language_info": {
   "codemirror_mode": {
    "name": "ipython",
    "version": 3
   },
   "file_extension": ".py",
   "mimetype": "text/x-python",
   "name": "python",
   "nbconvert_exporter": "python",
   "pygments_lexer": "ipython3",
   "version": "3.7.6"
  }
 },
 "nbformat": 4,
 "nbformat_minor": 4
}
