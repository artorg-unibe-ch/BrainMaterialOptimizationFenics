{
 "cells": [
  {
   "cell_type": "code",
   "execution_count": 98,
   "metadata": {},
   "outputs": [],
   "source": [
    "import numpy as np\n",
    "import os\n",
    "import pandas as pd\n",
    "import SimpleFunctions as SF\n",
    "import matplotlib.pyplot as plt\n",
    "from mpl_toolkits.mplot3d import Axes3D\n",
    "import time\n",
    "from ipywidgets import interact, interactive, fixed, interact_manual\n",
    "import ipywidgets as widgets"
   ]
  },
  {
   "cell_type": "code",
   "execution_count": 5,
   "metadata": {},
   "outputs": [
    {
     "name": "stdout",
     "output_type": "stream",
     "text": [
      "Cost: 0.6728551739120215\n",
      "Time elapsed 158.716\n",
      "Cost: 0.6973165569096245\n",
      "Time elapsed 157.264\n",
      "Cost: 0.7211306138953143\n",
      "Time elapsed 155.129\n"
     ]
    },
    {
     "ename": "KeyboardInterrupt",
     "evalue": "",
     "output_type": "error",
     "traceback": [
      "\u001b[0;31m---------------------------------------------------------------------------\u001b[0m",
      "\u001b[0;31mKeyboardInterrupt\u001b[0m                         Traceback (most recent call last)",
      "\u001b[0;32m<ipython-input-5-f95540e188d1>\u001b[0m in \u001b[0;36m<module>\u001b[0;34m\u001b[0m\n\u001b[1;32m     52\u001b[0m             \u001b[0mParameters\u001b[0m \u001b[0;34m=\u001b[0m \u001b[0;34m[\u001b[0m\u001b[0mNus\u001b[0m\u001b[0;34m[\u001b[0m\u001b[0mNu\u001b[0m\u001b[0;34m]\u001b[0m\u001b[0;34m,\u001b[0m \u001b[0mMus\u001b[0m\u001b[0;34m[\u001b[0m\u001b[0mMu\u001b[0m\u001b[0;34m]\u001b[0m\u001b[0;34m,\u001b[0m \u001b[0mAlphas\u001b[0m\u001b[0;34m[\u001b[0m\u001b[0mAlpha\u001b[0m\u001b[0;34m]\u001b[0m\u001b[0;34m]\u001b[0m\u001b[0;34m\u001b[0m\u001b[0;34m\u001b[0m\u001b[0m\n\u001b[1;32m     53\u001b[0m \u001b[0;34m\u001b[0m\u001b[0m\n\u001b[0;32m---> 54\u001b[0;31m             \u001b[0mTotalCost\u001b[0m \u001b[0;34m=\u001b[0m \u001b[0mSF\u001b[0m\u001b[0;34m.\u001b[0m\u001b[0mCostFunction\u001b[0m\u001b[0;34m(\u001b[0m\u001b[0mParameters\u001b[0m\u001b[0;34m,\u001b[0m \u001b[0mConstitutiveModel\u001b[0m\u001b[0;34m,\u001b[0m \u001b[0mBCsType\u001b[0m\u001b[0;34m,\u001b[0m \u001b[0mNumberElements\u001b[0m\u001b[0;34m,\u001b[0m \u001b[0mLoadCases\u001b[0m\u001b[0;34m,\u001b[0m \u001b[0mRelativeWeights\u001b[0m\u001b[0;34m,\u001b[0m \u001b[0mFinalRelativeStretch\u001b[0m\u001b[0;34m,\u001b[0m \u001b[0mRelativeStepSize\u001b[0m\u001b[0;34m,\u001b[0m \u001b[0mMesh\u001b[0m\u001b[0;34m,\u001b[0m \u001b[0mV\u001b[0m\u001b[0;34m,\u001b[0m \u001b[0mu\u001b[0m\u001b[0;34m,\u001b[0m \u001b[0mdu\u001b[0m\u001b[0;34m,\u001b[0m \u001b[0mv\u001b[0m\u001b[0;34m,\u001b[0m \u001b[0mF\u001b[0m\u001b[0;34m,\u001b[0m \u001b[0mJ\u001b[0m\u001b[0;34m,\u001b[0m \u001b[0mC\u001b[0m\u001b[0;34m,\u001b[0m \u001b[0mIc\u001b[0m\u001b[0;34m,\u001b[0m \u001b[0mPlot\u001b[0m \u001b[0;34m=\u001b[0m \u001b[0;32mFalse\u001b[0m\u001b[0;34m)\u001b[0m\u001b[0;34m\u001b[0m\u001b[0;34m\u001b[0m\u001b[0m\n\u001b[0m\u001b[1;32m     55\u001b[0m \u001b[0;34m\u001b[0m\u001b[0m\n\u001b[1;32m     56\u001b[0m             \u001b[0;31m# Save values to table\u001b[0m\u001b[0;34m\u001b[0m\u001b[0;34m\u001b[0m\u001b[0;34m\u001b[0m\u001b[0m\n",
      "\u001b[0;32m~/Desktop/FEniCS/Tests/SimpleFunctions.py\u001b[0m in \u001b[0;36mCostFunction\u001b[0;34m(Parameters, ConstitutiveModel, BCsType, NumberElements, LoadCases, RelativeWeights, FinalRelativeStretch, RelativeStepSize, Mesh, V, u, du, v, F, J, C, Ic, Dimensions, Plot)\u001b[0m\n\u001b[1;32m    485\u001b[0m \u001b[0;34m\u001b[0m\u001b[0m\n\u001b[1;32m    486\u001b[0m         \u001b[0;31m# Solve\u001b[0m\u001b[0;34m\u001b[0m\u001b[0;34m\u001b[0m\u001b[0;34m\u001b[0m\u001b[0m\n\u001b[0;32m--> 487\u001b[0;31m         \u001b[0mDataFrame\u001b[0m \u001b[0;34m=\u001b[0m \u001b[0mSolveProblem\u001b[0m\u001b[0;34m(\u001b[0m\u001b[0mLoadCase\u001b[0m\u001b[0;34m,\u001b[0m \u001b[0mConstitutiveModel\u001b[0m\u001b[0;34m,\u001b[0m \u001b[0mBCsType\u001b[0m\u001b[0;34m,\u001b[0m \u001b[0mFinalRelativeStretch\u001b[0m\u001b[0;34m,\u001b[0m \u001b[0mRelativeStepSize\u001b[0m\u001b[0;34m,\u001b[0m \u001b[0mDimensions\u001b[0m\u001b[0;34m,\u001b[0m \u001b[0mNumberElements\u001b[0m\u001b[0;34m,\u001b[0m \u001b[0mMesh\u001b[0m\u001b[0;34m,\u001b[0m \u001b[0mV\u001b[0m\u001b[0;34m,\u001b[0m \u001b[0mu\u001b[0m\u001b[0;34m,\u001b[0m \u001b[0mdu\u001b[0m\u001b[0;34m,\u001b[0m \u001b[0mv\u001b[0m\u001b[0;34m,\u001b[0m \u001b[0mIc\u001b[0m\u001b[0;34m,\u001b[0m \u001b[0mJ\u001b[0m\u001b[0;34m,\u001b[0m \u001b[0mF\u001b[0m\u001b[0;34m,\u001b[0m \u001b[0mPsi\u001b[0m\u001b[0;34m)\u001b[0m\u001b[0;34m\u001b[0m\u001b[0;34m\u001b[0m\u001b[0m\n\u001b[0m\u001b[1;32m    488\u001b[0m \u001b[0;34m\u001b[0m\u001b[0m\n\u001b[1;32m    489\u001b[0m         \u001b[0;31m# Interpolation\u001b[0m\u001b[0;34m\u001b[0m\u001b[0;34m\u001b[0m\u001b[0;34m\u001b[0m\u001b[0m\n",
      "\u001b[0;32m~/Desktop/FEniCS/Tests/SimpleFunctions.py\u001b[0m in \u001b[0;36mSolveProblem\u001b[0;34m(LoadCase, ConstitutiveModel, BCsType, FinalRelativeStretch, RelativeStepSize, Dimensions, NumberElements, Mesh, V, u, du, v, Ic, J, F, Psi, Plot, Paraview)\u001b[0m\n\u001b[1;32m    353\u001b[0m \u001b[0;34m\u001b[0m\u001b[0m\n\u001b[1;32m    354\u001b[0m         \u001b[0;31m# Compute solution and save displacement\u001b[0m\u001b[0;34m\u001b[0m\u001b[0;34m\u001b[0m\u001b[0;34m\u001b[0m\u001b[0m\n\u001b[0;32m--> 355\u001b[0;31m         \u001b[0mSolver\u001b[0m\u001b[0;34m.\u001b[0m\u001b[0msolve\u001b[0m\u001b[0;34m(\u001b[0m\u001b[0;34m)\u001b[0m\u001b[0;34m\u001b[0m\u001b[0;34m\u001b[0m\u001b[0m\n\u001b[0m\u001b[1;32m    356\u001b[0m \u001b[0;34m\u001b[0m\u001b[0m\n\u001b[1;32m    357\u001b[0m         \u001b[0;31m# First Piola Kirchoff (nominal) stress\u001b[0m\u001b[0;34m\u001b[0m\u001b[0;34m\u001b[0m\u001b[0;34m\u001b[0m\u001b[0m\n",
      "\u001b[0;31mKeyboardInterrupt\u001b[0m: "
     ]
    }
   ],
   "source": [
    "# Grid\n",
    "NPoints = 11\n",
    "Nus     = np.linspace(0.395,0.455,NPoints+1)\n",
    "Mus     = np.linspace(0.2,0.8,NPoints+1)\n",
    "Alphas  = np.linspace(-30,-20,NPoints+1)\n",
    "\n",
    "\n",
    "# Optimization Parameters\n",
    "ConstitutiveModels = ['Ogden', 'Neo-Hookean']\n",
    "ConstitutiveModel = ConstitutiveModels[0]\n",
    "\n",
    "BCsTypes = ['Ideal', 'Fixed']\n",
    "BCsType  = BCsTypes[1]\n",
    "\n",
    "NumberElementsTested = [1, 2, 3, 5, 10, 20]\n",
    "NumberElements = NumberElementsTested[5]\n",
    "\n",
    "LoadCases = ['Compression', 'Tension', 'SimpleShear']\n",
    "RelativeWeights = [1,1,1]\n",
    "\n",
    "\n",
    "# Simulation parameters\n",
    "FinalRelativeStretch = 0.1\n",
    "RelativeStepSize     = 0.02\n",
    "\n",
    "\n",
    "# Folder for the results\n",
    "Output_Path = os.path.join('CostFunctionShape', BCsType, ConstitutiveModel)\n",
    "os.makedirs(Output_Path, exist_ok=True)\n",
    "\n",
    "FileName = str(NumberElements) + 'Elements' + str(NPoints) + '³Points.csv'\n",
    "\n",
    "# Data frame to store values\n",
    "Columns = ['Nu','Mu', 'Alpha', 'TotalCost']\n",
    "DataFrame = pd.DataFrame(columns=Columns, index=range(int((NPoints+1)**3)), dtype='float64')\n",
    "\n",
    "# Mesh\n",
    "Dimensions=[5,5,5]\n",
    "[Mesh, V, u, du, v] = SF.MeshDefinition(Dimensions, NumberElements)\n",
    "[F, J, C, Ic] = SF.Kinematics(u)\n",
    "\n",
    "\n",
    "# Compute the map\n",
    "Point = 0\n",
    "for Nu in range(NPoints+1):\n",
    "    for Mu in range(NPoints+1):        \n",
    "        for Alpha in range(NPoints+1):\n",
    "            \n",
    "            # Initialize time tracking\n",
    "            start = time.time()\n",
    "            \n",
    "            Parameters = [Nus[Nu], Mus[Mu], Alphas[Alpha]]\n",
    "            \n",
    "            TotalCost = SF.CostFunction(Parameters, ConstitutiveModel, BCsType, NumberElements, LoadCases, RelativeWeights, FinalRelativeStretch, RelativeStepSize, Mesh, V, u, du, v, F, J, C, Ic, Plot = False)\n",
    "            \n",
    "            # Save values to table\n",
    "            Parameters.append(TotalCost)\n",
    "            DataFrame.loc[Point] = Parameters\n",
    "            Point += 1\n",
    "            \n",
    "            print('Time elapsed %1.3f'%(time.time() - start))\n",
    "\n",
    "# Save table\n",
    "DataFrame.to_csv(os.path.join(Output_Path, FileName), index=False, sep=',')"
   ]
  },
  {
   "cell_type": "code",
   "execution_count": 19,
   "metadata": {},
   "outputs": [
    {
     "name": "stdout",
     "output_type": "stream",
     "text": [
      "Compilation time: 10.346\n",
      "Mean Iteration time: 165.947\n",
      "Mean time for new mesh generation: 2.169\n",
      "TotalTimeEstimated without new mesh 79.655\n",
      "TotalTimeEstimated with new mesh 80.696\n"
     ]
    }
   ],
   "source": [
    "IterationTimes = np.array([159.205, 169.551])\n",
    "print('Compilation time: %1.3f'%(IterationTimes[1]-IterationTimes[0]))\n",
    "IterationTimes = np.array([159.205, 169.551, 168.555, 166.909, 165.516])\n",
    "print('Mean Iteration time: %1.3f'%np.mean(IterationTimes))\n",
    "IterationTime = np.array([159.205-158.716, 159.205-157.264, 159.205-155.129])\n",
    "print('Mean time for new mesh generation: %1.3f'%np.mean(IterationTime))\n",
    "a = (NPoints+1)**3*np.mean(IterationTimes)/(3600)\n",
    "print('TotalTimeEstimated without new mesh %1.3f'%(a))\n",
    "b = ((NPoints+1)**3)*(np.mean(IterationTimes)+np.mean(IterationTime))/(3600)\n",
    "print('TotalTimeEstimated with new mesh %1.3f'%(b))"
   ]
  },
  {
   "cell_type": "code",
   "execution_count": 20,
   "metadata": {},
   "outputs": [
    {
     "name": "stdout",
     "output_type": "stream",
     "text": [
      "Min cost point for:\n",
      "Nu            0.405000\n",
      "Mu            0.300700\n",
      "Alpha       -34.000000\n",
      "TotalCost     0.030805\n",
      "Name: 157, dtype: float64\n"
     ]
    }
   ],
   "source": [
    "NPoints = 10\n",
    "\n",
    "# Optimization Parameters\n",
    "ConstitutiveModels = ['Ogden', 'Neo-Hookean']\n",
    "ConstitutiveModel = ConstitutiveModels[0]\n",
    "\n",
    "BCsTypes = ['Ideal', 'Fixed']\n",
    "BCsType  = BCsTypes[1]\n",
    "\n",
    "\n",
    "NumberElementsTested = [1, 2, 3, 5, 10, 20]\n",
    "NumberElements = NumberElementsTested[0]\n",
    "\n",
    "# Folder for the results\n",
    "Output_Path = os.path.join('CostFunctionShape', BCsType, ConstitutiveModel)\n",
    "os.makedirs(Output_Path, exist_ok=True)\n",
    "\n",
    "FileName = str(NumberElements) + 'Elements' + str(NPoints) + '³Points.csv'\n",
    "\n",
    "# Cost Function Data\n",
    "CostData = pd.read_csv(os.path.join(Output_Path, FileName), sep=',', decimal='.')\n",
    "\n",
    "# Row with the minimum cost\n",
    "print('Min cost point for:')\n",
    "print(CostData.loc[CostData['TotalCost'].idxmin()])"
   ]
  },
  {
   "cell_type": "code",
   "execution_count": 60,
   "metadata": {},
   "outputs": [
    {
     "data": {
      "text/plain": [
       "1320"
      ]
     },
     "execution_count": 60,
     "metadata": {},
     "output_type": "execute_result"
    }
   ],
   "source": [
    "CostData['TotalCost'].idxmax()"
   ]
  },
  {
   "cell_type": "code",
   "execution_count": 107,
   "metadata": {},
   "outputs": [
    {
     "data": {
      "application/vnd.jupyter.widget-view+json": {
       "model_id": "84695f9e67f444d787d062a55e7a66da",
       "version_major": 2,
       "version_minor": 0
      },
      "text/plain": [
       "Canvas(toolbar=Toolbar(toolitems=[('Home', 'Reset original view', 'home', 'home'), ('Back', 'Back to previous …"
      ]
     },
     "metadata": {},
     "output_type": "display_data"
    }
   ],
   "source": [
    "# 3D Plot\n",
    "%matplotlib widget\n",
    "plt.rc('figure', figsize=[12,7])\n",
    "fig = plt.figure()\n",
    "ax = fig.add_subplot(111, projection='3d')\n",
    "\n",
    "Nus    = CostData.Nu\n",
    "Mus    = CostData.Mu\n",
    "Alphas = CostData.Alpha\n",
    "Costs  = CostData.TotalCost\n",
    "\n",
    "Threshold = 0.0001\n",
    "\n",
    "Vmin = min(Costs)\n",
    "Vmax = Threshold * (max(Costs) - min(Costs))\n",
    "\n",
    "#img = ax.scatter(Nus, Mus, Alphas, c=Costs, cmap=plt.jet(), vmin=0, vmax=0.1)\n",
    "img = ax.scatter(Nus, Mus, Alphas, c=Costs, cmap=plt.viridis(), marker = '.')\n",
    "fig.colorbar(img)\n",
    "ax.set_xlabel('Nu (-)')\n",
    "ax.set_ylabel('Mu (kPa)')\n",
    "ax.set_zlabel('Alpha (-)')\n",
    "ax.plot([Nus[CostData['TotalCost'].idxmin()]], [Mus[CostData['TotalCost'].idxmin()]], [Alphas[CostData['TotalCost'].idxmin()]], marker = 'o', color='r')\n",
    "plt.show()"
   ]
  },
  {
   "cell_type": "code",
   "execution_count": 105,
   "metadata": {},
   "outputs": [
    {
     "data": {
      "application/vnd.jupyter.widget-view+json": {
       "model_id": "ef52d521ee8040c3bd17073cfc6fc6e7",
       "version_major": 2,
       "version_minor": 0
      },
      "text/plain": [
       "Canvas(toolbar=Toolbar(toolitems=[('Home', 'Reset original view', 'home', 'home'), ('Back', 'Back to previous …"
      ]
     },
     "metadata": {},
     "output_type": "display_data"
    }
   ],
   "source": [
    "# 2D plot\n",
    "%matplotlib widget\n",
    "\n",
    "Xaxes = ['Nu', 'Mu', 'Alpha']\n",
    "Yaxes = ['Nu', 'Mu', 'Alpha']\n",
    "\n",
    "\n",
    "# Plot tuning\n",
    "Xaxis = Xaxes[0]\n",
    "Yaxis = Yaxes[1]\n",
    "Threshold = 0.0001\n",
    "\n",
    "\n",
    "# Plot\n",
    "Vmin = min(CostData.TotalCost)\n",
    "Vmax = Threshold * (max(CostData.TotalCost) - min(CostData.TotalCost))\n",
    "\n",
    "MinPoint = CostData['TotalCost'].idxmin()\n",
    "\n",
    "CostData.plot.scatter(x=Xaxis,y=Yaxis,c='TotalCost', colormap='viridis', vmin=Vmin, vmax=Vmax, marker = '.')\n",
    "plt.plot(CostData[Xaxis][MinPoint], CostData[Yaxis][MinPoint], marker = 'o', color='r', markersize=10, fillstyle='none')\n",
    "plt.show()"
   ]
  }
 ],
 "metadata": {
  "kernelspec": {
   "display_name": "Python 3",
   "language": "python",
   "name": "python3"
  },
  "language_info": {
   "codemirror_mode": {
    "name": "ipython",
    "version": 3
   },
   "file_extension": ".py",
   "mimetype": "text/x-python",
   "name": "python",
   "nbconvert_exporter": "python",
   "pygments_lexer": "ipython3",
   "version": "3.7.6"
  }
 },
 "nbformat": 4,
 "nbformat_minor": 4
}
