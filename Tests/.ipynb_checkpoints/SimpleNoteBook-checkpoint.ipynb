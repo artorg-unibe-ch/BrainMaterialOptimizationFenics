{
 "cells": [
  {
   "cell_type": "code",
   "execution_count": null,
   "metadata": {},
   "outputs": [],
   "source": [
    "# import sys\n",
    "# sys.path.insert(0, \"/home/msimon/Desktop/FEniCS/Tests\")\n",
    "import SimpleFunctions as SF"
   ]
  },
  {
   "cell_type": "code",
   "execution_count": null,
   "metadata": {},
   "outputs": [],
   "source": [
    "ConstitutiveModels = ['Ogden', 'Neo-Hookean']\n",
    "ConstitutiveModel = ConstitutiveModels[0]\n",
    "\n",
    "NumberElementsTested = [5, 10, 20]\n",
    "\n",
    "LoadCases = ['Compression', 'Tension', 'SimpleShear']\n",
    "RelativeWeights = [1,1,1]\n",
    "\n",
    "\n",
    "FinalRelativeStretch = 0.1\n",
    "RelativeStepSize     = 0.02\n",
    "\n",
    "\n",
    "for NumberElements in NumberElementsTested:\n",
    "    ResultsOptimization = SF.ParametersOptimization(ConstitutiveModel, NumberElements, LoadCases, RelativeWeights, FinalRelativeStretch, RelativeStepSize)"
   ]
  },
  {
   "cell_type": "code",
   "execution_count": null,
   "metadata": {},
   "outputs": [],
   "source": [
    "Nu = 0.49\n",
    "Mu    = 0.66                          # (kPa)\n",
    "Alpha = -24.3                         # (-)\n",
    "LoadCases = ['Compression', 'Tension', 'SimpleShear']\n",
    "RelativeWeights = [1,1,1]\n",
    "FinalRelativeStretch = 0.1\n",
    "RelativeStepSize     = 0.01\n",
    "Dimensions = [5,5,5]\n",
    "NumberElements = 5\n",
    "# Mu, Alpha = ResOpt.x\n",
    "Mu, Alpha = [0.458, -59.367]\n",
    "D = 1.026\n",
    "K = 2/D\n",
    "Nu = (3*(K/Mu)-2)/(6*(K/Mu)+2)\n",
    "print(Nu)\n",
    "\n",
    "SF.CostFunction([Nu, Mu, Alpha], Dimensions, NumberElements, LoadCases, RelativeWeights, FinalRelativeStretch, RelativeStepSize, Plot = True)"
   ]
  },
  {
   "cell_type": "code",
   "execution_count": null,
   "metadata": {},
   "outputs": [],
   "source": [
    "import pandas as pd                       # Allows to use data in tables\n",
    "import matplotlib.pyplot as plt           # Allows to do plots\n",
    "\n",
    "\n",
    "NumberElementsTested = [1,2,3]\n",
    "NumberElements = NumberElementsTested[2]\n",
    "\n",
    "df = pd.read_csv(str(NumberElements) + 'ElementsOptimizationResults.txt', sep=' ', decimal='.')\n",
    "\n",
    "plt.rc('figure', figsize=[36,7])\n",
    "fig = plt.figure()\n",
    "ax = fig.add_subplot(1, 3, 1)\n",
    "ax.cla()\n",
    "ax.plot(df.Mu,  color = 'r', linestyle = '--', marker = 'o', markersize = 8, fillstyle='none')\n",
    "ax.set_xlabel('Iteration number(-)')\n",
    "ax.set_ylabel('Mu (kPa)')\n",
    "\n",
    "ax = fig.add_subplot(1, 3, 2)\n",
    "ax.cla()\n",
    "ax.plot(df.Alpha,  color = 'b', linestyle = '--', marker = 'o', markersize = 8, fillstyle='none')\n",
    "ax.set_xlabel('Iteration number(-)')\n",
    "ax.set_ylabel('Alpha (-)')\n",
    "\n",
    "ax = fig.add_subplot(1, 3, 3)\n",
    "ax.cla()\n",
    "ax.plot(df.TotalCost,  color = 'g', linestyle = '--', marker = 'o', markersize = 8, fillstyle='none')\n",
    "ax.set_xlabel('Iteration number(-)')\n",
    "ax.set_ylabel('Cost (-)')\n",
    "\n",
    "dt = pd.read_csv('OptimizationTime.txt', header=None)\n",
    "\n",
    "plt.rc('figure', figsize=[12,7])\n",
    "fig = plt.figure()\n",
    "ax = fig.add_subplot(1, 1, 1)\n",
    "ax.cla()\n",
    "ax.plot([1,2,3],dt,  color = 'r', linestyle = '--', marker = 'o', markersize = 8, fillstyle='none')\n",
    "ax.set_xlabel('Number of elements by edge (-)')\n",
    "ax.set_ylabel('Optimization time (s)')\n",
    "ax.xaxis.set_major_locator(plt.MultipleLocator(1))"
   ]
  },
  {
   "cell_type": "code",
   "execution_count": null,
   "metadata": {},
   "outputs": [],
   "source": []
  }
 ],
 "metadata": {
  "kernelspec": {
   "display_name": "Python 3",
   "language": "python",
   "name": "python3"
  },
  "language_info": {
   "codemirror_mode": {
    "name": "ipython",
    "version": 3
   },
   "file_extension": ".py",
   "mimetype": "text/x-python",
   "name": "python",
   "nbconvert_exporter": "python",
   "pygments_lexer": "ipython3",
   "version": "3.7.6"
  }
 },
 "nbformat": 4,
 "nbformat_minor": 4
}
