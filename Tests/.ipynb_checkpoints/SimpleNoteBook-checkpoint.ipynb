{
 "cells": [
  {
   "cell_type": "code",
   "execution_count": 1,
   "metadata": {},
   "outputs": [],
   "source": [
    "# import sys\n",
    "# sys.path.insert(0, \"/home/msimon/Desktop/FEniCS/Tests\")\n",
    "import CompressibleOgdenFunctions as COg\n",
    "import pandas as pd"
   ]
  },
  {
   "cell_type": "code",
   "execution_count": null,
   "metadata": {},
   "outputs": [
    {
     "name": "stdout",
     "output_type": "stream",
     "text": [
      "Cost: 299.05481148165296\n",
      "Cost: 331.43628859143183\n",
      "Cost: 299.7562075974457\n",
      "Cost: 268.96622977746824\n",
      "Cost: 240.12841642332043\n",
      "Cost: 239.57136889531023\n",
      "Cost: 212.03875379468636\n",
      "Cost: 162.80440127058668\n",
      "Cost: 109.98140495023506\n",
      "Cost: 91.41571732628012\n",
      "Cost: 43.610605837836424\n",
      "Cost: 6.609864296578498\n",
      "Cost: 14.04842581444465\n",
      "Cost: 2.8077047493334875\n",
      "Cost: 55.602298815068366\n",
      "Cost: 32.10173329894599\n",
      "Cost: 7.200170668184306\n",
      "Cost: 13.09728197721755\n",
      "Calling FFC just-in-time (JIT) compiler, this may take some time.\n",
      "Calling FFC just-in-time (JIT) compiler, this may take some time.\n"
     ]
    }
   ],
   "source": [
    "Nu = 0.49\n",
    "FinalRelativeStretch = 0.1\n",
    "RelativeStepSize     = 0.02\n",
    "Dimensions = [5,5,5]\n",
    "LoadCases = ['Compression', 'Tension', 'Simple Shear']\n",
    "RelativeWeights = [1,1,1]\n",
    "\n",
    "ResOpt = COg.OgdenOptimization(Nu, LoadCases, RelativeWeights, FinalRelativeStretch, RelativeStepSize, Dimensions, Plot = True)"
   ]
  },
  {
   "cell_type": "code",
   "execution_count": null,
   "metadata": {},
   "outputs": [],
   "source": [
    "Nu = 0.49\n",
    "Mu    = 0.66                          # (kPa)\n",
    "Alpha = -24.3                         # (-)\n",
    "LoadCases = ['Compression', 'Tension', 'Simple Shear']\n",
    "RelativeWeights = [1,1,1]\n",
    "FinalRelativeStretch = 0.1\n",
    "RelativeStepSize     = 0.02\n",
    "Dimensions = [5,5,5]\n",
    "COg.OgdenCostFunction([ Mu, Alpha], Nu, LoadCases, RelativeWeights, FinalRelativeStretch, RelativeStepSize, Dimensions, Plot = True)"
   ]
  },
  {
   "cell_type": "code",
   "execution_count": null,
   "metadata": {},
   "outputs": [],
   "source": []
  }
 ],
 "metadata": {
  "kernelspec": {
   "display_name": "Python 3",
   "language": "python",
   "name": "python3"
  },
  "language_info": {
   "codemirror_mode": {
    "name": "ipython",
    "version": 3
   },
   "file_extension": ".py",
   "mimetype": "text/x-python",
   "name": "python",
   "nbconvert_exporter": "python",
   "pygments_lexer": "ipython3",
   "version": "3.7.6"
  }
 },
 "nbformat": 4,
 "nbformat_minor": 4
}
