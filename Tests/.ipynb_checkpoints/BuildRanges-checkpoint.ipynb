{
 "cells": [
  {
   "cell_type": "code",
   "execution_count": null,
   "metadata": {},
   "outputs": [],
   "source": [
    "import numpy as np\n",
    "import pandas as pd\n",
    "\n",
    "SubFields = 2\n",
    "\n",
    "NuPoints = 11\n",
    "MuPoints = 6\n",
    "AlphaPoints = 21\n",
    "\n",
    "\n",
    "print('Main field is cut into %.i subfields'%(SubFields**3))\n",
    "Nus = np.linspace(0.35,0.45,SubFields+1)\n",
    "Mus = np.linspace(0.1,0.3,SubFields+1)\n",
    "Alphas = np.linspace(-60,-20,SubFields+1)\n",
    "\n",
    "Nus = np.round(Nus,3)\n",
    "Mus = np.round(Mus,3)\n",
    "Alphas = np.round(Alphas,3)\n",
    "\n",
    "print('Nu ranges:')\n",
    "print(Nus)\n",
    "print('%i Steps in each Nu range, example:'%(NuPoints))\n",
    "print(np.linspace(Nus[0],Nus[1],NuPoints))\n",
    "print('Mu ranges:')\n",
    "print(Mus)\n",
    "print('%i Steps in each Mu range, example:'%(MuPoints))\n",
    "print(np.linspace(Mus[0],Mus[1],MuPoints))\n",
    "print('Alpha ranges:')\n",
    "print(Alphas)\n",
    "print('%i Steps in each Alpha range, example:'%(AlphaPoints))\n",
    "print(np.linspace(Alphas[0],Alphas[1],AlphaPoints))\n",
    "print('Number of jobs by range: %i'%(NuPoints*MuPoints*AlphaPoints))\n",
    "print('Max number of range to run: %.1f'%(10000/(NuPoints*MuPoints*AlphaPoints)))\n",
    "\n",
    "Values = pd.DataFrame(dtype='float64')\n",
    "for Nu in range(SubFields):\n",
    "    for Mu in range(SubFields):\n",
    "        for Alpha in range(SubFields):\n",
    "\n",
    "            Range  = np.array([Nus[Nu], Mus[Mu], Alphas[Alpha],Nus[Nu+1], Mus[Mu+1], Alphas[Alpha+1]])\n",
    "            Range  = np.reshape(Range,(2,3))\n",
    "            Range1 = {'Nu':Range[0,0], 'Mu':Range[0,1], 'Alpha':Range[0,2]}\n",
    "            Range2 = {'Nu':Range[1,0], 'Mu':Range[1,1], 'Alpha':Range[1,2]}\n",
    "\n",
    "            Values = Values.append(Range1, ignore_index=True)\n",
    "            Values = Values.append(Range2, ignore_index=True)\n",
    "\n",
    "print(Values)\n",
    "Values.to_csv('Ranges.txt', index=False)"
   ]
  }
 ],
 "metadata": {
  "kernelspec": {
   "display_name": "Python 3",
   "language": "python",
   "name": "python3"
  },
  "language_info": {
   "codemirror_mode": {
    "name": "ipython",
    "version": 3
   },
   "file_extension": ".py",
   "mimetype": "text/x-python",
   "name": "python",
   "nbconvert_exporter": "python",
   "pygments_lexer": "ipython3",
   "version": "3.8.2"
  }
 },
 "nbformat": 4,
 "nbformat_minor": 4
}
