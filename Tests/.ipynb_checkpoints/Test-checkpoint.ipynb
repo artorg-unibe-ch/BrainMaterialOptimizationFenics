{
 "cells": [
  {
   "cell_type": "code",
   "execution_count": 106,
   "metadata": {},
   "outputs": [],
   "source": [
    "%matplotlib inline\n",
    "import matplotlib.pyplot as plt           # Allows to do plots\n",
    "import fenics as fe                       # Allors to use the FEniCS functions\n",
    "import os                                 # Allows to use path\n",
    "import pandas as pd                       # Allows to use data in tables\n",
    "from IPython.display import display, clear_output\n",
    "from scipy.interpolate import interp1d\n",
    "import numpy as np"
   ]
  },
  {
   "cell_type": "code",
   "execution_count": 121,
   "metadata": {},
   "outputs": [],
   "source": [
    "# ----------------------------------------------------------------------------\n",
    "# Functions definition\n",
    "# ----------------------------------------------------------------------------        \n",
    "        \n",
    "def CompressibleNeoHookean(Mu, Lambda, Ic, J):\n",
    "        \n",
    "    Psi = (Mu/2)*(Ic - 3) - Mu*fe.ln(J) + (Lambda/2)*(fe.ln(J))**2\n",
    "    \n",
    "    return Psi\n",
    "    \n",
    "def CompressibleOgden(Mu, Alpha, D, C, Ic, J):\n",
    "    \n",
    "    # Invariant of Right Cauchy-Green deformation tensor\n",
    "    def I1(C):\n",
    "        return fe.tr(C)\n",
    "\n",
    "    def I2(C):\n",
    "        c1 = C[0,0]*C[1,1] + C[0,0]*C[2,2] + C[1,1]*C[2,2]\n",
    "        c2 = C[0,1]*C[0,1] + C[0,2]*C[0,2] + C[1,2]*C[1,2]\n",
    "        return c1 - c2\n",
    "\n",
    "    def I3(C):\n",
    "        return fe.det(C)\n",
    "\n",
    "    # Define function necessary for eigenvalues computation\n",
    "    def v_inv(C):\n",
    "        return (I1(C)/3.)**2 - I2(C)/3.\n",
    "\n",
    "    def s_inv(C):\n",
    "        return (I1(C)/3.)**3 - I1(C)*I2(C)/6. + I3(C)/2.\n",
    "\n",
    "    def phi_inv(C):\n",
    "        arg = s_inv(C)/v_inv(C)*fe.sqrt(1./v_inv(C))\n",
    "        # numerical issues if arg~0\n",
    "        # https://fenicsproject.org/qa/12299\n",
    "        # /nan-values-when-computing-arccos-1-0-bug/\n",
    "        arg_cond = fe.conditional( fe.ge(arg, 1-fe.DOLFIN_EPS),\n",
    "        1-fe.DOLFIN_EPS,fe.conditional( fe.le(arg, -1+fe.DOLFIN_EPS),\n",
    "        -1+fe.DOLFIN_EPS, arg ))\n",
    "        return fe.acos(arg_cond)/3.\n",
    "\n",
    "    # Eigenvalues of the strech tensor C\n",
    "    lambda_1 = Ic/3. + 2*fe.sqrt(v_inv(C))*fe.cos(phi_inv(C))\n",
    "    lambda_2 = Ic/3. - 2*fe.sqrt(v_inv(C))*fe.cos(fe.pi/3. + phi_inv(C))\n",
    "    lambda_3 = Ic/3. - 2*fe.sqrt(v_inv(C))*fe.cos(fe.pi/3. - phi_inv(C))\n",
    "\n",
    "    # Constitutive model\n",
    "    Psi = 2 * Mu * (J**(-1/3)*lambda_1**(Alpha/2.) +  J**(-1/3)*lambda_2**(Alpha/2.) +  J**(-1/3)*lambda_3**(Alpha/2.) - 3) / Alpha**2 + 1/D * (J-1)**2\n",
    "        \n",
    "    return Psi\n",
    "        \n",
    "    \n",
    "    \n",
    "def LoadCase(LoadCase, FinalRelativeStretch, RelativeStepSize, Dimensions):\n",
    "    \n",
    "    Normal = fe.Constant((0, 0, 1))                                                 # Normal to moving side\n",
    "    \n",
    "    if LoadCase == 'Compression':\n",
    "        InitialState = 1\n",
    "        u_0 = fe.Constant((0, 0, 1E-6))                                             # Little displacement to avoid NaN values\n",
    "        u_1 = fe.Expression(('0', '0', '(s-1)*h'), degree=1, s = InitialState, h = Dimensions[2] )        # Displacement imposed\n",
    "        Dir = fe.Constant((0,0,1))                                                  # Deformation direction\n",
    "        NumberSteps = FinalRelativeStretch / RelativeStepSize                       # Number of steps\n",
    "        DeltaStretch = -RelativeStepSize\n",
    "        \n",
    "    elif LoadCase == 'Tension':\n",
    "        InitialState = 1\n",
    "        u_0 = fe.Constant((0, 0, -1E-6))                                            # Little displacement to avoid NaN values\n",
    "        u_1 = fe.Expression(('0', '0', '(s-1)*h'), degree=1, s = InitialState, h = Dimensions[2] )        # Displacement imposed\n",
    "        Dir = fe.Constant((0,0,1))                                                  # Deformation direction\n",
    "        NumberSteps = FinalRelativeStretch / RelativeStepSize                       # Number of steps\n",
    "        DeltaStretch = RelativeStepSize\n",
    "        \n",
    "    elif LoadCase == 'SimpleShear':\n",
    "        InitialState = 0\n",
    "        u_0 = fe.Constant((-1E-6, 0, 0))                                            # Little displacement to avoid NaN values\n",
    "        u_1 = fe.Expression(('s*h', '0', '0'), degree=1, s = InitialState, h = Dimensions[2] )        # Displacement imposed\n",
    "        Dir = fe.Constant((1,0,0))                                                  # Deformation direction\n",
    "        NumberSteps = FinalRelativeStretch / RelativeStepSize                       # Number of steps\n",
    "        DeltaStretch = RelativeStepSize\n",
    "        \n",
    "    else :\n",
    "        print('Incorrect load case name')\n",
    "        print('Load cases available are:')\n",
    "        print('Compression')\n",
    "        print('Tensile')\n",
    "        print('Simple Shear')\n",
    "        \n",
    "    return [u_0, u_1, InitialState, Dir, Normal, NumberSteps, DeltaStretch]\n",
    "\n",
    "\n",
    "\n",
    "def SolveProblem(Psi, F, Mesh, V, u, v, du, u_0, u_1, Dimensions, InitialState, Normal, Dir, NumberSteps, DeltaStretch):\n",
    "    \n",
    "    # ----------------------------------------------------------------------------\n",
    "    # Subdomains definition and Boundary conditions application\n",
    "    # ----------------------------------------------------------------------------\n",
    "\n",
    "    # Define geometric spaces\n",
    "    class LowerSide(fe.SubDomain):\n",
    "        def inside(self, x, on_boundary):\n",
    "            tol = 1E-14\n",
    "            return on_boundary and fe.near(x[2], -Dimensions[2]/2, tol)\n",
    "\n",
    "    class UpperSide(fe.SubDomain):\n",
    "        def inside(self, x, on_boundary):\n",
    "            tol = 1E-14\n",
    "            return on_boundary and fe.near(x[2], Dimensions[2]/2, tol)\n",
    "\n",
    "    # Define integration over subdpmains\n",
    "    Domains_Facets = fe.MeshFunction('size_t', Mesh, Mesh.geometric_dimension()-1)\n",
    "    ds = fe.Measure('ds', domain=Mesh, subdomain_data=Domains_Facets)\n",
    "\n",
    "    # Mark all domain facets with 0\n",
    "    Domains_Facets.set_all(0)\n",
    "\n",
    "    # Mark bottom facets with 1\n",
    "    bottom = LowerSide()\n",
    "    bottom.mark(Domains_Facets, 1)\n",
    "\n",
    "    # Mark upper facets with 2\n",
    "    upper = UpperSide()\n",
    "    upper.mark(Domains_Facets, 2)\n",
    "\n",
    "    # Apply boundary conditions\n",
    "    bcl = fe.DirichletBC(V, u_0, Domains_Facets, 1)\n",
    "    bcu = fe.DirichletBC(V, u_1, Domains_Facets, 2)\n",
    "\n",
    "    # Set of boundary conditions\n",
    "    bcs = [bcl, bcu]\n",
    "    \n",
    "    # ----------------------------------------------------------------------------\n",
    "    # Problem Definition\n",
    "    # ----------------------------------------------------------------------------\n",
    "    \n",
    "    Pi = Psi * fe.dx\n",
    "    \n",
    "    # First directional derivative of the potential energy\n",
    "    Fpi = fe.derivative(Pi,u,v)\n",
    "\n",
    "    # Jacobian of Fpi\n",
    "    Jac = fe.derivative(Fpi,u,du)\n",
    "\n",
    "    # Define option for the compiler (optional)\n",
    "    ffc_options = {\"optimize\": True, \\\n",
    "                   \"eliminate_zeros\": True, \\\n",
    "                   \"precompute_basis_const\": True, \\\n",
    "                   \"precompute_ip_const\": True }\n",
    "\n",
    "    # Define the problem\n",
    "    problem = fe.NonlinearVariationalProblem(Fpi, u, bcs, Jac, form_compiler_parameters=ffc_options)\n",
    "\n",
    "    # Define the solver\n",
    "    Solver = fe.NonlinearVariationalSolver(problem)\n",
    "\n",
    "    # Set solver parameters (optional)\n",
    "    prm = Solver.parameters\n",
    "    prm['nonlinear_solver'] = 'newton'\n",
    "    prm['newton_solver']['linear_solver'] = 'cg'             # Conjugate gradient\n",
    "    prm['newton_solver']['preconditioner'] = 'icc'           # Incomplete Choleski\n",
    "    \n",
    "    # Data frame to store values\n",
    "    cols = ['Stretches','P']\n",
    "    df = pd.DataFrame(columns=cols, index=range(int(NumberSteps)+1), dtype='float64')\n",
    "    \n",
    "    plt.rc('figure', figsize=[12,7])\n",
    "    fig = plt.figure()\n",
    "    ax = fig.add_subplot(1, 1, 1)\n",
    "    \n",
    "    # Set the stretch state to initial state\n",
    "    StretchState = InitialState\n",
    "    \n",
    "    # ----------------------------------------------------------------------------\n",
    "    # Problem Solving\n",
    "    # ----------------------------------------------------------------------------\n",
    "\n",
    "    for Step in range(int(NumberSteps+1)):\n",
    "\n",
    "        # Update current state\n",
    "        u_1.s = StretchState\n",
    "\n",
    "        # Compute solution and save displacement\n",
    "        Solver.solve()\n",
    "\n",
    "        # First Piola Kirchoff (nominal) stress\n",
    "        P = fe.diff(Psi, F)\n",
    "\n",
    "        # Nominal stress vectors normal to upper surface\n",
    "        p = fe.dot(P,Normal)\n",
    "\n",
    "        # Reaction force on the upper surface\n",
    "        f = fe.assemble(fe.inner(p,Dir)*ds(2))\n",
    "\n",
    "        # Mean nominal stress on the upper surface\n",
    "        Pm = f/fe.assemble(1*ds(2))\n",
    "\n",
    "        # Project the displacement onto the vector function space\n",
    "        u_project = fe.project(u, V, solver_type='cg')\n",
    "        u_project.rename('displacement (mm)', '')\n",
    "#         results.write(u_project,Step)\n",
    "\n",
    "        # Save values to table\n",
    "        df.loc[Step].Stretches = StretchState\n",
    "        df.loc[Step].P = Pm\n",
    "\n",
    "        # Plot\n",
    "        ax.cla()\n",
    "        ax.plot(df.Stretches, df.P,  color = 'r', linestyle = '--', label = 'P', marker = 'x', markersize = 5)\n",
    "        ax.set_xlabel('Stretch ratio (-)')\n",
    "        ax.set_ylabel('Stresses (kPa)')\n",
    "        ax.xaxis.set_major_locator(plt.MultipleLocator(0.02))\n",
    "        ax.legend(loc='upper left', frameon=True, framealpha=1)\n",
    "        display(fig)\n",
    "        clear_output(wait=True)\n",
    "\n",
    "        # Update the stretch state\n",
    "        StretchState += DeltaStretch\n",
    "\n",
    "    return df\n",
    "\n",
    "def Mesh2Invariants(Dimensions, NumberElements=1, Type='Lagrange', PolynomDegree=1):\n",
    "\n",
    "    # Mesh\n",
    "    Mesh = fe.BoxMesh(fe.Point(-Dimensions[0]/2, -Dimensions[1]/2, -Dimensions[2]/2), fe.Point(Dimensions[0]/2, Dimensions[1]/2, Dimensions[2]/2), NumberElements, NumberElements, NumberElements)\n",
    "\n",
    "    # Functions spaces\n",
    "    V_ele = fe.VectorElement(Type, Mesh.ufl_cell(), PolynomDegree)\n",
    "    V = fe.VectorFunctionSpace(Mesh, Type, PolynomDegree)\n",
    "\n",
    "    # Finite element functions\n",
    "    du = fe.TrialFunction(V)\n",
    "    v = fe.TestFunction(V)\n",
    "    u = fe.Function(V)\n",
    "    \n",
    "    # Kinematics\n",
    "    d = u.geometric_dimension()\n",
    "    I = fe.Identity(d)                    # Identity tensor\n",
    "    F = I + fe.grad(u)                    # Deformation gradient\n",
    "    F = fe.variable(F)                    # To differentiate Psi(F)\n",
    "    J = fe.det(F)                         # Jacobian of F\n",
    "    C = F.T*F                             # Right Cauchy-Green deformation tensor\n",
    "    Ic = fe.tr(C)                         # Trace of C\n",
    "    \n",
    "    return [Mesh, V, u, du, v, F, J, C, Ic]"
   ]
  },
  {
   "cell_type": "code",
   "execution_count": 170,
   "metadata": {},
   "outputs": [
    {
     "data": {
      "text/plain": [
       "ComponentTensor(IndexSum(Product(Indexed(Variable(Sum(Identity(3), Grad(Coefficient(FunctionSpace(Mesh(VectorElement(FiniteElement('Lagrange', tetrahedron, 1), dim=3), 366), VectorElement(FiniteElement('Lagrange', tetrahedron, 1), dim=3)), 371))), Label(3)), MultiIndex((Index(19), Index(18)))), Indexed(Transposed(Variable(Sum(Identity(3), Grad(Coefficient(FunctionSpace(Mesh(VectorElement(FiniteElement('Lagrange', tetrahedron, 1), dim=3), 366), VectorElement(FiniteElement('Lagrange', tetrahedron, 1), dim=3)), 371))), Label(3))), MultiIndex((Index(17), Index(19))))), MultiIndex((Index(19),))), MultiIndex((Index(17), Index(18))))"
      ]
     },
     "execution_count": 170,
     "metadata": {},
     "output_type": "execute_result"
    }
   ],
   "source": []
  },
  {
   "cell_type": "code",
   "execution_count": 163,
   "metadata": {},
   "outputs": [
    {
     "data": {
      "text/html": [
       "<div>\n",
       "<style scoped>\n",
       "    .dataframe tbody tr th:only-of-type {\n",
       "        vertical-align: middle;\n",
       "    }\n",
       "\n",
       "    .dataframe tbody tr th {\n",
       "        vertical-align: top;\n",
       "    }\n",
       "\n",
       "    .dataframe thead th {\n",
       "        text-align: right;\n",
       "    }\n",
       "</style>\n",
       "<table border=\"1\" class=\"dataframe\">\n",
       "  <thead>\n",
       "    <tr style=\"text-align: right;\">\n",
       "      <th></th>\n",
       "      <th>Stretches</th>\n",
       "      <th>P</th>\n",
       "    </tr>\n",
       "  </thead>\n",
       "  <tbody>\n",
       "    <tr>\n",
       "      <th>0</th>\n",
       "      <td>1.000000</td>\n",
       "      <td>NaN</td>\n",
       "    </tr>\n",
       "    <tr>\n",
       "      <th>1</th>\n",
       "      <td>0.999999</td>\n",
       "      <td>-0.056591</td>\n",
       "    </tr>\n",
       "  </tbody>\n",
       "</table>\n",
       "</div>"
      ],
      "text/plain": [
       "   Stretches         P\n",
       "0   1.000000       NaN\n",
       "1   0.999999 -0.056591"
      ]
     },
     "execution_count": 163,
     "metadata": {},
     "output_type": "execute_result"
    }
   ],
   "source": [
    "df"
   ]
  },
  {
   "cell_type": "code",
   "execution_count": 137,
   "metadata": {},
   "outputs": [],
   "source": [
    "Dimensions=[5,5,5]\n",
    "\n",
    "[Mesh, V, u, du, v, F, J, C, Ic] = Mesh2Invariants(Dimensions)"
   ]
  },
  {
   "cell_type": "code",
   "execution_count": 138,
   "metadata": {},
   "outputs": [],
   "source": [
    "# ----------------------------------------------------------------------------\n",
    "# Material Constants\n",
    "# ----------------------------------------------------------------------------\n",
    "\n",
    "Nu = 0.49                             # (-)\n",
    "\n",
    "# Neo-Hookean\n",
    "Mu_NH  = 1.15                         # (kPa)\n",
    "Lambda = 2*Mu_NH*Nu/(1-2*Nu)          # (kPa)\n",
    "\n",
    "# Ogden\n",
    "Mu_Og = 0.66                          # (kPa)\n",
    "Alpha = -24.3                         # (-)\n",
    "D     = 3*(1-2*Nu)/(Mu_Og*(1+Nu))     # (1/kPa)\n",
    "\n",
    "# Psi = CompressibleNeoHookean(Mu_NH, Lambda, Ic, J)\n",
    "Psi = CompressibleOgden(Mu_Og, Alpha, D, C, Ic, J)"
   ]
  },
  {
   "cell_type": "code",
   "execution_count": 168,
   "metadata": {},
   "outputs": [],
   "source": [
    "[u_0, u_1, InitialState, Dir, Normal, NumberSteps, DeltaStretch] = LoadCase('Compression', 0, 0.1, Dimensions)"
   ]
  },
  {
   "cell_type": "code",
   "execution_count": 169,
   "metadata": {},
   "outputs": [
    {
     "data": {
      "image/png": "[encoded data removed]",
      "text/plain": [
       "<Figure size 864x504 with 1 Axes>"
      ]
     },
     "metadata": {
      "needs_background": "light"
     },
     "output_type": "display_data"
    }
   ],
   "source": [
    "df = SolveProblem(Psi, F, Mesh, V, u, v, du, u_0, u_1, Dimensions, InitialState, Normal, Dir, NumberSteps, DeltaStretch)"
   ]
  },
  {
   "cell_type": "code",
   "execution_count": 126,
   "metadata": {},
   "outputs": [
    {
     "data": {
      "text/plain": [
       "<matplotlib.legend.Legend at 0x7f394b2c2390>"
      ]
     },
     "execution_count": 126,
     "metadata": {},
     "output_type": "execute_result"
    },
    {
     "data": {
      "image/png": "[encoded data removed]",
      "text/plain": [
       "<Figure size 864x504 with 1 Axes>"
      ]
     },
     "metadata": {
      "needs_background": "light"
     },
     "output_type": "display_data"
    }
   ],
   "source": [
    "FolderPath = os.path.join('/home/msimon/Desktop/SHARED/ScriptsAndData/ExperimentalData/')\n",
    "FilePath = os.path.join(FolderPath, 'CR_Compression_ExpDat.csv')\n",
    "ExpData = pd.read_csv(FilePath, sep=';', header=None, decimal=',')\n",
    "\n",
    "# Plot\n",
    "plt.rc('figure', figsize=[12,7])\n",
    "fig = plt.figure()\n",
    "ax = fig.add_subplot(1, 1, 1)\n",
    "ax.cla()\n",
    "ax.plot(df.Stretches, df.P,  color = 'r', linestyle = '--', label = 'Simulation Prediction', marker = 'o', markersize = 8, fillstyle='none')\n",
    "ax.plot(ExpData[0], ExpData[1],  color = 'b', linestyle = '--', label = 'Experimental Data', marker = 'o', markersize = 8, fillstyle='none')\n",
    "ax.set_xlabel('Stretch ratio (-)')\n",
    "ax.set_ylabel('Stresses (kPa)')\n",
    "ax.xaxis.set_major_locator(plt.MultipleLocator(0.02))\n",
    "ax.legend(loc='upper left', frameon=True, framealpha=1)"
   ]
  },
  {
   "cell_type": "code",
   "execution_count": 135,
   "metadata": {},
   "outputs": [
    {
     "data": {
      "text/plain": [
       "<matplotlib.legend.Legend at 0x7f394b18bf10>"
      ]
     },
     "execution_count": 135,
     "metadata": {},
     "output_type": "execute_result"
    },
    {
     "data": {
      "image/png": "[encoded data removed]",
      "text/plain": [
       "<Figure size 864x504 with 1 Axes>"
      ]
     },
     "metadata": {
      "needs_background": "light"
     },
     "output_type": "display_data"
    }
   ],
   "source": [
    "# Interpolation\n",
    "\n",
    "InterpExpData = interp1d(ExpData[0], ExpData[1], kind='linear', fill_value='extrapolate')\n",
    "InterpSimPred = interp1d(df.Stretches, df.P, kind='linear', fill_value='extrapolate')\n",
    "\n",
    "\n",
    "NumberPoints = 7\n",
    "XInterp = np.linspace(1,0.9,NumberPoints)\n",
    "\n",
    "# Control Plot\n",
    "plt.rc('figure', figsize=[12,7])\n",
    "fig = plt.figure()\n",
    "ax = fig.add_subplot(1, 1, 1)\n",
    "ax.cla()\n",
    "ax.plot(ExpData[0], ExpData[1],  color = 'b', linestyle = '--', label = 'Original Data', marker = 'o', markersize = 8, fillstyle='none')\n",
    "ax.plot(XInterp, InterpExpData(XInterp),  color = 'g', linestyle = '--', label = 'Interpolated data', marker = 'o', markersize = 15, fillstyle='none')\n",
    "ax.plot(df.Stretches, df.P,  color = 'r', linestyle = '--', label = 'Simulation Prediction', marker = 'o', markersize = 8, fillstyle='none')\n",
    "ax.plot(XInterp, InterpSimPred(XInterp),  color = 'y', linestyle = '--', label = 'Interpolated data', marker = 'o', markersize = 15, fillstyle='none')\n",
    "ax.set_xlabel('Stretch ratio (-)')\n",
    "ax.set_ylabel('Stresses (kPa)')\n",
    "ax.xaxis.set_major_locator(plt.MultipleLocator(0.02))\n",
    "ax.legend(loc='upper left', frameon=True, framealpha=1)"
   ]
  },
  {
   "cell_type": "code",
   "execution_count": 136,
   "metadata": {},
   "outputs": [],
   "source": [
    "# Cost Function\n",
    "\n"
   ]
  }
 ],
 "metadata": {
  "kernelspec": {
   "display_name": "Python 3",
   "language": "python",
   "name": "python3"
  },
  "language_info": {
   "codemirror_mode": {
    "name": "ipython",
    "version": 3
   },
   "file_extension": ".py",
   "mimetype": "text/x-python",
   "name": "python",
   "nbconvert_exporter": "python",
   "pygments_lexer": "ipython3",
   "version": "3.7.6"
  }
 },
 "nbformat": 4,
 "nbformat_minor": 4
}
