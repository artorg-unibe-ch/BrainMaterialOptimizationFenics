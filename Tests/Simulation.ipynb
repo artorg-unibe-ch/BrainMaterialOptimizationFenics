{
 "cells": [
  {
   "cell_type": "code",
   "execution_count": 3,
   "metadata": {},
   "outputs": [
    {
     "ename": "RuntimeError",
     "evalue": "\n\n*** -------------------------------------------------------------------------\n*** DOLFIN encountered an error. If you are not able to resolve this issue\n*** using the information listed below, you can ask for help at\n***\n***     fenics-support@googlegroups.com\n***\n*** Remember to include the error message listed below and, if possible,\n*** include a *minimal* running example to reproduce the error.\n***\n*** -------------------------------------------------------------------------\n*** Error:   Unable to solve nonlinear system with NewtonSolver.\n*** Reason:  Newton solver did not converge because maximum number of iterations reached.\n*** Where:   This error was encountered inside NewtonSolver.cpp.\n*** Process: 0\n*** \n*** DOLFIN version: 2019.1.0\n*** Git changeset:  15b823f2c45d3036b6af931284d0f8e3c77b6845\n*** -------------------------------------------------------------------------\n",
     "output_type": "error",
     "traceback": [
      "\u001b[0;31m---------------------------------------------------------------------------\u001b[0m",
      "\u001b[0;31mRuntimeError\u001b[0m                              Traceback (most recent call last)",
      "\u001b[0;32m<ipython-input-3-36e8c9637c8b>\u001b[0m in \u001b[0;36m<module>\u001b[0;34m\u001b[0m\n\u001b[1;32m     34\u001b[0m \u001b[0;34m\u001b[0m\u001b[0m\n\u001b[1;32m     35\u001b[0m \u001b[0;31m# Simulate the solution\u001b[0m\u001b[0;34m\u001b[0m\u001b[0;34m\u001b[0m\u001b[0;34m\u001b[0m\u001b[0m\n\u001b[0;32m---> 36\u001b[0;31m \u001b[0mDataFrame\u001b[0m \u001b[0;34m=\u001b[0m \u001b[0mSF\u001b[0m\u001b[0;34m.\u001b[0m\u001b[0mSolveProblem\u001b[0m\u001b[0;34m(\u001b[0m\u001b[0mLoadCase\u001b[0m\u001b[0;34m,\u001b[0m \u001b[0mFinalRelativeStretch\u001b[0m\u001b[0;34m,\u001b[0m \u001b[0mRelativeStepSize\u001b[0m\u001b[0;34m,\u001b[0m \u001b[0mDimensions\u001b[0m\u001b[0;34m,\u001b[0m \u001b[0mNumberElements\u001b[0m\u001b[0;34m,\u001b[0m \u001b[0mMesh\u001b[0m\u001b[0;34m,\u001b[0m \u001b[0mV\u001b[0m\u001b[0;34m,\u001b[0m \u001b[0mu\u001b[0m\u001b[0;34m,\u001b[0m \u001b[0mdu\u001b[0m\u001b[0;34m,\u001b[0m \u001b[0mv\u001b[0m\u001b[0;34m,\u001b[0m \u001b[0mIc\u001b[0m\u001b[0;34m,\u001b[0m \u001b[0mJ\u001b[0m\u001b[0;34m,\u001b[0m \u001b[0mF\u001b[0m\u001b[0;34m,\u001b[0m \u001b[0mPsi\u001b[0m\u001b[0;34m)\u001b[0m\u001b[0;34m\u001b[0m\u001b[0;34m\u001b[0m\u001b[0m\n\u001b[0m\u001b[1;32m     37\u001b[0m \u001b[0;34m\u001b[0m\u001b[0m\n\u001b[1;32m     38\u001b[0m \u001b[0;31m# Experimental data\u001b[0m\u001b[0;34m\u001b[0m\u001b[0;34m\u001b[0m\u001b[0;34m\u001b[0m\u001b[0m\n",
      "\u001b[0;32m~/Desktop/FEniCS/Tests/SimpleFunctions.py\u001b[0m in \u001b[0;36mSolveProblem\u001b[0;34m(LoadCase, FinalRelativeStretch, RelativeStepSize, Dimensions, NumberElements, Mesh, V, u, du, v, Ic, J, F, Psi, Plot)\u001b[0m\n\u001b[1;32m    316\u001b[0m \u001b[0;34m\u001b[0m\u001b[0m\n\u001b[1;32m    317\u001b[0m         \u001b[0;31m# Compute solution and save displacement\u001b[0m\u001b[0;34m\u001b[0m\u001b[0;34m\u001b[0m\u001b[0;34m\u001b[0m\u001b[0m\n\u001b[0;32m--> 318\u001b[0;31m         \u001b[0mSolver\u001b[0m\u001b[0;34m.\u001b[0m\u001b[0msolve\u001b[0m\u001b[0;34m(\u001b[0m\u001b[0;34m)\u001b[0m\u001b[0;34m\u001b[0m\u001b[0;34m\u001b[0m\u001b[0m\n\u001b[0m\u001b[1;32m    319\u001b[0m \u001b[0;34m\u001b[0m\u001b[0m\n\u001b[1;32m    320\u001b[0m         \u001b[0;31m# First Piola Kirchoff (nominal) stress\u001b[0m\u001b[0;34m\u001b[0m\u001b[0;34m\u001b[0m\u001b[0;34m\u001b[0m\u001b[0m\n",
      "\u001b[0;31mRuntimeError\u001b[0m: \n\n*** -------------------------------------------------------------------------\n*** DOLFIN encountered an error. If you are not able to resolve this issue\n*** using the information listed below, you can ask for help at\n***\n***     fenics-support@googlegroups.com\n***\n*** Remember to include the error message listed below and, if possible,\n*** include a *minimal* running example to reproduce the error.\n***\n*** -------------------------------------------------------------------------\n*** Error:   Unable to solve nonlinear system with NewtonSolver.\n*** Reason:  Newton solver did not converge because maximum number of iterations reached.\n*** Where:   This error was encountered inside NewtonSolver.cpp.\n*** Process: 0\n*** \n*** DOLFIN version: 2019.1.0\n*** Git changeset:  15b823f2c45d3036b6af931284d0f8e3c77b6845\n*** -------------------------------------------------------------------------\n"
     ]
    }
   ],
   "source": [
    "import pandas as pd                       # Allows to use data in tables\n",
    "import matplotlib.pyplot as plt           # Allows to do plots\n",
    "import os                                 # Allows to use path\n",
    "import SimpleFunctions as SF\n",
    "\n",
    "NumberElementsTested = [1,2,3,5,10,20]\n",
    "NumberElements = NumberElementsTested[5]\n",
    "\n",
    "LoadCases = ['Compression', 'Tension', 'SimpleShear']\n",
    "LoadCase = LoadCases[1]\n",
    "\n",
    "# Get last values computed\n",
    "df = pd.read_csv('OptimizationResults/'+ str(NumberElements) + 'Elements.txt', sep=' ', decimal='.')\n",
    "FinalValues = df.iloc[-1]\n",
    "\n",
    "# Simulation parameters\n",
    "FinalRelativeStretch = 0.1\n",
    "RelativeStepSize     = 0.02\n",
    "\n",
    "# optimized values\n",
    "Nu = FinalValues.Nu\n",
    "Mu = FinalValues.Mu\n",
    "Alpha = FinalValues.Alpha\n",
    "\n",
    "D = 3*(1-2*Nu)/(Mu*(1+Nu))\n",
    "\n",
    "# Mesh\n",
    "Dimensions = [5,5,5]\n",
    "[Mesh, V, u, du, v] = SF.MeshDefinition(Dimensions, NumberElements)\n",
    "[F, J, C, Ic] = SF.Kinematics(u)\n",
    "\n",
    "# Strain energy density function (Ogden)\n",
    "Psi = SF.CompressibleOgden(Mu, Alpha, D, C, Ic, J)\n",
    "\n",
    "# Simulate the solution\n",
    "DataFrame = SF.SolveProblem(LoadCase, FinalRelativeStretch, RelativeStepSize, Dimensions, NumberElements, Mesh, V, u, du, v, Ic, J, F, Psi)\n",
    "\n",
    "# Experimental data\n",
    "FolderPath = os.path.join('/home/msimon/Desktop/SHARED/ScriptsAndData/ExperimentalData/')\n",
    "FilePath = os.path.join(FolderPath, 'CR_' + LoadCase + '_ExpDat.csv')\n",
    "ExpData = pd.read_csv(FilePath, sep=';', header=None, decimal=',')\n",
    "\n",
    "# Plot\n",
    "plt.rc('figure', figsize=[12,7])\n",
    "fig = plt.figure()\n",
    "#fig.suptitle('Simulations %i Elements by side'%(NumberElements))\n",
    "ax = fig.add_subplot(1, 1, 1)\n",
    "ax.cla()\n",
    "ax.plot(ExpData[0], ExpData[1],  color = 'b', linestyle = '--', label = 'Original Data', marker = 'o', markersize = 8, fillstyle='none')\n",
    "ax.plot(DataFrame.Stretches, DataFrame.P,  color = 'r', linestyle = '--', label = 'Simulation Prediction', marker = 'o', markersize = 8, fillstyle='none')\n",
    "ax.set_xlabel('Stretch ratio (-)')\n",
    "ax.set_ylabel('Stresses (kPa)')\n",
    "ax.xaxis.set_major_locator(plt.MultipleLocator(0.02))\n",
    "ax.legend(loc='upper left', frameon=True, framealpha=1)\n",
    "#plt.title(LoadCase)\n",
    "#plt.savefig(os.path.join(Output_Path, FileName + '.pdf'))\n",
    "plt.show()"
   ]
  },
  {
   "cell_type": "code",
   "execution_count": null,
   "metadata": {},
   "outputs": [],
   "source": [
    "# Folder for the results\n",
    "Output_Path = 'ResultsOgden'\n",
    "os.makedirs(Output_Path, exist_ok=True)\n",
    "\n",
    "FileName = str(NumberElements) + 'Elements_' + LoadCase\n",
    "\n",
    "# Save table and figure\n",
    "DataFrame.to_csv(os.path.join(Output_Path, FileName))"
   ]
  },
  {
   "cell_type": "code",
   "execution_count": null,
   "metadata": {},
   "outputs": [],
   "source": []
  }
 ],
 "metadata": {
  "kernelspec": {
   "display_name": "Python 3",
   "language": "python",
   "name": "python3"
  },
  "language_info": {
   "codemirror_mode": {
    "name": "ipython",
    "version": 3
   },
   "file_extension": ".py",
   "mimetype": "text/x-python",
   "name": "python",
   "nbconvert_exporter": "python",
   "pygments_lexer": "ipython3",
   "version": "3.7.6"
  }
 },
 "nbformat": 4,
 "nbformat_minor": 4
}
