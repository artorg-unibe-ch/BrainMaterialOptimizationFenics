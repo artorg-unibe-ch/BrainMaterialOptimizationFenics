{
 "cells": [
  {
   "cell_type": "code",
   "execution_count": 1,
   "metadata": {},
   "outputs": [],
   "source": [
    "# IPython magic to import matplotlib and plot inline\n",
    "%matplotlib inline"
   ]
  },
  {
   "cell_type": "code",
   "execution_count": 2,
   "metadata": {},
   "outputs": [],
   "source": [
    "# Path settings\n",
    "import os\n",
    "# we use a relative path here, you can also specify an absolute path for your system\n",
    "out_path = \"output/05_hyperelasticity_neohook_p-u\"\n",
    "os.makedirs(out_path, exist_ok=True)\n",
    "\n",
    "import fenics as fe\n",
    "import pandas as pd\n",
    "import numpy as np\n",
    "import matplotlib.pyplot as plt \n",
    "import matplotlib.pyplot as plt \n",
    "\n",
    "fe.parameters[\"form_compiler\"][\"representation\"] = \"uflacs\"\n",
    "fe.parameters[\"form_compiler\"][\"quadrature_degree\"] = 2"
   ]
  },
  {
   "cell_type": "code",
   "execution_count": 3,
   "metadata": {},
   "outputs": [],
   "source": [
    "def get_tensor_components(tensor, point, name=None):\n",
    "    index_2d = {   'xx' : 0, 'xy' : 1,\n",
    "                   'yx' : 2, 'yy' : 3}\n",
    "    index_3d = {   'xx' : 0, 'xy' : 1, 'xz' : 2,\n",
    "                   'yx' : 3, 'yy' : 4, 'yz' : 5,\n",
    "                   'zx' : 6, 'zy' : 7, 'zz' : 8}\n",
    "    tensor_at_point = tensor(point)\n",
    "    if len(tensor_at_point)==4:\n",
    "        name_val_dict = { key : tensor_at_point[index] for key, index in index_2d.items()}\n",
    "    elif len(tensor_at_point)==9:\n",
    "        name_val_dict = { key : tensor_at_point[index] for key, index in index_3d.items()}\n",
    "    else:\n",
    "        print(\"Tensor at has %i elements -- can't handle\"%len(tensor_at_point))\n",
    "        name_val_dict = {}\n",
    "    if name:\n",
    "        name_val_dict = { \"%s_%s\"%(name, key) : val for key, val in name_val_dict.items()}\n",
    "    return name_val_dict\n",
    "        "
   ]
  },
  {
   "cell_type": "code",
   "execution_count": 4,
   "metadata": {},
   "outputs": [],
   "source": [
    "# mesh\n",
    "\n",
    "length_x = 1.0\n",
    "length_y = 1.0\n",
    "length_z = 1.0\n",
    "n_elements = 10\n",
    "#mesh = fe.RectangleMesh(fe.Point(0,0), fe.Point(length_x,length_y), 100,100)\n",
    "mesh = fe.BoxMesh(fe.Point(0,0,0),fe.Point(length_x, length_y, length_z),n_elements, n_elements, n_elements)\n"
   ]
  },
  {
   "cell_type": "code",
   "execution_count": 5,
   "metadata": {},
   "outputs": [],
   "source": [
    "# Mark sides\n",
    "sides_x_1  = fe.CompiledSubDomain(\"near(x[0], side) && on_boundary\", side = 0)\n",
    "sides_x_2  = fe.CompiledSubDomain(\"near(x[0], side) && on_boundary\", side = 1)\n",
    "sides_y_1  = fe.CompiledSubDomain(\"near(x[1], side) && on_boundary\", side = 0)\n",
    "sides_y_2  = fe.CompiledSubDomain(\"near(x[1], side) && on_boundary\", side = 1)\n",
    "sides_z_1  = fe.CompiledSubDomain(\"near(x[2], side) && on_boundary\", side = 0)\n",
    "sides_z_2  = fe.CompiledSubDomain(\"near(x[2], side) && on_boundary\", side = 1)\n",
    "\n",
    "sides = fe.MeshFunction(\"size_t\", mesh, mesh.topology().dim() - 1)\n",
    "sides.set_all(0)\n",
    "sides_x_1.mark(sides, 0)\n",
    "sides_x_2.mark(sides, 1)\n",
    "sides_y_1.mark(sides, 2)\n",
    "sides_y_2.mark(sides, 3)\n",
    "sides_z_1.mark(sides, 4)\n",
    "sides_z_2.mark(sides, 5)\n",
    "\n",
    "#-- save boundary to vtu for inspection\n",
    "boundary_file = fe.File(os.path.join(out_path, \"sides.pvd\"))\n",
    "boundary_file << sides"
   ]
  },
  {
   "cell_type": "code",
   "execution_count": 6,
   "metadata": {},
   "outputs": [],
   "source": [
    "displacement_element = fe.VectorElement(\"Lagrange\", mesh.ufl_cell(), 2)\n",
    "pressure_element = fe.FiniteElement(\"Lagrange\", mesh.ufl_cell(), 1)\n",
    "element = fe.MixedElement([displacement_element, pressure_element])\n",
    "\n",
    "V = fe.FunctionSpace(mesh, element)\n",
    "\n",
    "# FunctionSpace\n",
    "dup = fe.TrialFunction(V)\n",
    "vq  = fe.TestFunction(V)\n",
    "up    = fe.Function(V)\n",
    "u, p  = fe.split(up)\n",
    "# u.rename(\"displacement[mm]\", \"\")"
   ]
  },
  {
   "cell_type": "code",
   "execution_count": 7,
   "metadata": {},
   "outputs": [
    {
     "name": "stdout",
     "output_type": "stream",
     "text": [
      "VectorElement(FiniteElement('Lagrange', tetrahedron, 2), dim=3)\n"
     ]
    },
    {
     "data": {
      "text/plain": [
       "array([[0.  , 0.  , 0.  ],\n",
       "       [0.1 , 0.  , 0.  ],\n",
       "       [0.1 , 0.  , 0.1 ],\n",
       "       [0.1 , 0.1 , 0.1 ],\n",
       "       [0.1 , 0.05, 0.1 ],\n",
       "       [0.1 , 0.05, 0.05],\n",
       "       [0.1 , 0.  , 0.05],\n",
       "       [0.05, 0.05, 0.05],\n",
       "       [0.05, 0.  , 0.05],\n",
       "       [0.05, 0.  , 0.  ],\n",
       "       [0.  , 0.  , 0.  ],\n",
       "       [0.1 , 0.  , 0.  ],\n",
       "       [0.1 , 0.  , 0.1 ],\n",
       "       [0.1 , 0.1 , 0.1 ],\n",
       "       [0.1 , 0.05, 0.1 ],\n",
       "       [0.1 , 0.05, 0.05],\n",
       "       [0.1 , 0.  , 0.05],\n",
       "       [0.05, 0.05, 0.05],\n",
       "       [0.05, 0.  , 0.05],\n",
       "       [0.05, 0.  , 0.  ],\n",
       "       [0.  , 0.  , 0.  ],\n",
       "       [0.1 , 0.  , 0.  ],\n",
       "       [0.1 , 0.  , 0.1 ],\n",
       "       [0.1 , 0.1 , 0.1 ],\n",
       "       [0.1 , 0.05, 0.1 ],\n",
       "       [0.1 , 0.05, 0.05],\n",
       "       [0.1 , 0.  , 0.05],\n",
       "       [0.05, 0.05, 0.05],\n",
       "       [0.05, 0.  , 0.05],\n",
       "       [0.05, 0.  , 0.  ]])"
      ]
     },
     "execution_count": 7,
     "metadata": {},
     "output_type": "execute_result"
    }
   ],
   "source": [
    "ele = V.sub(0).element()\n",
    "print(ele.signature())\n",
    "cell = next(fe.cells(mesh))\n",
    "ele.tabulate_dof_coordinates(cell)"
   ]
  },
  {
   "cell_type": "code",
   "execution_count": 8,
   "metadata": {},
   "outputs": [],
   "source": [
    "# Mark boundary subdomians\n",
    "bcl = fe.DirichletBC(V.sub(0).sub(0), 0, sides_x_1)\n",
    "bc_right_expr = fe.Expression((\"d\"), d=0.0, element=V.sub(0).ufl_element())\n",
    "bcr = fe.DirichletBC(V.sub(0).sub(0), bc_right_expr, sides_x_2)\n",
    "\n",
    "bc_sides_y = fe.DirichletBC(V.sub(0).sub(1), 0, sides_y_1)\n",
    "bc_sides_z = fe.DirichletBC(V.sub(0).sub(2), 0, sides_z_1)\n",
    "\n",
    "bcs = [bcl, bcr, bc_sides_y, bc_sides_z]"
   ]
  },
  {
   "cell_type": "code",
   "execution_count": 9,
   "metadata": {},
   "outputs": [],
   "source": [
    "# Functions for \n",
    "\n",
    "def defGrad(u):\n",
    "    \"\"\"\n",
    "    Compute deformation gradient from displacements\n",
    "    \"\"\"\n",
    "    d = u.geometric_dimension()\n",
    "    I = fe.Identity(d)\n",
    "    F = I + fe.grad(u)             \n",
    "    return F\n",
    "\n",
    "\n",
    "\n",
    "\n",
    "def strainEnergyDensity_1(F, p, mu, lmbda):\n",
    "    J = fe.det(F)\n",
    "    C = F.T*F      # Right Cauchy-Green tensor\n",
    "    I1 = fe.tr(C)  # Invariants \n",
    "    #return (mu/2.)*(I1 - 3.) - (mu + p)*fe.ln(J) - lmbda/2.*p*p\n",
    "    #return (mu/2.)*(I1 - 3.) - p*fe.ln(J)\n",
    "    return (mu/2.)*(I1 - 3.) - p*(1-J) \n",
    "\n",
    "def strainEnergyDensity_2(F, p, mu, lmbda):\n",
    "    \"\"\"  \n",
    "    in this formulation, the lagrange multiplier p correseponds to the pressure p= 1/3 tr(S)\n",
    "    \"\"\"\n",
    "    J = fe.det(F)\n",
    "    C = F.T*F      # Right Cauchy-Green tensor\n",
    "    C_ = J**(-2./3.)*C\n",
    "    I1 = fe.tr(C_)  # Invariants \n",
    "    return (mu/2.)*(I1 - 3.) - p*(1-J)\n",
    "\n",
    "def strainEnergyDensity_3(F, p, mu, lmbda):\n",
    "    \"\"\"equivalent to strainEnergyDensity_2\"\"\"\n",
    "    J = fe.det(F)\n",
    "    C = F.T*F      \n",
    "    I1 = fe.tr(C)   \n",
    "    return (mu/2.)*(I1 - 3.) - p*(1-J) + mu/2. * I1 * (J**(-2./3.) - 1)\n",
    "\n",
    "\n",
    "def strainEnergyDensity_4(F, p, mu, lmbda):\n",
    "    J = fe.det(F)\n",
    "    C = F.T*F      # Right Cauchy-Green tensor\n",
    "    I1 = fe.tr(C)  # Invariants \n",
    "    return (mu/2.)*(I1 - 3.) - (mu + p)*fe.ln(J) - lmbda/2.*p*p\n",
    "\n",
    "\n",
    "def strainEnergyDensity_5(F, p, mu, lmbda):\n",
    "    J = fe.det(F)\n",
    "    C = F.T*F      # Right Cauchy-Green tensor\n",
    "    I1 = fe.tr(C)  # Invariants \n",
    "    return (mu/2.)*(I1 - 3.) - p*fe.ln(J)\n",
    "\n",
    "strainEnergyDensityFunctionNeoHookean = strainEnergyDensity_2\n",
    "    \n",
    "formulation_name = \"strainEnergyDensity_2\"\n",
    "\n",
    "out_path = os.path.join(out_path, formulation_name)\n",
    "os.makedirs(out_path, exist_ok=True)\n"
   ]
  },
  {
   "cell_type": "code",
   "execution_count": 10,
   "metadata": {},
   "outputs": [
    {
     "name": "stdout",
     "output_type": "stream",
     "text": [
      "0.00033333333333335555 1667073709.9277794\n"
     ]
    }
   ],
   "source": [
    "Ey = 1000E-6\n",
    "nu= 0.4999999999999\n",
    "\n",
    "mu    = Ey / (2.*(1+nu))\n",
    "lmbda = Ey*nu / ((1+nu)*(1-2*nu))\n",
    "print(mu, lmbda)"
   ]
  },
  {
   "cell_type": "code",
   "execution_count": 11,
   "metadata": {},
   "outputs": [],
   "source": [
    "# create deformation gradient\n",
    "F = defGrad(u)\n",
    "\n",
    "F = fe.variable(F) # !!! needed to be able to differentiate strain energydensity function wrt F for stress computation\n",
    "\n",
    "# instantiate strain energy density function for given material properties\n",
    "\n",
    "psi = strainEnergyDensityFunctionNeoHookean(F=F, p=p, mu=mu, lmbda=lmbda)\n",
    "\n",
    "# total potential energy \n",
    "Pi = psi * fe.dx \n",
    "\n",
    "# Compute 1st variation of Pi (directional derivative about u in dir. of v)\n",
    "Fpi = fe.derivative(Pi, up, vq)\n",
    "\n",
    "# Compute Jacobian of F\n",
    "Jac = fe.derivative(Fpi, up, dup)\n",
    "\n",
    "# du = fe.TrialFunction(V)\n",
    "# Fpi = fe.derivative(Pi, u, v)\n",
    "# Jac = fe.derivative(Fpi, u, du)"
   ]
  },
  {
   "cell_type": "code",
   "execution_count": 12,
   "metadata": {},
   "outputs": [
    {
     "name": "stdout",
     "output_type": "stream",
     "text": [
      "Calling FFC just-in-time (JIT) compiler, this may take some time.\n",
      "Calling FFC just-in-time (JIT) compiler, this may take some time.\n"
     ]
    }
   ],
   "source": [
    "# Define the solver\n",
    "problem = fe.NonlinearVariationalProblem(Fpi, up, bcs, Jac)\n",
    "solver = fe.NonlinearVariationalSolver(problem)\n",
    "\n",
    "# Set solver parameters (optional)\n",
    "prm = solver.parameters\n",
    "# prm['nonlinear_solver'] = 'snes'\n",
    "# prm['snes_solver']['line_search'] = 'basic'\n",
    "# prm['snes_solver']['linear_solver']= 'lu'\n",
    "\n",
    "#prm['newton_solver']['linear_solver'] = 'mumps'\n",
    "prm['newton_solver']['linear_solver'] = 'petsc'\n",
    "#prm['newton_solver']['preconditioner'] = 't_krylov_solver_preconditioners'"
   ]
  },
  {
   "cell_type": "code",
   "execution_count": null,
   "metadata": {},
   "outputs": [],
   "source": []
  },
  {
   "cell_type": "code",
   "execution_count": 13,
   "metadata": {},
   "outputs": [
    {
     "name": "stdout",
     "output_type": "stream",
     "text": [
      "-- solving for stretch = 0.40\n",
      "CPU times: user 1min 25s, sys: 4.65 s, total: 1min 30s\n",
      "Wall time: 1min 22s\n",
      "Calling FFC just-in-time (JIT) compiler, this may take some time.\n",
      "Calling FFC just-in-time (JIT) compiler, this may take some time.\n",
      "-- solving for stretch = 0.60\n",
      "CPU times: user 1min 33s, sys: 4.12 s, total: 1min 37s\n",
      "Wall time: 1min 29s\n",
      "-- solving for stretch = 0.80\n",
      "CPU times: user 1min 6s, sys: 3.32 s, total: 1min 9s\n",
      "Wall time: 1min 3s\n",
      "-- solving for stretch = 1.00\n",
      "CPU times: user 1min 5s, sys: 3.08 s, total: 1min 8s\n",
      "Wall time: 1min 2s\n",
      "-- solving for stretch = 1.20\n",
      "CPU times: user 1min 7s, sys: 3.34 s, total: 1min 11s\n",
      "Wall time: 1min 4s\n",
      "-- solving for stretch = 1.40\n",
      "CPU times: user 1min, sys: 3.47 s, total: 1min 3s\n",
      "Wall time: 57.1 s\n",
      "-- solving for stretch = 1.60\n",
      "CPU times: user 58.7 s, sys: 3.84 s, total: 1min 2s\n",
      "Wall time: 55.4 s\n",
      "-- solving for stretch = 1.80\n",
      "CPU times: user 56.9 s, sys: 3.92 s, total: 1min\n",
      "Wall time: 53.6 s\n",
      "-- solving for stretch = 2.00\n",
      "CPU times: user 57.1 s, sys: 3.94 s, total: 1min 1s\n",
      "Wall time: 53.8 s\n",
      "-- solving for stretch = 2.20\n",
      "CPU times: user 59.3 s, sys: 3.55 s, total: 1min 2s\n",
      "Wall time: 56.3 s\n",
      "-- solving for stretch = 2.40\n",
      "CPU times: user 56.5 s, sys: 3.46 s, total: 60 s\n",
      "Wall time: 53.3 s\n",
      "-- solving for stretch = 2.60\n",
      "CPU times: user 1min 4s, sys: 3.63 s, total: 1min 7s\n",
      "Wall time: 1min 1s\n",
      "-- solving for stretch = 2.80\n",
      "CPU times: user 1min 11s, sys: 3.22 s, total: 1min 15s\n",
      "Wall time: 1min 8s\n",
      "-- solving for stretch = 3.00\n",
      "CPU times: user 1min 12s, sys: 3.17 s, total: 1min 15s\n",
      "Wall time: 1min 10s\n",
      "-- solving for stretch = 3.20\n",
      "CPU times: user 1min 10s, sys: 3.35 s, total: 1min 13s\n",
      "Wall time: 1min 8s\n"
     ]
    }
   ],
   "source": [
    "T = fe.TensorFunctionSpace(mesh, 'P', 1)\n",
    "W = fe.FunctionSpace(mesh, 'P', 1)\n",
    "VU = fe.FunctionSpace(mesh, displacement_element)\n",
    "VP = fe.FunctionSpace(mesh, pressure_element)\n",
    "\n",
    "\n",
    "\n",
    "# Create XMDF file for the solution\n",
    "xmdffile = fe.XDMFFile(os.path.join(out_path, formulation_name + '_results_quad-u_lin-p.xdmf'))\n",
    "xmdffile.parameters[\"flush_output\"] = True\n",
    "xmdffile.parameters[\"functions_share_mesh\"] = True\n",
    "\n",
    "df = pd.DataFrame()\n",
    "\n",
    "# n = up.vector().get_local().shape\n",
    "# up_noise_np = np.random.rand(n[0])\n",
    "# up.vector().set_local(up_noise_np)\n",
    "\n",
    "df = pd.DataFrame()\n",
    "\n",
    "\n",
    "for d in np.arange(-0.6, 2.4, 0.2):\n",
    "    stretch = (length_x + d)/length_x\n",
    "    print(\"-- solving for stretch = %.2f\"%stretch)\n",
    "    bc_right_expr.d = d\n",
    "    %time solver.solve()\n",
    "    u, p = fe.split(up)\n",
    "    \n",
    "    u_project = fe.project(u, VU, solver_type='cg')\n",
    "    p_project = fe.project(p, VP, solver_type='cg')\n",
    "    u_project.rename(\"displacement[mm]\", \"\")\n",
    "    p_project.rename(\"pressure\", \"\")\n",
    "    xmdffile.write(u_project,d)\n",
    "    xmdffile.write(p_project,d)\n",
    "    \n",
    "    # compute stresS\n",
    "    S = 1/fe.det(F)*fe.diff(psi, F)*F.T            \n",
    "    S_project = fe.project(S, T, solver_type='cg')\n",
    "    S_project.rename(\"cauchy_stress[MPa]\", \"\")\n",
    "    xmdffile.write(S_project,d)\n",
    "    # project F\n",
    "    F_project = fe.project(F, T, solver_type='cg')\n",
    "    F_project.rename(\"deformation_gradient\", \"\")\n",
    "    xmdffile.write(F_project,d)\n",
    "    # project C\n",
    "    C_project = fe.project(F.T*F, T, solver_type='cg')\n",
    "    C_project.rename(\"cauchy_green\", \"\")\n",
    "    xmdffile.write(C_project,d)\n",
    "    # compute J\n",
    "    J = fe.det(F)\n",
    "    J_project = fe.project(J, W, solver_type='cg')\n",
    "    J_project.rename(\"det(F)\", \"\")\n",
    "    xmdffile.write(J_project,d)\n",
    "    \n",
    "    # p from stress tensor \n",
    "    p_stress = 1./3.*fe.tr(S)\n",
    "    p_stress_project = fe.project(p_stress, VP, solver_type='cg')\n",
    "    p_stress_project.rename(\"p_from_stress\", \"\")\n",
    "    xmdffile.write(p_stress_project,d)\n",
    "    \n",
    "    # to table\n",
    "    point = fe.Point(1, 0.5)\n",
    "    s = S_project(point)\n",
    "    f = F_project(point)\n",
    "    c = C_project(point)\n",
    "    j = J_project(point)\n",
    "    U = u_project(point)\n",
    "    P = p_project(point)\n",
    "    P_stress = p_stress_project(point)\n",
    "    df_dict = {}\n",
    "    df_dict[\"stretch_ratio\"] = stretch\n",
    "    df_dict.update( get_tensor_components(S_project, point, 'S') )\n",
    "    df_dict.update( get_tensor_components(F_project, point, 'F') )\n",
    "    df_dict.update( get_tensor_components(C_project, point, 'C') )\n",
    "    df_dict[\"Sxx_analytic\"] = mu * (stretch*stretch - 1./stretch) # 3D, uniaxial tension, unconstrained; https://en.wikipedia.org/wiki/Neo-Hookean_solid\n",
    "    df_dict[\"u_x\"] = U[0]\n",
    "    df_dict[\"p\"] = P\n",
    "    df_dict[\"p_from_stress\"] = P_stress\n",
    "    #print(df_dict)\n",
    "    df = df.append(df_dict, ignore_index=True)\n",
    "\n",
    "xmdffile.close()    \n",
    "    "
   ]
  },
  {
   "cell_type": "code",
   "execution_count": 14,
   "metadata": {},
   "outputs": [],
   "source": [
    "df[\"S_xx_norm\"] = df[\"S_xx\"]/mu\n",
    "df[\"S_xy_norm\"] = df[\"S_xy\"]/mu\n",
    "df[\"S_yx_norm\"] = df[\"S_yx\"]/mu\n",
    "df[\"S_yy_norm\"] = df[\"S_yy\"]/mu\n",
    "df[\"S_zz_norm\"] = df[\"S_zz\"]/mu\n",
    "df[\"Sxx_analytic_norm\"] = df[\"Sxx_analytic\"]/mu"
   ]
  },
  {
   "cell_type": "code",
   "execution_count": 15,
   "metadata": {},
   "outputs": [
    {
     "data": {
      "image/png": "[encoded data removed]",
      "text/plain": [
       "<Figure size 576x432 with 1 Axes>"
      ]
     },
     "metadata": {
      "needs_background": "light"
     },
     "output_type": "display_data"
    }
   ],
   "source": [
    "fig, ax = plt.subplots(figsize=(8,6))\n",
    "df.plot(x=\"stretch_ratio\", y=[\"S_xx_norm\", \"S_yy_norm\", \"S_zz_norm\"], marker='o', ax=ax)\n",
    "df.plot(x=\"stretch_ratio\", y=[\"Sxx_analytic_norm\"], marker='x', linestyle='--', ax=ax)\n",
    "ax.set_ylabel(\"$\\sigma$ [normalized by $\\mu$]\")\n",
    "ax.set_xlabel(\"stretch ratio along x\")\n",
    "fig.savefig(os.path.join(out_path, formulation_name + \"_stresses.png\" ))\n",
    "plt.show()\n"
   ]
  },
  {
   "cell_type": "code",
   "execution_count": 16,
   "metadata": {},
   "outputs": [
    {
     "data": {
      "image/png": "[encoded data removed]",
      "text/plain": [
       "<Figure size 576x432 with 1 Axes>"
      ]
     },
     "metadata": {
      "needs_background": "light"
     },
     "output_type": "display_data"
    }
   ],
   "source": [
    "fig, ax = plt.subplots(figsize=(8,6))\n",
    "df.plot(x=\"stretch_ratio\", y=[\"p\"], marker='o', ax=ax)\n",
    "df.plot(x=\"stretch_ratio\", y=[\"p_from_stress\"], marker='x', linestyle='--', ax=ax)\n",
    "ax.set_ylabel(\"pressure\")\n",
    "ax.set_xlabel(\"stretch ratio along x\")\n",
    "fig.savefig(os.path.join(out_path, formulation_name + \"_pressures.png\" ))\n",
    "plt.show()\n"
   ]
  },
  {
   "cell_type": "code",
   "execution_count": 17,
   "metadata": {},
   "outputs": [
    {
     "data": {
      "text/plain": [
       "Index(['C_xx', 'C_xy', 'C_xz', 'C_yx', 'C_yy', 'C_yz', 'C_zx', 'C_zy', 'C_zz',\n",
       "       'F_xx', 'F_xy', 'F_xz', 'F_yx', 'F_yy', 'F_yz', 'F_zx', 'F_zy', 'F_zz',\n",
       "       'S_xx', 'S_xy', 'S_xz', 'S_yx', 'S_yy', 'S_yz', 'S_zx', 'S_zy', 'S_zz',\n",
       "       'Sxx_analytic', 'p', 'p_from_stress', 'stretch_ratio', 'u_x',\n",
       "       'S_xx_norm', 'S_xy_norm', 'S_yx_norm', 'S_yy_norm', 'S_zz_norm',\n",
       "       'Sxx_analytic_norm'],\n",
       "      dtype='object')"
      ]
     },
     "execution_count": 17,
     "metadata": {},
     "output_type": "execute_result"
    }
   ],
   "source": [
    "df.columns"
   ]
  },
  {
   "cell_type": "code",
   "execution_count": 18,
   "metadata": {},
   "outputs": [],
   "source": [
    "# -- solving for stretch = 0.40\n",
    "# CPU times: user 1min 19s, sys: 4.83 s, total: 1min 24s\n",
    "# Wall time: 1min 15s\n",
    "# -- solving for stretch = 0.80\n",
    "# CPU times: user 1min 33s, sys: 6 s, total: 1min 39s\n",
    "# Wall time: 1min 27s\n",
    "# -- solving for stretch = 1.20\n",
    "# CPU times: user 1min 12s, sys: 5.34 s, total: 1min 18s\n",
    "# Wall time: 1min 8s\n",
    "# -- solving for stretch = 1.60\n",
    "# CPU times: user 1min, sys: 3.93 s, total: 1min 4s\n",
    "# Wall time: 56.9 s\n",
    "# -- solving for stretch = 2.00\n",
    "# CPU times: user 57 s, sys: 4.17 s, total: 1min 1s\n",
    "# Wall time: 53.5 s\n",
    "# -- solving for stretch = 2.40\n",
    "# CPU times: user 56.5 s, sys: 4.2 s, total: 1min\n",
    "# Wall time: 53 s\n",
    "# -- solving for stretch = 2.80\n",
    "# CPU times: user 57.8 s, sys: 4.26 s, total: 1min 2s\n",
    "# Wall time: 54.3 s\n",
    "# -- solving for stretch = 3.20\n",
    "# CPU times: user 58.1 s, sys: 4.14 s, total: 1min 2s\n",
    "# Wall time: 54.5 s\n",
    "\n",
    "\n",
    "\n",
    "\n",
    "\n",
    "# -- solving for stretch = 0.40\n",
    "# CPU times: user 3min 14s, sys: 2min 9s, total: 5min 23s\n",
    "# Wall time: 35 s\n",
    "# -- solving for stretch = 0.80\n",
    "# CPU times: user 3min 49s, sys: 2min 23s, total: 6min 13s\n",
    "# Wall time: 36.7 s\n",
    "# -- solving for stretch = 1.20\n",
    "# CPU times: user 2min 47s, sys: 1min 31s, total: 4min 19s\n",
    "# Wall time: 24.8 s\n",
    "# -- solving for stretch = 1.60\n",
    "# CPU times: user 2min 10s, sys: 1min 12s, total: 3min 22s\n",
    "# Wall time: 19.7 s\n",
    "# -- solving for stretch = 2.00\n",
    "# CPU times: user 2min 5s, sys: 1min 9s, total: 3min 14s\n",
    "# Wall time: 18.5 s\n",
    "# -- solving for stretch = 2.40\n",
    "# CPU times: user 2min 2s, sys: 1min 7s, total: 3min 9s\n",
    "# Wall time: 18 s\n",
    "# -- solving for stretch = 2.80\n",
    "# CPU times: user 2min 10s, sys: 1min 13s, total: 3min 23s\n",
    "# Wall time: 20 s\n",
    "# -- solving for stretch = 3.20\n",
    "# CPU times: user 2min 17s, sys: 1min 23s, total: 3min 40s\n",
    "# Wall time: 21.4 s\n",
    "\n"
   ]
  },
  {
   "cell_type": "code",
   "execution_count": 19,
   "metadata": {},
   "outputs": [],
   "source": [
    "fe.list_linear_solver_methods()"
   ]
  },
  {
   "cell_type": "code",
   "execution_count": 20,
   "metadata": {},
   "outputs": [],
   "source": [
    "fe.list_krylov_solver_preconditioners()"
   ]
  },
  {
   "cell_type": "code",
   "execution_count": null,
   "metadata": {},
   "outputs": [],
   "source": []
  }
 ],
 "metadata": {
  "kernelspec": {
   "display_name": "Python 3",
   "language": "python",
   "name": "python3"
  },
  "language_info": {
   "codemirror_mode": {
    "name": "ipython",
    "version": 3
   },
   "file_extension": ".py",
   "mimetype": "text/x-python",
   "name": "python",
   "nbconvert_exporter": "python",
   "pygments_lexer": "ipython3",
   "version": "3.7.5"
  }
 },
 "nbformat": 4,
 "nbformat_minor": 4
}
