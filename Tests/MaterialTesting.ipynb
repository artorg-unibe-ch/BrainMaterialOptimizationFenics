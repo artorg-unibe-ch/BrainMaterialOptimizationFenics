{
 "cells": [
  {
   "cell_type": "code",
   "execution_count": 1,
   "metadata": {},
   "outputs": [],
   "source": [
    "from sympy import *\n",
    "import numpy as np\n",
    "from IPython.display import display\n",
    "import matplotlib.pyplot as plt"
   ]
  },
  {
   "cell_type": "code",
   "execution_count": 2,
   "metadata": {},
   "outputs": [],
   "source": [
    "# def sec(C):\n",
    "#     sec = 1/2 * (trace(C)**2 - trace(C**2))\n",
    "#     return sec"
   ]
  },
  {
   "cell_type": "code",
   "execution_count": 3,
   "metadata": {},
   "outputs": [],
   "source": [
    "# Identity tensor\n",
    "I = eye(3)\n",
    "\n",
    "# Direction vector\n",
    "e1 = I[:,0]\n",
    "e2 = I[:,1]\n",
    "e3 = I[:,2]"
   ]
  },
  {
   "cell_type": "code",
   "execution_count": 4,
   "metadata": {},
   "outputs": [],
   "source": [
    "# Dilatation coefficients (Poisson's ratio:https://en.wikipedia.org/wiki/Poisson%27s_ratio - Length change)\n",
    "u, Nu, Mu   = symbols(r'u \\nu \\mu', positive=True)\n",
    "\n",
    "LambdaH = 1             # Coefficient for homogeneous dilatation\n",
    "LambdaX = u **(-Nu)     # Coefficient for lengthening in e1 direction (here <1)\n",
    "LambdaY = u **(-Nu)     # Coefficient for lengthening in e2 direction (here <1)\n",
    "LambdaZ = u             # Coefficient for lengthening in e3 direction (here >1)"
   ]
  },
  {
   "cell_type": "code",
   "execution_count": 5,
   "metadata": {},
   "outputs": [],
   "source": [
    "# Deformation matrices\n",
    "U = I + (LambdaX-1) * np.outer(e1,e1) + (LambdaY-1) * np.outer(e2,e2) + (LambdaZ-1) * np.outer(e3,e3)\n",
    "\n",
    "# Gradient of the deformation\n",
    "F = (LambdaH-1) * I + U\n",
    "\n",
    "# Right Cauchy-Green strain tensor\n",
    "C = transpose(F) * F"
   ]
  },
  {
   "cell_type": "code",
   "execution_count": 6,
   "metadata": {},
   "outputs": [
    {
     "data": {
      "text/latex": [
       "$\\displaystyle C_{1} \\left(\\frac{\\operatorname{I_{1}}{\\left(\\lambda_1,\\lambda_2,\\lambda_3 \\right)}}{J^{\\frac{2}{3}}{\\left(\\lambda_1,\\lambda_2,\\lambda_3 \\right)}} - 3\\right) + D_{1} \\left(J{\\left(\\lambda_1,\\lambda_2,\\lambda_3 \\right)} - 1\\right)^{2}$"
      ],
      "text/plain": [
       "C_{1}*(I_1(\\lambda_1, \\lambda_2, \\lambda_3)/J(\\lambda_1, \\lambda_2, \\lambda_3)**(2/3) - 3) + D_{1}*(J(\\lambda_1, \\lambda_2, \\lambda_3) - 1)**2"
      ]
     },
     "metadata": {},
     "output_type": "display_data"
    }
   ],
   "source": [
    "# Eigenvalues of Right Cauchy-Green strain tensor\n",
    "Lambda1, Lambda2, Lambda3 = symbols(r'\\lambda_1 \\lambda_2 \\lambda_3')\n",
    "\n",
    "# Invariants\n",
    "J = Function('J')(Lambda1,Lambda2,Lambda3)\n",
    "JFunction = Lambda1*Lambda2*Lambda3\n",
    "\n",
    "I1 = Function('I_1')(Lambda1,Lambda2,Lambda3)\n",
    "I1Function = Lambda1**2+Lambda2**2+Lambda3**2\n",
    "\n",
    "I2 = Function('I_2')(Lambda1,Lambda2,Lambda3)\n",
    "I2Function = Lambda1**2*Lambda2**2 + Lambda2**2*Lambda3**2 + Lambda3**2*Lambda1**2\n",
    "\n",
    "# Hyperelastic models (compressible)\n",
    "\n",
    "# Neo-Hookean\n",
    "C1, D1 = symbols(r'C_{1} D_{1}', positive=True)\n",
    "C1Function  = Mu / 2\n",
    "D1Function  = Mu*Nu / (1 - 2*Nu)\n",
    "Psi_NH = C1 * (J**Rational(-2,3)*I1 - 3) + D1 * (J-1)**2\n",
    "\n",
    "Psis = [Psi_NH]\n",
    "Psi  = Psis[0]\n",
    "display(Psi)"
   ]
  },
  {
   "cell_type": "code",
   "execution_count": 7,
   "metadata": {},
   "outputs": [
    {
     "data": {
      "text/latex": [
       "$\\displaystyle \\left[\\begin{matrix}\\frac{2 C_{1} \\left(- I_{1} + 3 \\lambda_1^{2}\\right) + 6 D_{1} J^{\\frac{5}{3}} \\left(J - 1\\right)}{3 J^{\\frac{5}{3}}} & 0 & 0\\\\0 & \\frac{2 C_{1} \\left(- I_{1} + 3 \\lambda_2^{2}\\right) + 6 D_{1} J^{\\frac{5}{3}} \\left(J - 1\\right)}{3 J^{\\frac{5}{3}}} & 0\\\\0 & 0 & \\frac{2 C_{1} \\left(- I_{1} + 3 \\lambda_3^{2}\\right) + 6 D_{1} J^{\\frac{5}{3}} \\left(J - 1\\right)}{3 J^{\\frac{5}{3}}}\\end{matrix}\\right]$"
      ],
      "text/plain": [
       "Matrix([\n",
       "[(2*C_{1}*(-I_1 + 3*\\lambda_1**2) + 6*D_{1}*J**(5/3)*(J - 1))/(3*J**(5/3)),                                                                         0,                                                                         0],\n",
       "[                                                                        0, (2*C_{1}*(-I_1 + 3*\\lambda_2**2) + 6*D_{1}*J**(5/3)*(J - 1))/(3*J**(5/3)),                                                                         0],\n",
       "[                                                                        0,                                                                         0, (2*C_{1}*(-I_1 + 3*\\lambda_3**2) + 6*D_{1}*J**(5/3)*(J - 1))/(3*J**(5/3))]])"
      ]
     },
     "metadata": {},
     "output_type": "display_data"
    }
   ],
   "source": [
    "# Derivative with respect to Lambdas (https://en.wikipedia.org/wiki/Hyperelastic_material: compressible isotropic hyperelastic material)\n",
    "Psi = Psi.subs({J:JFunction,I1:I1Function})\n",
    "\n",
    "T1 = Lambda1*Derivative(Psi, Lambda1)/(Lambda1*Lambda2*Lambda3)\n",
    "T1 = T1.doit()\n",
    "\n",
    "T2 = Lambda2*Derivative(Psi, Lambda2)/(Lambda1*Lambda2*Lambda3)\n",
    "T2 = T2.doit()\n",
    "\n",
    "T3 = Lambda3*Derivative(Psi, Lambda3)/(Lambda1*Lambda2*Lambda3)\n",
    "T3 = T3.doit()\n",
    "\n",
    "T = T1 * np.outer(e1,e1) + T2 *np.outer(e2,e2) + T3 * np.outer(e3,e3)     # Add the pressure p for incompressibility\n",
    "T = Matrix(T).doit()\n",
    "T = T.subs({JFunction:J,I1Function:I1})\n",
    "T = simplify(T)\n",
    "T = T.subs({JFunction:J,I1Function:I1})\n",
    "T = T.subs({J:'J',I1:'I_1'})\n",
    "display(T)"
   ]
  },
  {
   "cell_type": "code",
   "execution_count": 8,
   "metadata": {},
   "outputs": [
    {
     "data": {
      "text/latex": [
       "$\\displaystyle \\left[\\begin{matrix}\\frac{2 C_{1} \\left(2 \\lambda_1^{2} - \\lambda_2^{2} - \\lambda_3^{2}\\right) + 6 D_{1} \\left(\\lambda_1 \\lambda_2 \\lambda_3\\right)^{\\frac{5}{3}} \\left(\\lambda_1 \\lambda_2 \\lambda_3 - 1\\right)}{3 \\left(\\lambda_1 \\lambda_2 \\lambda_3\\right)^{\\frac{5}{3}}} & 0 & 0\\\\0 & \\frac{2 C_{1} \\left(- \\lambda_1^{2} + 2 \\lambda_2^{2} - \\lambda_3^{2}\\right) + 6 D_{1} \\left(\\lambda_1 \\lambda_2 \\lambda_3\\right)^{\\frac{5}{3}} \\left(\\lambda_1 \\lambda_2 \\lambda_3 - 1\\right)}{3 \\left(\\lambda_1 \\lambda_2 \\lambda_3\\right)^{\\frac{5}{3}}} & 0\\\\0 & 0 & \\frac{2 C_{1} \\left(- \\lambda_1^{2} - \\lambda_2^{2} + 2 \\lambda_3^{2}\\right) + 6 D_{1} \\left(\\lambda_1 \\lambda_2 \\lambda_3\\right)^{\\frac{5}{3}} \\left(\\lambda_1 \\lambda_2 \\lambda_3 - 1\\right)}{3 \\left(\\lambda_1 \\lambda_2 \\lambda_3\\right)^{\\frac{5}{3}}}\\end{matrix}\\right]$"
      ],
      "text/plain": [
       "Matrix([\n",
       "[(2*C_{1}*(2*\\lambda_1**2 - \\lambda_2**2 - \\lambda_3**2) + 6*D_{1}*(\\lambda_1*\\lambda_2*\\lambda_3)**(5/3)*(\\lambda_1*\\lambda_2*\\lambda_3 - 1))/(3*(\\lambda_1*\\lambda_2*\\lambda_3)**(5/3)),                                                                                                                                                                                         0,                                                                                                                                                                                         0],\n",
       "[                                                                                                                                                                                       0, (2*C_{1}*(-\\lambda_1**2 + 2*\\lambda_2**2 - \\lambda_3**2) + 6*D_{1}*(\\lambda_1*\\lambda_2*\\lambda_3)**(5/3)*(\\lambda_1*\\lambda_2*\\lambda_3 - 1))/(3*(\\lambda_1*\\lambda_2*\\lambda_3)**(5/3)),                                                                                                                                                                                         0],\n",
       "[                                                                                                                                                                                       0,                                                                                                                                                                                         0, (2*C_{1}*(-\\lambda_1**2 - \\lambda_2**2 + 2*\\lambda_3**2) + 6*D_{1}*(\\lambda_1*\\lambda_2*\\lambda_3)**(5/3)*(\\lambda_1*\\lambda_2*\\lambda_3 - 1))/(3*(\\lambda_1*\\lambda_2*\\lambda_3)**(5/3))]])"
      ]
     },
     "metadata": {},
     "output_type": "display_data"
    },
    {
     "data": {
      "text/latex": [
       "$\\displaystyle \\left[\\begin{matrix}\\frac{\\frac{6 \\mu \\nu \\left(\\lambda_1 \\lambda_2 \\lambda_3\\right)^{\\frac{5}{3}} \\left(\\lambda_1 \\lambda_2 \\lambda_3 - 1\\right)}{1 - 2 \\nu} + \\mu \\left(2 \\lambda_1^{2} - \\lambda_2^{2} - \\lambda_3^{2}\\right)}{3 \\left(\\lambda_1 \\lambda_2 \\lambda_3\\right)^{\\frac{5}{3}}} & 0 & 0\\\\0 & \\frac{\\frac{6 \\mu \\nu \\left(\\lambda_1 \\lambda_2 \\lambda_3\\right)^{\\frac{5}{3}} \\left(\\lambda_1 \\lambda_2 \\lambda_3 - 1\\right)}{1 - 2 \\nu} + \\mu \\left(- \\lambda_1^{2} + 2 \\lambda_2^{2} - \\lambda_3^{2}\\right)}{3 \\left(\\lambda_1 \\lambda_2 \\lambda_3\\right)^{\\frac{5}{3}}} & 0\\\\0 & 0 & \\frac{\\frac{6 \\mu \\nu \\left(\\lambda_1 \\lambda_2 \\lambda_3\\right)^{\\frac{5}{3}} \\left(\\lambda_1 \\lambda_2 \\lambda_3 - 1\\right)}{1 - 2 \\nu} + \\mu \\left(- \\lambda_1^{2} - \\lambda_2^{2} + 2 \\lambda_3^{2}\\right)}{3 \\left(\\lambda_1 \\lambda_2 \\lambda_3\\right)^{\\frac{5}{3}}}\\end{matrix}\\right]$"
      ],
      "text/plain": [
       "Matrix([\n",
       "[(6*\\mu*\\nu*(\\lambda_1*\\lambda_2*\\lambda_3)**(5/3)*(\\lambda_1*\\lambda_2*\\lambda_3 - 1)/(1 - 2*\\nu) + \\mu*(2*\\lambda_1**2 - \\lambda_2**2 - \\lambda_3**2))/(3*(\\lambda_1*\\lambda_2*\\lambda_3)**(5/3)),                                                                                                                                                                                                   0,                                                                                                                                                                                                   0],\n",
       "[                                                                                                                                                                                                 0, (6*\\mu*\\nu*(\\lambda_1*\\lambda_2*\\lambda_3)**(5/3)*(\\lambda_1*\\lambda_2*\\lambda_3 - 1)/(1 - 2*\\nu) + \\mu*(-\\lambda_1**2 + 2*\\lambda_2**2 - \\lambda_3**2))/(3*(\\lambda_1*\\lambda_2*\\lambda_3)**(5/3)),                                                                                                                                                                                                   0],\n",
       "[                                                                                                                                                                                                 0,                                                                                                                                                                                                   0, (6*\\mu*\\nu*(\\lambda_1*\\lambda_2*\\lambda_3)**(5/3)*(\\lambda_1*\\lambda_2*\\lambda_3 - 1)/(1 - 2*\\nu) + \\mu*(-\\lambda_1**2 - \\lambda_2**2 + 2*\\lambda_3**2))/(3*(\\lambda_1*\\lambda_2*\\lambda_3)**(5/3))]])"
      ]
     },
     "metadata": {},
     "output_type": "display_data"
    },
    {
     "data": {
      "text/latex": [
       "$\\displaystyle \\left[\\begin{matrix}\\frac{u^{\\frac{20 \\nu}{3}} \\left(\\frac{6 \\mu \\nu u^{\\frac{10}{3}} u^{- \\frac{20 \\nu}{3}} \\left(u^{2} u^{- 4 \\nu} - 1\\right)}{1 - 2 \\nu} + \\mu \\left(- u^{4} + u^{- 4 \\nu}\\right)\\right)}{3 u^{\\frac{10}{3}}} & 0 & 0\\\\0 & \\frac{u^{\\frac{20 \\nu}{3}} \\left(\\frac{6 \\mu \\nu u^{\\frac{10}{3}} u^{- \\frac{20 \\nu}{3}} \\left(u^{2} u^{- 4 \\nu} - 1\\right)}{1 - 2 \\nu} + \\mu \\left(- u^{4} + u^{- 4 \\nu}\\right)\\right)}{3 u^{\\frac{10}{3}}} & 0\\\\0 & 0 & \\frac{u^{\\frac{20 \\nu}{3}} \\left(\\frac{6 \\mu \\nu u^{\\frac{10}{3}} u^{- \\frac{20 \\nu}{3}} \\left(u^{2} u^{- 4 \\nu} - 1\\right)}{1 - 2 \\nu} + \\mu \\left(2 u^{4} - 2 u^{- 4 \\nu}\\right)\\right)}{3 u^{\\frac{10}{3}}}\\end{matrix}\\right]$"
      ],
      "text/plain": [
       "Matrix([\n",
       "[u**(20*\\nu/3)*(6*\\mu*\\nu*u**(10/3)*u**(-20*\\nu/3)*(u**2*u**(-4*\\nu) - 1)/(1 - 2*\\nu) + \\mu*(-u**4 + u**(-4*\\nu)))/(3*u**(10/3)),                                                                                                                               0,                                                                                                                                  0],\n",
       "[                                                                                                                              0, u**(20*\\nu/3)*(6*\\mu*\\nu*u**(10/3)*u**(-20*\\nu/3)*(u**2*u**(-4*\\nu) - 1)/(1 - 2*\\nu) + \\mu*(-u**4 + u**(-4*\\nu)))/(3*u**(10/3)),                                                                                                                                  0],\n",
       "[                                                                                                                              0,                                                                                                                               0, u**(20*\\nu/3)*(6*\\mu*\\nu*u**(10/3)*u**(-20*\\nu/3)*(u**2*u**(-4*\\nu) - 1)/(1 - 2*\\nu) + \\mu*(2*u**4 - 2*u**(-4*\\nu)))/(3*u**(10/3))]])"
      ]
     },
     "metadata": {},
     "output_type": "display_data"
    },
    {
     "data": {
      "text/latex": [
       "$\\displaystyle \\left[\\begin{matrix}0 & 0 & 0\\\\0 & 0 & 0\\\\0 & 0 & \\mu u^{\\frac{8 \\nu}{3} - \\frac{10}{3}} \\left(u^{4 \\nu + 4} - 1\\right)\\end{matrix}\\right]$"
      ],
      "text/plain": [
       "Matrix([\n",
       "[0, 0,                                            0],\n",
       "[0, 0,                                            0],\n",
       "[0, 0, \\mu*u**(8*\\nu/3 - 10/3)*(u**(4*\\nu + 4) - 1)]])"
      ]
     },
     "metadata": {},
     "output_type": "display_data"
    }
   ],
   "source": [
    "# Replace invariants\n",
    "T = T.subs({'J':JFunction,'I_1':I1Function})\n",
    "display(T)\n",
    "# Replace material constants\n",
    "T = T.subs({C1:C1Function,D1:D1Function})\n",
    "display(T)\n",
    "# Replace Eingenvalues\n",
    "Lambdas = C.eigenvals()\n",
    "Lambdas = list(Lambdas)\n",
    "T = T.subs({Lambda1:Lambdas[0], Lambda2:Lambdas[0], Lambda3:Lambdas[1]})\n",
    "display(T)\n",
    "# T11 and T22 is null\n",
    "T = T - T[0,0] * I\n",
    "T = simplify(T)\n",
    "display(T)"
   ]
  },
  {
   "cell_type": "code",
   "execution_count": 9,
   "metadata": {},
   "outputs": [
    {
     "data": {
      "text/latex": [
       "$\\displaystyle \\left[\\begin{matrix}0 & 0 & 0\\\\0 & 0 & 0\\\\0 & 0 & \\frac{\\mu u^{- 2 \\nu} u^{\\frac{8 \\nu}{3} - \\frac{10}{3}} \\left(u^{4 \\nu + 4} - 1\\right)}{u}\\end{matrix}\\right]$"
      ],
      "text/plain": [
       "Matrix([\n",
       "[0, 0,                                                          0],\n",
       "[0, 0,                                                          0],\n",
       "[0, 0, \\mu*u**(-2*\\nu)*u**(8*\\nu/3 - 10/3)*(u**(4*\\nu + 4) - 1)/u]])"
      ]
     },
     "metadata": {},
     "output_type": "display_data"
    }
   ],
   "source": [
    "# Other stresses\n",
    "J = det(F)                                    # Volume change\n",
    "P = J * T * F.inv().transpose()               # Nominal stress\n",
    "S = J * F.inv() * T * F.inv().transpose()     # Material stress\n",
    "display(S)"
   ]
  },
  {
   "cell_type": "code",
   "execution_count": 10,
   "metadata": {},
   "outputs": [],
   "source": [
    "# Define axial responses\n",
    "NH = lambdify((Nu, Mu, u), P[2,2], 'numpy')"
   ]
  },
  {
   "cell_type": "code",
   "execution_count": 11,
   "metadata": {},
   "outputs": [
    {
     "data": {
      "image/png": "[encoded data removed]",
      "text/plain": [
       "<Figure size 720x504 with 1 Axes>"
      ]
     },
     "metadata": {
      "needs_background": "light"
     },
     "output_type": "display_data"
    }
   ],
   "source": [
    "# Plot Results\n",
    "\n",
    "NuV = 0.4\n",
    "MuV = 1\n",
    "\n",
    "Xmin = 0.45\n",
    "Xmax = 2.55\n",
    "Delta = 0.01\n",
    "U33 = np.linspace(Xmin,Xmax,int((Xmax-Xmin)/Delta+1))\n",
    "\n",
    "plt.rc('figure', figsize=[10,7])\n",
    "fig = plt.figure()\n",
    "ax = fig.add_subplot(1, 1, 1)\n",
    "ax.cla()\n",
    "ax.plot(U33, NH(NuV, MuV, U33),  color = 'k', linestyle = '-', label='Neo-Hookean')\n",
    "# ax.plot(U33, MR(Nu,U33),  color = 'g', linestyle = '-', label='Mooney-Rivlin')\n",
    "# ax.plot(U33, Gn(Nu,U33),  color = 'b', linestyle = '-', label='Gent')\n",
    "# ax.plot(U33, Dm(Nu,U33),  color = 'c', linestyle = '-', label='Demiray')\n",
    "# ax.plot(U33, Og(Nu,U33),  color = 'r', linestyle = '-', label='Ogden')\n",
    "ax.set_xlabel('Stretch ratio (-)')\n",
    "ax.set_ylabel('Stress (kPa)')\n",
    "# plt.xlim([0.8, 1.2])\n",
    "# plt.ylim([1, 3])\n",
    "plt.legend(loc='upper left', frameon=True, framealpha=1)\n",
    "plt.show()"
   ]
  }
 ],
 "metadata": {
  "kernelspec": {
   "display_name": "Python 3",
   "language": "python",
   "name": "python3"
  },
  "language_info": {
   "codemirror_mode": {
    "name": "ipython",
    "version": 3
   },
   "file_extension": ".py",
   "mimetype": "text/x-python",
   "name": "python",
   "nbconvert_exporter": "python",
   "pygments_lexer": "ipython3",
   "version": "3.8.2"
  }
 },
 "nbformat": 4,
 "nbformat_minor": 4
}
