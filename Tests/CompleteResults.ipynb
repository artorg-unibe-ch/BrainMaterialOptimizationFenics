{
 "cells": [
  {
   "cell_type": "code",
   "execution_count": 1,
   "metadata": {},
   "outputs": [],
   "source": [
    "import numpy as np\n",
    "import os\n",
    "import pandas as pd\n",
    "import SimpleFunctions as SF\n",
    "import matplotlib.pyplot as plt\n",
    "from mpl_toolkits.mplot3d import Axes3D\n",
    "import time\n",
    "from ipywidgets import interact, interactive, fixed, interact_manual\n",
    "import ipywidgets as widgets"
   ]
  },
  {
   "cell_type": "code",
   "execution_count": null,
   "metadata": {},
   "outputs": [],
   "source": [
    "NPoints = 21\n",
    "CostData = pd.DataFrame(dtype='float64')\n",
    "Values = pd.DataFrame(dtype='float64')\n",
    "# ValuesRange = pd.read_csv('CostFunctionGrid/Range.txt', sep=',', decimal='.')\n",
    "\n",
    "\n",
    "for Iteration in range(1,2,1):\n",
    "    CostFile = pd.read_csv('CostFunctionGrid/Results' + str(Iteration) + '.csv', sep=',', decimal='.')    \n",
    "    CostData = CostData.append(CostFile, ignore_index=True)"
   ]
  },
  {
   "cell_type": "code",
   "execution_count": null,
   "metadata": {},
   "outputs": [],
   "source": [
    "CostData"
   ]
  },
  {
   "cell_type": "code",
   "execution_count": 3,
   "metadata": {},
   "outputs": [
    {
     "name": "stdout",
     "output_type": "stream",
     "text": [
      "Min cost point for:\n",
      "Alpha                           -36\n",
      "BCsType                       Fixed\n",
      "CompressionCostNoNorm     0.0386284\n",
      "CompressionCostNormMax    0.0691508\n",
      "CompressionCostStep        0.875571\n",
      "ConstitutiveModel             Ogden\n",
      "Mu                              0.3\n",
      "Nu                            0.315\n",
      "NumberElements                   20\n",
      "SimpleShearCostNoNorm      0.010957\n",
      "SimpleShearCostNormMax     0.157149\n",
      "SimpleShearCostStep         2.57893\n",
      "TensileCostNoNorm         0.0246718\n",
      "TensileCostNormMax         0.988543\n",
      "TensileCostStep             237.725\n",
      "TotalCostNoNorm           0.0247524\n",
      "TotalCostNormMax           0.404947\n",
      "TotalCostStep               80.3932\n",
      "Name: 6488, dtype: object\n"
     ]
    },
    {
     "data": {
      "application/vnd.jupyter.widget-view+json": {
       "model_id": "37c48fe4fc974042b943ba7e3b1868c1",
       "version_major": 2,
       "version_minor": 0
      },
      "text/plain": [
       "Canvas(toolbar=Toolbar(toolitems=[('Home', 'Reset original view', 'home', 'home'), ('Back', 'Back to previous …"
      ]
     },
     "metadata": {},
     "output_type": "display_data"
    }
   ],
   "source": [
    "# Optimization Parameters\n",
    "ConstitutiveModels = ['Ogden', 'Neo-Hookean']\n",
    "ConstitutiveModel = ConstitutiveModels[0]\n",
    "\n",
    "BCsTypes = ['Ideal', 'Fixed']\n",
    "BCsType  = BCsTypes[1]\n",
    "\n",
    "\n",
    "NumberElementsTested = [1, 2, 3, 5, 10, 20]\n",
    "NumberElements = NumberElementsTested[5]\n",
    "\n",
    "# Folder for the results\n",
    "Optim_Path = os.path.join('OptimizationResults', BCsType, ConstitutiveModel)\n",
    "\n",
    "OptiName = str(NumberElements) + 'Elements.txt'\n",
    "MarcName = str(NumberElements) + 'Elements-M.txt'\n",
    "\n",
    "# Cost Function Data\n",
    "CostData = pd.read_csv('CostFunctionGrid/Results.csv', sep=',', decimal='.') \n",
    "OptiData = pd.read_csv(os.path.join(Optim_Path, OptiName), sep=' ', decimal='.')\n",
    "MarcData = pd.read_csv(os.path.join(Optim_Path, MarcName), sep=' ', decimal='.')\n",
    "\n",
    "# Row with the minimum cost\n",
    "print('Min cost point for:')\n",
    "print(CostData.loc[CostData['TotalCostNormMax'].idxmin()])\n",
    "\n",
    "Nus    = CostData.Nu\n",
    "Mus    = CostData.Mu\n",
    "Alphas = CostData.Alpha\n",
    "Costs  = CostData.TotalCostNormMax\n",
    "\n",
    "DM, MuM, AlphaM = 1.026, 0.458, -59.367\n",
    "NuM = (3-DM*MuM)/(DM*MuM+6)\n",
    "Marcdf = pd.DataFrame([NuM, MuM, AlphaM])\n",
    "\n",
    "Threshold = 1E-0\n",
    "Subsampling = 1\n",
    "\n",
    "Vmin = Costs.min()\n",
    "Vmax = Threshold * (Costs.max() - Costs.min())\n",
    "\n",
    "# 3D Plot\n",
    "%matplotlib widget\n",
    "plt.rc('figure', figsize=[12,7])\n",
    "fig = plt.figure()\n",
    "ax = fig.add_subplot(111, projection='3d')\n",
    "\n",
    "#img = ax.scatter(Nus, Mus, Alphas, c=Costs, cmap=plt.jet(), vmin=0, vmax=0.1)\n",
    "CostImage = ax.scatter(Nus[0::Subsampling], Mus[0::Subsampling], Alphas[0::Subsampling], c=Costs[0::Subsampling], cmap=plt.gray(), marker = '.', vmin=Vmin, vmax=Vmax, label='Points tested')\n",
    "ColorBar=plt.colorbar(CostImage)\n",
    "ColorBar.set_label('Cost (-)')\n",
    "ax.set_xlabel('Nu (-)')\n",
    "ax.set_ylabel('Mu (kPa)')\n",
    "ax.set_zlabel('Alpha (-)')\n",
    "ax.plot([Nus[CostData['TotalCostNormMax'].idxmin()]], [Mus[CostData['TotalCostNormMax'].idxmin()]], [Alphas[CostData['TotalCostNormMax'].idxmin()]], marker = 'o', color='k', label='Grid min cost point')\n",
    "ax.plot([OptiData.Nu[0]], [OptiData.Mu[0]], [OptiData.Alpha[0]], marker = 'o', color='m', label='Budday starting point')\n",
    "ax.plot(OptiData.Nu, OptiData.Mu, OptiData.Alpha, marker = None, color='m', label='Optimization path')\n",
    "ax.plot([OptiData.Nu[len(OptiData)-1]], [OptiData.Mu[len(OptiData)-1]], [OptiData.Alpha[len(OptiData)-1]], marker = 'o', color='r', label='Optimization result')\n",
    "ax.plot([MarcData.Nu[0]], [MarcData.Mu[0]], [MarcData.Alpha[0]], marker = 'o', color='c', label='Marc starting point')\n",
    "ax.plot(MarcData.Nu, MarcData.Mu, MarcData.Alpha, marker = None, color='c', label='Optimization path')\n",
    "ax.plot([MarcData.Nu[len(MarcData)-1]], [MarcData.Mu[len(MarcData)-1]], [MarcData.Alpha[len(MarcData)-1]], marker = 'o', color='b', label='Optimization result')\n",
    "ax.plot(Marcdf.loc[0], Marcdf.loc[1], Marcdf.loc[2], marker = 'o', color='g', label='Marc optimization result')\n",
    "ax.legend()\n",
    "plt.show()"
   ]
  },
  {
   "cell_type": "code",
   "execution_count": null,
   "metadata": {},
   "outputs": [],
   "source": [
    "# Filtering\n",
    "\n",
    "MaxRow = CostData['TotalCostNormMax'].idxmax()\n",
    "\n",
    "Threshold = 1\n",
    "MaxCost = CostData.TotalCostNormMax.max()\n",
    "\n",
    "FilteredCost = CostData.dropna()\n",
    "\n",
    "# for Point in range(len(FilteredCost)):\n",
    "#     CostValue = FilteredCost.TotalCostNormMax[Point]\n",
    "#     if CostValue > MaxCost * Threshold:\n",
    "#         FilteredCost = FilteredCost.drop([Point])\n",
    "        \n",
    "# Filtered 3D Plot\n",
    "%matplotlib widget\n",
    "plt.rc('figure', figsize=[12,7])\n",
    "fig = plt.figure()\n",
    "ax = fig.add_subplot(111, projection='3d')\n",
    "\n",
    "Nus    = FilteredCost.Nu\n",
    "Mus    = FilteredCost.Mu\n",
    "Alphas = FilteredCost.Alpha\n",
    "Costs  = FilteredCost.TotalCostNormMax\n",
    "\n",
    "# img = ax.scatter(Nus, Mus, Alphas, c=Costs, cmap=plt.jet(), vmin=0, vmax=0.1)\n",
    "CostImage = ax.scatter(Nus, Mus, Alphas, c=Costs, cmap=plt.viridis(), marker = '.', label='Points tested')\n",
    "ColorBar=plt.colorbar(CostImage)\n",
    "ColorBar.set_label('Cost (-)')\n",
    "ax.set_xlabel('Nu (-)')\n",
    "ax.set_ylabel('Mu (kPa)')\n",
    "ax.set_zlabel('Alpha (-)')\n",
    "ax.plot([Nus[FilteredCost['TotalCostNormMax'].idxmin()]], [Mus[FilteredCost['TotalCostNormMax'].idxmin()]], [Alphas[FilteredCost['TotalCostNormMax'].idxmin()]], marker = 'o', color='k', label='Grid min cost point')\n",
    "ax.plot([OptiData.Nu[len(OptiData)-1]], [OptiData.Mu[len(OptiData)-1]], [OptiData.Alpha[len(OptiData)-1]], marker = 'o', color='r', label='Optimization result')\n",
    "ax.legend()\n",
    "plt.show()"
   ]
  },
  {
   "cell_type": "code",
   "execution_count": null,
   "metadata": {},
   "outputs": [],
   "source": [
    "CostData"
   ]
  },
  {
   "cell_type": "code",
   "execution_count": null,
   "metadata": {},
   "outputs": [],
   "source": []
  }
 ],
 "metadata": {
  "kernelspec": {
   "display_name": "Python 3",
   "language": "python",
   "name": "python3"
  },
  "language_info": {
   "codemirror_mode": {
    "name": "ipython",
    "version": 3
   },
   "file_extension": ".py",
   "mimetype": "text/x-python",
   "name": "python",
   "nbconvert_exporter": "python",
   "pygments_lexer": "ipython3",
   "version": "3.8.2"
  }
 },
 "nbformat": 4,
 "nbformat_minor": 4
}
