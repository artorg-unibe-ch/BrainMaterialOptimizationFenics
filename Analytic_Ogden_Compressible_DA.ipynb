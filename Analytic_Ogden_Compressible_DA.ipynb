{
 "cells": [
  {
   "cell_type": "code",
   "execution_count": 41,
   "metadata": {},
   "outputs": [],
   "source": [
    "import sympy as sp\n",
    "import numpy as np\n",
    "from IPython.display import display\n",
    "import matplotlib.pyplot as plt"
   ]
  },
  {
   "cell_type": "code",
   "execution_count": 42,
   "metadata": {},
   "outputs": [],
   "source": [
    "# The following is based on https://en.wikipedia.org/wiki/Neo-Hookean_solid\n",
    "# -> Uniaxial Extension / Compressible neo-Hookean material"
   ]
  },
  {
   "cell_type": "code",
   "execution_count": 43,
   "metadata": {},
   "outputs": [
    {
     "data": {
      "text/latex": [
       "$\\displaystyle \\frac{2 \\mu \\left(\\bar{\\lambda}_1^{\\alpha} + \\bar{\\lambda}_2^{\\alpha} + \\bar{\\lambda}_3^{\\alpha} - 3\\right)}{\\alpha^{2}} + \\frac{\\left(J - 1\\right)^{2}}{D_{1}}$"
      ],
      "text/plain": [
       "2*\\mu*(\\bar{\\lambda}_1**\\alpha + \\bar{\\lambda}_2**\\alpha + \\bar{\\lambda}_3**\\alpha - 3)/\\alpha**2 + (J - 1)**2/D_{1}"
      ]
     },
     "metadata": {},
     "output_type": "display_data"
    }
   ],
   "source": [
    "# Neo-Hookean\n",
    "alpha, mu, D1 = sp.symbols(r'\\alpha \\mu D_{1}', positive=True)\n",
    "J, I1n, I1 = sp.symbols(r'J \\bar{I_1} I_1')\n",
    "lambda1N, lambda2N, lambda3N = sp.symbols(r'\\bar{\\lambda}_1 \\bar{\\lambda}_2 \\bar{\\lambda}_3', positive=True)\n",
    "\n",
    "Psi_Ogden = 2 * mu * ( lambda1N**(alpha) + lambda2N**(alpha) + lambda3N**(alpha) - 3) / alpha**2 + 1/D1 * (J-1)**2\n",
    "\n",
    "\n",
    "\n",
    "Psis = [Psi_Ogden]\n",
    "Psi  = Psis[0]\n",
    "display(Psi)"
   ]
  },
  {
   "cell_type": "code",
   "execution_count": 44,
   "metadata": {},
   "outputs": [
    {
     "data": {
      "text/latex": [
       "$\\displaystyle \\frac{2 \\mu \\left(\\left(\\frac{\\lambda_1}{\\sqrt[3]{J}}\\right)^{\\alpha} + \\left(\\frac{\\lambda_2}{\\sqrt[3]{J}}\\right)^{\\alpha} + \\left(\\frac{\\lambda_3}{\\sqrt[3]{J}}\\right)^{\\alpha} - 3\\right)}{\\alpha^{2}} + \\frac{\\left(J - 1\\right)^{2}}{D_{1}}$"
      ],
      "text/plain": [
       "2*\\mu*((\\lambda_1/J**(1/3))**\\alpha + (\\lambda_2/J**(1/3))**\\alpha + (\\lambda_3/J**(1/3))**\\alpha - 3)/\\alpha**2 + (J - 1)**2/D_{1}"
      ]
     },
     "metadata": {},
     "output_type": "display_data"
    },
    {
     "data": {
      "text/latex": [
       "$\\displaystyle \\frac{2 \\mu \\left(\\left(\\frac{\\lambda_3^{\\frac{2}{3}}}{\\sqrt[3]{\\lambda_1} \\sqrt[3]{\\lambda_2}}\\right)^{\\alpha} + \\left(\\frac{\\lambda_2^{\\frac{2}{3}}}{\\sqrt[3]{\\lambda_1} \\sqrt[3]{\\lambda_3}}\\right)^{\\alpha} + \\left(\\frac{\\lambda_1^{\\frac{2}{3}}}{\\sqrt[3]{\\lambda_2} \\sqrt[3]{\\lambda_3}}\\right)^{\\alpha} - 3\\right)}{\\alpha^{2}} + \\frac{\\left(\\lambda_1 \\lambda_2 \\lambda_3 - 1\\right)^{2}}{D_{1}}$"
      ],
      "text/plain": [
       "2*\\mu*((\\lambda_3**(2/3)/(\\lambda_1**(1/3)*\\lambda_2**(1/3)))**\\alpha + (\\lambda_2**(2/3)/(\\lambda_1**(1/3)*\\lambda_3**(1/3)))**\\alpha + (\\lambda_1**(2/3)/(\\lambda_2**(1/3)*\\lambda_3**(1/3)))**\\alpha - 3)/\\alpha**2 + (\\lambda_1*\\lambda_2*\\lambda_3 - 1)**2/D_{1}"
      ]
     },
     "metadata": {},
     "output_type": "display_data"
    }
   ],
   "source": [
    "lambda1, lambda2, lambda3 = sp.symbols(r'\\lambda_1 \\lambda_2 \\lambda_3', positive=True)\n",
    "\n",
    "lambda1NFunction= J**(-sp.Rational(1,3)) * lambda1\n",
    "lambda2NFunction= J**(-sp.Rational(1,3)) * lambda2\n",
    "lambda3NFunction= J**(-sp.Rational(1,3)) * lambda3\n",
    "JFunction = lambda1*lambda2*lambda3\n",
    "#Psi = Psi.subs({C1:C1Function,D1:D1Function, J:JFunction, I1:I1Function})\n",
    "Psi_subs = Psi.subs({lambda1N:lambda1NFunction, lambda2N:lambda2NFunction, lambda3N:lambda3NFunction})\n",
    "display(Psi_subs)\n",
    "Psi_subs = Psi_subs.subs({J:JFunction})\n",
    "display(Psi_subs)"
   ]
  },
  {
   "cell_type": "code",
   "execution_count": 45,
   "metadata": {},
   "outputs": [
    {
     "data": {
      "text/latex": [
       "$\\displaystyle \\frac{\\left(\\lambda_1 \\lambda_2 \\lambda_3\\right)^{- \\frac{\\alpha}{3} - 1} \\left(\\frac{4 D_{1} \\lambda_1^{\\alpha} \\mu}{3} - \\frac{2 D_{1} \\lambda_2^{\\alpha} \\mu}{3} - \\frac{2 D_{1} \\lambda_3^{\\alpha} \\mu}{3} - 2 \\alpha \\left(\\lambda_1 \\lambda_2 \\lambda_3\\right)^{\\frac{\\alpha}{3} + 1} + 2 \\alpha \\left(\\lambda_1 \\lambda_2 \\lambda_3\\right)^{\\frac{\\alpha}{3} + 2}\\right)}{D_{1} \\alpha}$"
      ],
      "text/plain": [
       "(\\lambda_1*\\lambda_2*\\lambda_3)**(-\\alpha/3 - 1)*(4*D_{1}*\\lambda_1**\\alpha*\\mu/3 - 2*D_{1}*\\lambda_2**\\alpha*\\mu/3 - 2*D_{1}*\\lambda_3**\\alpha*\\mu/3 - 2*\\alpha*(\\lambda_1*\\lambda_2*\\lambda_3)**(\\alpha/3 + 1) + 2*\\alpha*(\\lambda_1*\\lambda_2*\\lambda_3)**(\\alpha/3 + 2))/(D_{1}*\\alpha)"
      ]
     },
     "metadata": {},
     "output_type": "display_data"
    }
   ],
   "source": [
    "# Cauchy Stress\n",
    "sigma11, sigma22, sigma33 = sp.symbols(r'\\sigma_{11} \\sigma_{22} \\sigma_{33}')\n",
    "sigma11 = lambda1*sp.Derivative(Psi_subs, lambda1)/(lambda1*lambda2*lambda3)\n",
    "sigma11 = sigma11.doit()\n",
    "sigma22 = lambda2*sp.Derivative(Psi_subs, lambda2)/(lambda1*lambda2*lambda3)\n",
    "sigma22 = sigma22.doit()\n",
    "sigma33 = lambda3*sp.Derivative(Psi_subs, lambda3)/(lambda1*lambda2*lambda3)\n",
    "sigma33 = sigma33.doit()\n",
    "display(sp.simplify(sigma11))"
   ]
  },
  {
   "cell_type": "code",
   "execution_count": 46,
   "metadata": {},
   "outputs": [
    {
     "data": {
      "text/latex": [
       "$\\displaystyle \\frac{\\sqrt{J}}{\\sqrt{\\hat{\\lambda}}}$"
      ],
      "text/plain": [
       "sqrt(J)/sqrt(\\hat{\\lambda})"
      ]
     },
     "metadata": {},
     "output_type": "display_data"
    }
   ],
   "source": [
    "# uniaxial stretch ratio\n",
    "stretch = sp.symbols(r'\\hat{\\lambda}', positive=True)\n",
    "lambda1Function = stretch\n",
    "lambda2Function = lambda2\n",
    "lambda3Function = lambda2\n",
    "\n",
    "# get stretch ratio on other two directions (lambda2)\n",
    "JFunction_uniaxial = JFunction.subs({lambda1:lambda1Function, lambda2:lambda2Function, lambda3:lambda3Function})\n",
    "lambda2Function_uniaxial = sp.solve(JFunction_uniaxial-J, lambda2)[1]\n",
    "display(lambda2Function_uniaxial)\n"
   ]
  },
  {
   "cell_type": "code",
   "execution_count": 49,
   "metadata": {},
   "outputs": [
    {
     "data": {
      "text/latex": [
       "$\\displaystyle - \\frac{4 J^{\\frac{\\alpha}{6}} \\hat{\\lambda}^{- \\frac{\\alpha}{2}} \\mu}{3 J \\alpha} + \\frac{4 \\mu \\left(\\frac{\\hat{\\lambda}}{\\sqrt[3]{J}}\\right)^{\\alpha}}{3 J \\alpha} + \\frac{2 J}{D_{1}} - \\frac{2}{D_{1}}$"
      ],
      "text/plain": [
       "-4*J**(\\alpha/6)*\\hat{\\lambda}**(-\\alpha/2)*\\mu/(3*J*\\alpha) + 4*\\mu*(\\hat{\\lambda}/J**(1/3))**\\alpha/(3*J*\\alpha) + 2*J/D_{1} - 2/D_{1}"
      ]
     },
     "metadata": {},
     "output_type": "display_data"
    },
    {
     "data": {
      "text/latex": [
       "$\\displaystyle \\frac{2 J^{\\frac{\\alpha}{6}} \\hat{\\lambda}^{- \\frac{\\alpha}{2}} \\mu}{3 J \\alpha} - \\frac{2 J^{- \\frac{\\alpha}{3}} \\hat{\\lambda}^{\\alpha} \\mu}{3 J \\alpha} + \\frac{2 J}{D_{1}} - \\frac{2}{D_{1}}$"
      ],
      "text/plain": [
       "2*J**(\\alpha/6)*\\hat{\\lambda}**(-\\alpha/2)*\\mu/(3*J*\\alpha) - 2*J**(-\\alpha/3)*\\hat{\\lambda}**\\alpha*\\mu/(3*J*\\alpha) + 2*J/D_{1} - 2/D_{1}"
      ]
     },
     "metadata": {},
     "output_type": "display_data"
    }
   ],
   "source": [
    "# Compute Cauchy stress for uniaxial loading case\n",
    "sigma11_uniaxial = sigma11.subs({lambda1:lambda1Function, lambda2:lambda2Function_uniaxial, lambda3:lambda2Function_uniaxial})\n",
    "sigma22_uniaxial = sigma22.subs({lambda1:lambda1Function, lambda2:lambda2Function_uniaxial, lambda3:lambda2Function_uniaxial})\n",
    "sigma33_uniaxial = sigma33.subs({lambda1:lambda1Function, lambda2:lambda2Function_uniaxial, lambda3:lambda2Function_uniaxial})\n",
    "display(sp.simplify(sigma11_uniaxial))\n",
    "display(sp.simplify(sigma22_uniaxial))\n",
    "\n"
   ]
  },
  {
   "cell_type": "code",
   "execution_count": 20,
   "metadata": {},
   "outputs": [
    {
     "data": {
      "text/latex": [
       "$\\displaystyle \\frac{2 J^{- \\frac{\\alpha}{3} - 1} \\hat{\\lambda}^{- \\alpha} \\mu \\left(- J^{\\frac{\\alpha}{2}} \\hat{\\lambda}^{\\frac{\\alpha}{2}} + \\hat{\\lambda}^{2 \\alpha}\\right)}{\\alpha}$"
      ],
      "text/plain": [
       "2*J**(-\\alpha/3 - 1)*\\hat{\\lambda}**(-\\alpha)*\\mu*(-J**(\\alpha/2)*\\hat{\\lambda}**(\\alpha/2) + \\hat{\\lambda}**(2*\\alpha))/\\alpha"
      ]
     },
     "metadata": {},
     "output_type": "display_data"
    },
    {
     "data": {
      "text/latex": [
       "$\\displaystyle \\frac{2 J^{\\frac{\\alpha}{6}} \\hat{\\lambda}^{- \\frac{\\alpha}{2}} \\mu}{3 J \\alpha} - \\frac{2 J^{- \\frac{\\alpha}{3}} \\hat{\\lambda}^{\\alpha} \\mu}{3 J \\alpha} + \\frac{2 J}{D_{1}} - \\frac{2}{D_{1}}$"
      ],
      "text/plain": [
       "2*J**(\\alpha/6)*\\hat{\\lambda}**(-\\alpha/2)*\\mu/(3*J*\\alpha) - 2*J**(-\\alpha/3)*\\hat{\\lambda}**\\alpha*\\mu/(3*J*\\alpha) + 2*J/D_{1} - 2/D_{1}"
      ]
     },
     "execution_count": 20,
     "metadata": {},
     "output_type": "execute_result"
    }
   ],
   "source": [
    "# Computation of sigma11 now requires value of J\n",
    "# to eliminate J, we exploit that sigma22=sigma33=0\n",
    "# therefore: sigma11 - sigma33 = sigma11\n",
    "sigma_11_33_uniaxial = sp.simplify(sigma11_uniaxial - sigma33_uniaxial)\n",
    "display(sigma_11_33_uniaxial)\n",
    "# equating both expressions for sigma11 provides an expression for J\n",
    "eqn_J = sp.simplify(sigma11_uniaxial - sigma_11_33_uniaxial)\n",
    "sp.simplify(eqn_J)"
   ]
  },
  {
   "cell_type": "code",
   "execution_count": 21,
   "metadata": {},
   "outputs": [],
   "source": [
    "# this expression has no analytic solution for J\n",
    "#J_uniaxial = sp.solve(eqn_J, J)\n",
    "#J_uniaxial"
   ]
  },
  {
   "cell_type": "code",
   "execution_count": 50,
   "metadata": {},
   "outputs": [
    {
     "data": {
      "text/latex": [
       "$\\displaystyle \\frac{J^{\\frac{\\alpha}{6}} \\hat{\\lambda}^{- \\frac{\\alpha}{2}} \\mu}{9 J^{2}} - \\frac{2 J^{\\frac{\\alpha}{6}} \\hat{\\lambda}^{- \\frac{\\alpha}{2}} \\mu}{3 J^{2} \\alpha} + \\frac{2 J^{- \\frac{\\alpha}{3}} \\hat{\\lambda}^{\\alpha} \\mu}{9 J^{2}} + \\frac{2 J^{- \\frac{\\alpha}{3}} \\hat{\\lambda}^{\\alpha} \\mu}{3 J^{2} \\alpha} + \\frac{2}{D_{1}}$"
      ],
      "text/plain": [
       "J**(\\alpha/6)*\\hat{\\lambda}**(-\\alpha/2)*\\mu/(9*J**2) - 2*J**(\\alpha/6)*\\hat{\\lambda}**(-\\alpha/2)*\\mu/(3*J**2*\\alpha) + 2*J**(-\\alpha/3)*\\hat{\\lambda}**\\alpha*\\mu/(9*J**2) + 2*J**(-\\alpha/3)*\\hat{\\lambda}**\\alpha*\\mu/(3*J**2*\\alpha) + 2/D_{1}"
      ]
     },
     "execution_count": 50,
     "metadata": {},
     "output_type": "execute_result"
    }
   ],
   "source": [
    "eqn_J_prime = sp.diff(eqn_J, J)\n",
    "eqn_J_prime"
   ]
  },
  {
   "cell_type": "code",
   "execution_count": 75,
   "metadata": {},
   "outputs": [
    {
     "data": {
      "text/plain": [
       "      converged: True\n",
       "           flag: 'converged'\n",
       " function_calls: 6\n",
       "     iterations: 3\n",
       "           root: 0.9898739757026921"
      ]
     },
     "execution_count": 75,
     "metadata": {},
     "output_type": "execute_result"
    }
   ],
   "source": [
    "# therefore we try computing J numerically, given the other parameters: uniaxial stretch ratio, C1, D1\n",
    "from scipy import optimize \n",
    "\n",
    "eqn_J_prime = sp.diff(eqn_J, J)\n",
    "J_est_function = sp.lambdify((J, stretch, mu, D1, alpha), eqn_J, 'numpy')\n",
    "J_est_prime_function = sp.lambdify((J, stretch, mu, D1, alpha), eqn_J_prime, 'numpy')\n",
    "\n",
    "def compute_J(current_stretch, fixed_mu, fixed_D1, fixed_alpha):\n",
    "    #J_est = optimize.root_scalar(J_est_function, x0=1, args=(current_stretch, fixed_C1, fixed_D1), method='brentq', bracket=[0.1,10])\n",
    "    J_est = optimize.root_scalar(J_est_function, x0=1, args=(current_stretch, fixed_mu, fixed_D1, fixed_alpha), method='newton', fprime=J_est_prime_function)\n",
    "    return J_est\n",
    "\n",
    "# test\n",
    "root = compute_J(current_stretch=0.8, fixed_mu=1, fixed_D1=0.1, fixed_alpha=2)\n",
    "root"
   ]
  },
  {
   "cell_type": "code",
   "execution_count": 81,
   "metadata": {},
   "outputs": [],
   "source": [
    "# compute sigma11 using estimated J for given stretch, C1, D1\n",
    "\n",
    "sigma11_uniaxial_function = sp.lambdify((J, stretch, mu, D1, alpha), sigma11_uniaxial, 'numpy')\n",
    "sigma22_uniaxial_function = sp.lambdify((J, stretch, mu, D1, alpha), sigma22_uniaxial, 'numpy')\n",
    "\n",
    "def compute_sigmas(stretch_array, mu, D1, alpha):\n",
    "    sigma11 = np.zeros(stretch_array.shape)\n",
    "    sigma22 = np.zeros(stretch_array.shape)\n",
    "    for i in range(stretch_array.shape[0]):\n",
    "        current_stretch = stretch_array[i]\n",
    "        #print(current_stretch)\n",
    "        try:\n",
    "            root = compute_J(current_stretch, mu, D1, alpha)\n",
    "            #print(root)\n",
    "            J_est = root.root\n",
    "            sigma11[i] = sigma11_uniaxial_function(J_est, current_stretch, mu, D1, alpha)\n",
    "            sigma22[i] = sigma22_uniaxial_function(J_est, current_stretch, mu, D1, alpha)\n",
    "        except Exception as e:\n",
    "            print(e)\n",
    "            sigma11[i] = np.nan\n",
    "            sigma22[i] = np.nan\n",
    "    return sigma11, sigma22"
   ]
  },
  {
   "cell_type": "code",
   "execution_count": 88,
   "metadata": {},
   "outputs": [],
   "source": [
    "C_1_val = 1e3\n",
    "mu_val = 2*C_1_val\n",
    "D_1_val = 1e-8\n",
    "alpha_val = 2\n",
    "\n",
    "stretch_min = 0.1\n",
    "stretch_max = 4\n",
    "stretch_delta = 0.01\n",
    "stretch_array = np.arange(stretch_min,stretch_max,stretch_delta)\n",
    "\n",
    "sigma11, sigma22 = compute_sigmas(stretch_array, mu_val, D_1_val, alpha_val)\n",
    "#sigma11"
   ]
  },
  {
   "cell_type": "code",
   "execution_count": 89,
   "metadata": {},
   "outputs": [
    {
     "data": {
      "image/png": "[encoded data removed]",
      "text/plain": [
       "<Figure size 720x504 with 1 Axes>"
      ]
     },
     "metadata": {
      "needs_background": "light"
     },
     "output_type": "display_data"
    }
   ],
   "source": [
    "\n",
    "plt.rc('figure', figsize=[10,7])\n",
    "fig = plt.figure()\n",
    "ax = fig.add_subplot(1, 1, 1)\n",
    "ax.cla()\n",
    "ax.plot(stretch_array, sigma11,  color = 'k', linestyle = '-', label='Neo-Hookean')\n",
    "ax.set_xlabel('Stretch ratio (-)')\n",
    "ax.set_ylabel('Stress (kPa)')\n",
    "# plt.xlim([0.8, 1.2])\n",
    "# plt.ylim([-0.5, 0.5])\n",
    "plt.legend(loc='upper left', frameon=True, framealpha=1)\n",
    "plt.show()"
   ]
  },
  {
   "cell_type": "code",
   "execution_count": null,
   "metadata": {},
   "outputs": [],
   "source": []
  },
  {
   "cell_type": "code",
   "execution_count": null,
   "metadata": {},
   "outputs": [],
   "source": []
  },
  {
   "cell_type": "code",
   "execution_count": null,
   "metadata": {},
   "outputs": [],
   "source": []
  }
 ],
 "metadata": {
  "kernelspec": {
   "display_name": "Python 3",
   "language": "python",
   "name": "python3"
  },
  "language_info": {
   "codemirror_mode": {
    "name": "ipython",
    "version": 3
   },
   "file_extension": ".py",
   "mimetype": "text/x-python",
   "name": "python",
   "nbconvert_exporter": "python",
   "pygments_lexer": "ipython3",
   "version": "3.8.2"
  }
 },
 "nbformat": 4,
 "nbformat_minor": 4
}
