{
 "cells": [
  {
   "cell_type": "code",
   "execution_count": 6,
   "metadata": {},
   "outputs": [],
   "source": [
    "import os\n",
    "import pandas as pd\n",
    "import numpy as np"
   ]
  },
  {
   "cell_type": "code",
   "execution_count": 21,
   "metadata": {},
   "outputs": [],
   "source": [
    "# Parameters\n",
    "Tissues = ['Cortex', 'Basal Ganglia', 'Corona Radiata', 'Corpus Callosum']\n",
    "ConstitutiveModels = ['Ogden', 'Neo-Hookean']\n",
    "NumberElementsTested = [1, 2, 3, 5, 10, 20]\n",
    "BCsTypes = ['Ideal','Real']\n",
    "\n",
    "# Settings\n",
    "Tissue  = Tissues[0]\n",
    "ConstitutiveModel  = ConstitutiveModels[0]\n",
    "NumberElements = NumberElementsTested[5]\n",
    "BCsType  = BCsTypes[1] + ' Boundary Conditions'\n",
    "\n",
    "# Read optimized parameters\n",
    "ParametersPath = os.path.join('../Optimization/Results',Tissue,ConstitutiveModel,BCsType)\n",
    "ParametersFile = pd.read_csv(os.path.join(ParametersPath,str(NumberElements) + 'Elements.txt'),sep=' ')\n",
    "Lambda, Mu, Alpha = ParametersFile.iloc[-1][['Lambda','Mu','Alpha']].values"
   ]
  },
  {
   "cell_type": "code",
   "execution_count": 31,
   "metadata": {},
   "outputs": [],
   "source": [
    "AlphaRange = np.arange(-30,-10,1)\n",
    "MuRange = np.arange(0.6,2.6,0.1)\n",
    "LambdaRange = np.arange(3.5,5.5,0.1)"
   ]
  },
  {
   "cell_type": "code",
   "execution_count": 34,
   "metadata": {},
   "outputs": [
    {
     "data": {
      "text/plain": [
       "True"
      ]
     },
     "execution_count": 34,
     "metadata": {},
     "output_type": "execute_result"
    }
   ],
   "source": [
    "len(AlphaRange)*len(MuRange)*len(LambdaRange) < 1E4     "
   ]
  }
 ],
 "metadata": {
  "kernelspec": {
   "display_name": "Python 3",
   "language": "python",
   "name": "python3"
  },
  "language_info": {
   "codemirror_mode": {
    "name": "ipython",
    "version": 3
   },
   "file_extension": ".py",
   "mimetype": "text/x-python",
   "name": "python",
   "nbconvert_exporter": "python",
   "pygments_lexer": "ipython3",
   "version": "3.8.2"
  }
 },
 "nbformat": 4,
 "nbformat_minor": 4
}
