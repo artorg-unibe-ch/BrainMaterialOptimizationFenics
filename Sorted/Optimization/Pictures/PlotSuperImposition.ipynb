{
 "cells": [
  {
   "cell_type": "code",
   "execution_count": 2,
   "metadata": {},
   "outputs": [],
   "source": [
    "import pandas as pd\n",
    "import os\n",
    "import matplotlib.pyplot as plt\n",
    "import matplotlib.image as mpimg"
   ]
  },
  {
   "cell_type": "code",
   "execution_count": 296,
   "metadata": {},
   "outputs": [],
   "source": [
    "LoadCases = ['SimpleShear', 'Compression', 'Tension']\n",
    "Tissues = ['Cortex', 'Basal Ganglia', 'Corona Radiata', 'Corpus Callosum']\n",
    "\n",
    "LoadCase = LoadCases[1]\n",
    "Tissue = Tissues[3]"
   ]
  },
  {
   "cell_type": "code",
   "execution_count": 297,
   "metadata": {},
   "outputs": [],
   "source": [
    "# Experimental Data\n",
    "FolderPath = os.path.join('../../ExperimentalData/')\n",
    "\n",
    "if Tissue == 'Cortex':\n",
    "    FileName = 'C_' + LoadCase + '.png'\n",
    "    FilePath = os.path.join(FolderPath, FileName[:-4] + '_ExpDat.csv')\n",
    "    \n",
    "if Tissue == 'Basal Ganglia':\n",
    "    FileName = 'BG_' + LoadCase + '.png'\n",
    "    FilePath = os.path.join(FolderPath, FileName[:-4] + '_ExpDat.csv')\n",
    "    \n",
    "if Tissue == 'Corona Radiata':\n",
    "    FileName = 'CR_' + LoadCase + '.png'\n",
    "    FilePath = os.path.join(FolderPath, FileName[:-4] + '_ExpDat.csv')\n",
    "    \n",
    "if Tissue == 'Corpus Callosum':\n",
    "    FileName = 'CC_' + LoadCase + '.png'\n",
    "    FilePath = os.path.join(FolderPath, FileName[:-4] + '_ExpDat.csv')\n",
    "\n",
    "Picture = FileName\n",
    "ExpData = pd.read_csv(FilePath, sep=';', header=None, decimal=',')"
   ]
  },
  {
   "cell_type": "code",
   "execution_count": 309,
   "metadata": {},
   "outputs": [
    {
     "data": {
      "application/vnd.jupyter.widget-view+json": {
       "model_id": "518636783b5c4a078a64be1e12e47b10",
       "version_major": 2,
       "version_minor": 0
      },
      "text/plain": [
       "Canvas(toolbar=Toolbar(toolitems=[('Home', 'Reset original view', 'home', 'home'), ('Back', 'Back to previous …"
      ]
     },
     "metadata": {},
     "output_type": "display_data"
    }
   ],
   "source": [
    "Xmin, Xmax = 5,964\n",
    "Ymin, Ymax = 5,705\n",
    "\n",
    "%matplotlib widget\n",
    "Picture = mpimg.imread(FileName)\n",
    "CroppedPicture = Picture[Ymin:Ymax, Xmin:Xmax]\n",
    "imgplot = plt.imshow(CroppedPicture)\n",
    "plt.show()"
   ]
  },
  {
   "cell_type": "code",
   "execution_count": 316,
   "metadata": {},
   "outputs": [
    {
     "data": {
      "application/vnd.jupyter.widget-view+json": {
       "model_id": "a3c3ceb90bbf45b58f3129ca55e13ef8",
       "version_major": 2,
       "version_minor": 0
      },
      "text/plain": [
       "Canvas(toolbar=Toolbar(toolitems=[('Home', 'Reset original view', 'home', 'home'), ('Back', 'Back to previous …"
      ]
     },
     "metadata": {},
     "output_type": "display_data"
    }
   ],
   "source": [
    "%matplotlib widget\n",
    "\n",
    "if LoadCase == LoadCases[0]:\n",
    "    minX, maxX = 0, 0.2\n",
    "    x0 = 0\n",
    "if LoadCase == LoadCases[1]:\n",
    "    minX, maxX = 1, 0.9\n",
    "    x0 = 1\n",
    "if LoadCase == LoadCases[2]:\n",
    "    minX, maxX = 1, 1.1\n",
    "    x0 = 1\n",
    "\n",
    "plt.figure(figsize=((Xmax-Xmin)/100, (Ymax-Ymin)/100))\n",
    "plt.plot(ExpData[0],ExpData[1],marker='o',linestyle='none',color='Blue',fillstyle='none',markeredgewidth=2,markersize=10)\n",
    "plt.plot([x0,x0],[-0.6,-0.6],marker='_',color='Black',markersize=14)\n",
    "plt.plot([],marker='o',linestyle='none',color='Blue',fillstyle='none',markeredgewidth=2,markersize=10,label='Recorded data')\n",
    "plt.plot([],marker='o',linestyle='none',color='Black',markeredgewidth=2,markersize=8,label='Paper data')\n",
    "plt.legend(loc='upper left',fontsize=20)\n",
    "minY, maxY = 0, -0.74\n",
    "plt.xlim(minX, maxX)\n",
    "plt.ylim(minY, maxY)\n",
    "plt.subplots_adjust(bottom=0,top=1,right=1,left=0)\n",
    "plt.savefig(FileName[:-4] + '_ExpDat.png',dpi=100,transparent=True)\n",
    "plt.show()"
   ]
  },
  {
   "cell_type": "code",
   "execution_count": 317,
   "metadata": {},
   "outputs": [
    {
     "data": {
      "application/vnd.jupyter.widget-view+json": {
       "model_id": "a7111a0d9fda40a3ad03c6c8c456770d",
       "version_major": 2,
       "version_minor": 0
      },
      "text/plain": [
       "Canvas(toolbar=Toolbar(toolitems=[('Home', 'Reset original view', 'home', 'home'), ('Back', 'Back to previous …"
      ]
     },
     "metadata": {},
     "output_type": "display_data"
    }
   ],
   "source": [
    "%matplotlib widget\n",
    "Figure, Axes  = plt.subplots(1,1)\n",
    "Picture = mpimg.imread(FileName)\n",
    "CroppedPicture = Picture[Ymin:Ymax, Xmin:Xmax]\n",
    "Axes.imshow(CroppedPicture)\n",
    "Picture = mpimg.imread(FileName[:-4] + '_ExpDat.png')\n",
    "Axes.imshow(Picture)\n",
    "plt.savefig('Control_' + FileName[:-4] + '.png',dpi=100,transparent=True)\n",
    "plt.show()"
   ]
  },
  {
   "cell_type": "code",
   "execution_count": null,
   "metadata": {},
   "outputs": [],
   "source": []
  }
 ],
 "metadata": {
  "kernelspec": {
   "display_name": "Python 3",
   "language": "python",
   "name": "python3"
  },
  "language_info": {
   "codemirror_mode": {
    "name": "ipython",
    "version": 3
   },
   "file_extension": ".py",
   "mimetype": "text/x-python",
   "name": "python",
   "nbconvert_exporter": "python",
   "pygments_lexer": "ipython3",
   "version": "3.8.2"
  }
 },
 "nbformat": 4,
 "nbformat_minor": 4
}
