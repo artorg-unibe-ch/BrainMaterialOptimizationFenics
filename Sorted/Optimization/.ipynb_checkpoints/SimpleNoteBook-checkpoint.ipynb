{
 "cells": [
  {
   "cell_type": "code",
   "execution_count": null,
   "metadata": {},
   "outputs": [],
   "source": [
    "# import sys\n",
    "# sys.path.insert(0, \"/home/msimon/Desktop/FEniCS/Tests\")\n",
    "import Optimization_FunctionUsed as OF"
   ]
  },
  {
   "cell_type": "code",
   "execution_count": null,
   "metadata": {},
   "outputs": [],
   "source": [
    "# Parameters\n",
    "Tissues = ['Cortex', 'Basal Ganglia', 'Corona Radiata', 'Corpus Callosum']\n",
    "ConstitutiveModels = ['Ogden', 'Neo-Hookean']\n",
    "NumberElementsTested = [1, 2, 3, 5, 10, 20]\n",
    "BCsTypes = ['Ideal','Real']\n",
    "\n",
    "# Settings\n",
    "Tissue  = Tissues[2]\n",
    "ConstitutiveModel  = ConstitutiveModels[0]\n",
    "NumberElements = NumberElementsTested[5]\n",
    "BCsType  = BCsTypes[1] + ' Boundary Conditions'\n",
    "LoadCases = ['Compression', 'Tension', 'SimpleShear']\n",
    "RelativeWeights = [1,1,1]\n",
    "FinalRelativeStretch = 0.1\n",
    "RelativeStepSize     = 0.01\n",
    "\n",
    "#for NumberElements in NumberElementsTested:\n",
    "ResultsOptimization = OF.ParametersOptimization(Tissue, ConstitutiveModel, NumberElements, BCsType, LoadCases, RelativeWeights, FinalRelativeStretch, RelativeStepSize)"
   ]
  }
 ],
 "metadata": {
  "kernelspec": {
   "display_name": "Python 3",
   "language": "python",
   "name": "python3"
  },
  "language_info": {
   "codemirror_mode": {
    "name": "ipython",
    "version": 3
   },
   "file_extension": ".py",
   "mimetype": "text/x-python",
   "name": "python",
   "nbconvert_exporter": "python",
   "pygments_lexer": "ipython3",
   "version": "3.8.2"
  }
 },
 "nbformat": 4,
 "nbformat_minor": 4
}
