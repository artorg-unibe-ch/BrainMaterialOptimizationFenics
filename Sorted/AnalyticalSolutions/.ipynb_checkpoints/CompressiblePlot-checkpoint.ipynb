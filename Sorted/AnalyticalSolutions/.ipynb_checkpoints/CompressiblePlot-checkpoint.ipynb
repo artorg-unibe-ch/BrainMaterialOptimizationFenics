{
 "cells": [
  {
   "cell_type": "code",
   "execution_count": 1,
   "metadata": {},
   "outputs": [],
   "source": [
    "from sympy import *\n",
    "import numpy as np\n",
    "from IPython.display import display\n",
    "import matplotlib.pyplot as plt\n",
    "import os\n",
    "import pandas as pd\n",
    "import fenics as fe\n",
    "import dill\n",
    "import Compressible as Comp"
   ]
  },
  {
   "cell_type": "code",
   "execution_count": 2,
   "metadata": {},
   "outputs": [],
   "source": [
    "# Test Parameter\n",
    "ConstitutiveModels = ['NeoHookean','Ogden']\n",
    "StretchRange  = [0.1, 5.0]                   # Stretch ratio interval\n",
    "DeltaStretch  =  0.01                        # Step size\n",
    "\n",
    "\n",
    "# Material Parameters\n",
    "LambdaValue =  1E6   # 1st Lamé parameter\n",
    "MuValue     =  660   # 2nd Lamé parameter (Shear modulus) (Pa)\n",
    "\n",
    "C01Value    =  0.00  # Mooney-Rivlin 3rd material constant (Pa) if == 0 => Neo-Hookean\n",
    "JmValue     =  0.08  # Gent 3rd material constant (-) if == 1 => ~Neo-Hookean with ln\n",
    "BetaValue   =  20.3  # Demiray 3rd material constant (-) if == 1 => ~Neo-Hookean with exp\n",
    "AlphaValue  = -24.3  # Ogden 3rd material constant (-) if == 2 => Neo-Hookean\n",
    "\n",
    "Output_Path = os.path.join('Results', 'Compressible')"
   ]
  },
  {
   "cell_type": "code",
   "execution_count": 3,
   "metadata": {},
   "outputs": [],
   "source": [
    "StretchArray = np.arange(StretchRange[0],StretchRange[1],DeltaStretch)\n",
    "AnalyticalStress = pd.DataFrame({'Stretch ratio (-)':StretchArray})\n",
    "\n",
    "for ConstitutiveModel in ConstitutiveModels:\n",
    "\n",
    "    if ConstitutiveModel == ConstitutiveModels[0]:                            # Neo-Hookean\n",
    "        Values = [LambdaValue, MuValue]\n",
    "        StressValues = Comp.StressComputation(ConstitutiveModel, StretchArray, Values)\n",
    "        AnalyticalStress[ConstitutiveModel + ' Stress (Pa)'] = StressValues[0]\n",
    "\n",
    "    elif ConstitutiveModel == ConstitutiveModels[1]:                          # Ogden\n",
    "        Values     = [LambdaValue, MuValue, AlphaValue]\n",
    "        StressValues = Comp.StressComputation(ConstitutiveModel, StretchArray, Values)\n",
    "        AnalyticalStress[ConstitutiveModel + ' Stress (Pa)'] = StressValues[0]\n",
    "        "
   ]
  },
  {
   "cell_type": "code",
   "execution_count": 5,
   "metadata": {},
   "outputs": [
    {
     "data": {
      "text/html": [
       "<div>\n",
       "<style scoped>\n",
       "    .dataframe tbody tr th:only-of-type {\n",
       "        vertical-align: middle;\n",
       "    }\n",
       "\n",
       "    .dataframe tbody tr th {\n",
       "        vertical-align: top;\n",
       "    }\n",
       "\n",
       "    .dataframe thead th {\n",
       "        text-align: right;\n",
       "    }\n",
       "</style>\n",
       "<table border=\"1\" class=\"dataframe\">\n",
       "  <thead>\n",
       "    <tr style=\"text-align: right;\">\n",
       "      <th></th>\n",
       "      <th>Stretch ratio (-)</th>\n",
       "      <th>NeoHookean Stress (Pa)</th>\n",
       "      <th>Ogden Stress (Pa)</th>\n",
       "    </tr>\n",
       "  </thead>\n",
       "  <tbody>\n",
       "    <tr>\n",
       "      <th>0</th>\n",
       "      <td>0.10</td>\n",
       "      <td>-6603.078030</td>\n",
       "      <td>-2.994722e+06</td>\n",
       "    </tr>\n",
       "    <tr>\n",
       "      <th>1</th>\n",
       "      <td>0.11</td>\n",
       "      <td>-6000.000667</td>\n",
       "      <td>-2.992688e+06</td>\n",
       "    </tr>\n",
       "    <tr>\n",
       "      <th>2</th>\n",
       "      <td>0.12</td>\n",
       "      <td>-5497.195975</td>\n",
       "      <td>-2.990153e+06</td>\n",
       "    </tr>\n",
       "    <tr>\n",
       "      <th>3</th>\n",
       "      <td>0.13</td>\n",
       "      <td>-5071.467308</td>\n",
       "      <td>-2.987051e+06</td>\n",
       "    </tr>\n",
       "    <tr>\n",
       "      <th>4</th>\n",
       "      <td>0.14</td>\n",
       "      <td>-4706.252635</td>\n",
       "      <td>-2.983316e+06</td>\n",
       "    </tr>\n",
       "    <tr>\n",
       "      <th>...</th>\n",
       "      <td>...</td>\n",
       "      <td>...</td>\n",
       "      <td>...</td>\n",
       "    </tr>\n",
       "    <tr>\n",
       "      <th>485</th>\n",
       "      <td>4.95</td>\n",
       "      <td>15896.965892</td>\n",
       "      <td>9.805782e+06</td>\n",
       "    </tr>\n",
       "    <tr>\n",
       "      <th>486</th>\n",
       "      <td>4.96</td>\n",
       "      <td>15961.494147</td>\n",
       "      <td>9.855288e+06</td>\n",
       "    </tr>\n",
       "    <tr>\n",
       "      <th>487</th>\n",
       "      <td>4.97</td>\n",
       "      <td>16026.146454</td>\n",
       "      <td>9.904896e+06</td>\n",
       "    </tr>\n",
       "    <tr>\n",
       "      <th>488</th>\n",
       "      <td>4.98</td>\n",
       "      <td>16090.922794</td>\n",
       "      <td>9.954607e+06</td>\n",
       "    </tr>\n",
       "    <tr>\n",
       "      <th>489</th>\n",
       "      <td>4.99</td>\n",
       "      <td>16155.823146</td>\n",
       "      <td>1.000442e+07</td>\n",
       "    </tr>\n",
       "  </tbody>\n",
       "</table>\n",
       "<p>490 rows × 3 columns</p>\n",
       "</div>"
      ],
      "text/plain": [
       "     Stretch ratio (-)  NeoHookean Stress (Pa)  Ogden Stress (Pa)\n",
       "0                 0.10            -6603.078030      -2.994722e+06\n",
       "1                 0.11            -6000.000667      -2.992688e+06\n",
       "2                 0.12            -5497.195975      -2.990153e+06\n",
       "3                 0.13            -5071.467308      -2.987051e+06\n",
       "4                 0.14            -4706.252635      -2.983316e+06\n",
       "..                 ...                     ...                ...\n",
       "485               4.95            15896.965892       9.805782e+06\n",
       "486               4.96            15961.494147       9.855288e+06\n",
       "487               4.97            16026.146454       9.904896e+06\n",
       "488               4.98            16090.922794       9.954607e+06\n",
       "489               4.99            16155.823146       1.000442e+07\n",
       "\n",
       "[490 rows x 3 columns]"
      ]
     },
     "execution_count": 5,
     "metadata": {},
     "output_type": "execute_result"
    }
   ],
   "source": [
    "AnalyticalStress"
   ]
  },
  {
   "cell_type": "code",
   "execution_count": 8,
   "metadata": {},
   "outputs": [
    {
     "data": {
      "image/png": "[encoded data removed]",
      "text/plain": [
       "<Figure size 864x504 with 1 Axes>"
      ]
     },
     "metadata": {
      "needs_background": "light"
     },
     "output_type": "display_data"
    }
   ],
   "source": [
    "# Plot Results\n",
    "Columns = AnalyticalStress.columns\n",
    "Colors = ['Black','Red','Blue','Green','Magenta','Cyan']\n",
    "Figure, Axes  = plt.subplots(1, figsize=(12,7))\n",
    "for Index in np.arange(1,len(Columns)):\n",
    "    Column = Columns[Index]\n",
    "    Color = Colors[Index]\n",
    "    Axes.plot(AnalyticalStress[Columns[0]], AnalyticalStress[Column], color = Color, linestyle = '-', label=Column.split()[0])\n",
    "Axes.set_xlabel('Stretch ratio (-)')\n",
    "Axes.set_ylabel('Stress (kPa)')\n",
    "Axes.set_xlim([0.85,1.25])\n",
    "Axes.set_ylim([-2E3,2E3])\n",
    "plt.legend(loc='upper left', frameon=True, framealpha=1)\n",
    "# plt.savefig(os.path.join(Output_Path, FileName + '_Comparison.pdf'))\n",
    "plt.show()"
   ]
  }
 ],
 "metadata": {
  "kernelspec": {
   "display_name": "Python 3",
   "language": "python",
   "name": "python3"
  },
  "language_info": {
   "codemirror_mode": {
    "name": "ipython",
    "version": 3
   },
   "file_extension": ".py",
   "mimetype": "text/x-python",
   "name": "python",
   "nbconvert_exporter": "python",
   "pygments_lexer": "ipython3",
   "version": "3.8.2"
  }
 },
 "nbformat": 4,
 "nbformat_minor": 4
}
