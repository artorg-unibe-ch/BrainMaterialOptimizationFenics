{
 "cells": [
  {
   "cell_type": "code",
   "execution_count": 2,
   "metadata": {},
   "outputs": [],
   "source": [
    "from sympy import *\n",
    "import numpy as np\n",
    "from IPython.display import display\n",
    "import matplotlib.pyplot as plt\n",
    "import pandas as pd\n",
    "import os\n",
    "from scipy import optimize"
   ]
  },
  {
   "cell_type": "code",
   "execution_count": 3,
   "metadata": {},
   "outputs": [],
   "source": [
    "# Test parameter\n",
    "ConstitutiveModels = ['NeoHookean', 'Ogden']\n",
    "ConstitutiveModel  = ConstitutiveModels[1]\n",
    "\n",
    "StretchRange = [0.1, 5.0]                    # Stretch ratio interval\n",
    "StretchDelta =  0.01                         # Step size\n",
    "\n",
    "# Material Parameters\n",
    "LambdaValue =  1E6   # 1st Lamé parameter\n",
    "MuValue     =  660   # 2nd Lamé parameter (Shear modulus) (Pa)\n",
    "\n",
    "C01Value    =  0.00   # Mooney-Rivlin 3rd material constant (kPa) if == 0 => Neo-Hookean\n",
    "JmValue     =  0.08   # Gent 3rd material constant (-) if == 1 => ~Neo-Hookean with ln\n",
    "BetaValue   =  20.3   # Demiray 3rd material constant (-) if == 1 => ~Neo-Hookean with exp\n",
    "AlphaValue  = -24.3   # Ogden 3rd material constant (-) if == 2 => Neo-Hookean\n",
    "\n",
    "# Folder for the results\n",
    "Output_Path = os.path.join('Results','Compressible',ConstitutiveModel)\n",
    "os.makedirs(Output_Path, exist_ok=True)\n",
    "StretchArray = np.arange(StretchRange[0],StretchRange[1],StretchDelta)\n",
    "AnalyticalStress = pd.DataFrame({'Stretch ratio (-)':StretchArray})"
   ]
  },
  {
   "cell_type": "code",
   "execution_count": 4,
   "metadata": {},
   "outputs": [
    {
     "name": "stdout",
     "output_type": "stream",
     "text": [
      "Constitutive Model\n"
     ]
    },
    {
     "data": {
      "text/latex": [
       "$\\displaystyle D_{1} \\left(J - 1\\right)^{2} + \\frac{2 \\mu \\left(\\bar{\\lambda}_1^{\\alpha} + \\bar{\\lambda}_2^{\\alpha} + \\bar{\\lambda}_3^{\\alpha} - 3\\right)}{\\alpha^{2}}$"
      ],
      "text/plain": [
       "D_{1}*(J - 1)**2 + 2*\\mu*(\\bar{\\lambda}_1**\\alpha + \\bar{\\lambda}_2**\\alpha + \\bar{\\lambda}_3**\\alpha - 3)/\\alpha**2"
      ]
     },
     "metadata": {},
     "output_type": "display_data"
    }
   ],
   "source": [
    "# Symbolic material parameters\n",
    "Lambda, Mu   = symbols(r'\\lambda \\mu', positive=True)\n",
    "\n",
    "# Identity tensor\n",
    "I = eye(3)\n",
    "\n",
    "# Direction vectors\n",
    "e1 = I[:,0]\n",
    "e2 = I[:,1]\n",
    "e3 = I[:,2]\n",
    "\n",
    "# Dilatation coefficients\n",
    "LambdaH = 1                                      # Coefficient for homogeneous dilatation\n",
    "LambdaX = symbols(r'\\lambda_x', positive=True)   # Coefficient for lengthening in e1 direction (here <1)\n",
    "LambdaY = symbols(r'\\lambda_y', positive=True)   # Coefficient for lengthening in e2 direction (here <1)\n",
    "LambdaZ = symbols(r'\\lambda_z', positive=True)   # Coefficient for lengthening in e3 direction (here >1)\n",
    "\n",
    "# Deformation matrices\n",
    "U = I + (LambdaX-1) * np.outer(e1,e1) + (LambdaY-1) * np.outer(e2,e2) + (LambdaZ-1) * np.outer(e3,e3)\n",
    "\n",
    "# Gradient of the deformation\n",
    "F = (LambdaH-1) * I + U\n",
    "\n",
    "# Volume change\n",
    "J = det(F)\n",
    "\n",
    "# Right Cauchy-Green strain tensor\n",
    "C = transpose(F) * F\n",
    "\n",
    "# Eigenvalues of Right Cauchy-Green strain tensor\n",
    "Lambda1, Lambda2, Lambda3 = symbols(r'\\lambda_1 \\lambda_2 \\lambda_3')\n",
    "\n",
    "# Invariants\n",
    "J, I1, I2, I1b, I2b = symbols(r'J I_1 I_2 \\bar{I_1} \\bar{I_2}')\n",
    "JFunction   = Lambda1*Lambda2*Lambda3\n",
    "I1Function  = Lambda1**2+Lambda2**2+Lambda3**2\n",
    "I2Function  = Lambda1**2*Lambda2**2 + Lambda2**2*Lambda3**2 + Lambda3**2*Lambda1**2\n",
    "I1bFunction = J**Rational(-2,3)*I1\n",
    "I2bFunction = J**Rational(-4,3)*I2\n",
    "\n",
    "# Hyperelastic models (Compressible)\n",
    "if ConstitutiveModel == ConstitutiveModels[0]:     # Neo-Hookean\n",
    "    C1, D1       = symbols(r'C_1 D_1', positive=True)\n",
    "    C1Function   = Mu / 2\n",
    "    D1Function   = Lambda / 2\n",
    "    Psi          = C1 * (I1b - 3) + D1 * (J-1)**2\n",
    "    print('Constitutive Model')\n",
    "    display(Psi)\n",
    "    Psi = Psi.subs({C1:C1Function, D1:D1Function})\n",
    "    PsiLambda = Psi.subs({I1b:I1bFunction,I2b:I2bFunction})\n",
    "    PsiLambda = PsiLambda.subs({J:JFunction,I1:I1Function,I2:I2Function})\n",
    "    \n",
    "    Parameters = [Lambda, Mu]\n",
    "    Values     = [LambdaValue, MuValue]\n",
    "    \n",
    "if ConstitutiveModel == ConstitutiveModels[1]:     # Ogden\n",
    "    Alpha, D1  = symbols(r'\\alpha D_{1}', positive=True)\n",
    "    D1Function = Lambda / 2\n",
    "    lambda1N, lambda2N, lambda3N = symbols(r'\\bar{\\lambda}_1 \\bar{\\lambda}_2 \\bar{\\lambda}_3', positive=True)\n",
    "    lambda1NFunction= J**(-Rational(1,3)) * Lambda1\n",
    "    lambda2NFunction= J**(-Rational(1,3)) * Lambda2\n",
    "    lambda3NFunction= J**(-Rational(1,3)) * Lambda3\n",
    "    Psi = 2 * Mu * ( lambda1N**(Alpha) + lambda2N**(Alpha) + lambda3N**(Alpha) - 3) / Alpha**2 + D1 * (J-1)**2\n",
    "    print('Constitutive Model')\n",
    "    display(Psi)\n",
    "    Psi = Psi.subs({D1:D1Function})\n",
    "    PsiLambda = Psi.subs({lambda1N:lambda1NFunction, lambda2N:lambda2NFunction, lambda3N:lambda3NFunction})\n",
    "    PsiLambda = PsiLambda.subs({J:JFunction})\n",
    "    \n",
    "    Parameters = [Lambda, Mu, Alpha]\n",
    "    Values     = [LambdaValue, MuValue, AlphaValue]\n",
    "\n",
    "T1 = Lambda1*Derivative(PsiLambda, Lambda1) / (Lambda1*Lambda2*Lambda3)\n",
    "T1 = T1.doit()\n",
    "\n",
    "T2 = Lambda2*Derivative(PsiLambda, Lambda2) / (Lambda1*Lambda2*Lambda3)\n",
    "T2 = T2.doit()\n",
    "\n",
    "T3 = Lambda3*Derivative(PsiLambda, Lambda3) / (Lambda1*Lambda2*Lambda3)\n",
    "T3 = T3.doit()\n",
    "\n",
    "# Uniaxial stretch\n",
    "LambdaY = LambdaX\n",
    "\n",
    "JFunction_Uniaxial = JFunction.subs({Lambda1:LambdaX, Lambda2:LambdaY, Lambda3:LambdaZ})\n",
    "LambdaXFunction_Uniaxial = solve(JFunction_Uniaxial-J, LambdaX)[1]\n",
    "\n",
    "T = T1 * np.outer(e1,e1) + T2 *np.outer(e2,e2) + T3 * np.outer(e3,e3)\n",
    "T = Matrix(T).doit()\n",
    "T = simplify(T)\n",
    "T = T.subs({Lambda1:LambdaXFunction_Uniaxial,Lambda2:LambdaXFunction_Uniaxial,Lambda3:LambdaZ})\n",
    "\n",
    "F = F.subs({LambdaX:LambdaXFunction_Uniaxial,LambdaY:LambdaXFunction_Uniaxial,Lambda3:LambdaZ})\n",
    "P = J * T * F.inv().transpose()               # Nominal stress\n",
    "\n",
    "PxxFunction = lambdify((LambdaZ, J, Parameters), P[0,0], 'numpy')\n",
    "PzzFunction = lambdify((LambdaZ, J, Parameters), P[2,2], 'numpy')\n",
    "\n",
    "# Estimate the value of J\n",
    "JEquation = P[0,0]\n",
    "JEquationPrime = diff(P[0,0], J)\n",
    "JEstimation = lambdify((J, LambdaZ, Parameters), JEquation, 'numpy')\n",
    "JEstimationPrime = lambdify((J, LambdaZ, Parameters), JEquationPrime, 'numpy')\n",
    "\n",
    "def JComputation(Stretch, Values):\n",
    "    JComputed = optimize.root_scalar(JEstimation, x0=1, args=(Stretch, Values), method='newton', fprime=JEstimationPrime)\n",
    "    return JComputed\n",
    "\n",
    "def StressComputation(StretchArray, Values):\n",
    "    \n",
    "    Pxx = np.zeros(StretchArray.shape)\n",
    "    Pzz = np.zeros(StretchArray.shape)\n",
    "    \n",
    "    for i in range(StretchArray.shape[0]):\n",
    "        Stretch = StretchArray[i]\n",
    "        try:\n",
    "            JComputed  = JComputation(Stretch, Values)\n",
    "            JEstimated = JComputed.root\n",
    "            Pxx[i] = PxxFunction(Stretch, JEstimated, Values)\n",
    "            Pzz[i] = PzzFunction(Stretch, JEstimated, Values)\n",
    "        except Exception as e:\n",
    "            print(e)\n",
    "            Pxx[i] = np.nan\n",
    "            Pzz[i] = np.nan\n",
    "            \n",
    "    return Pzz, Pxx\n",
    "\n",
    "Pzz, Pxx = StressComputation(StretchArray, Values)\n",
    "\n",
    "if ConstitutiveModel == ConstitutiveModels[0]:                # Neo-Hookean\n",
    "    AnalyticalStress[ConstitutiveModel + ' Pzz (Pa)'] = Pzz\n",
    "    AnalyticalStress[ConstitutiveModel + ' Pxx (Pa)'] = Pxx\n",
    "    AnalyticalStress.to_csv(os.path.join(Output_Path,'Lambda' + str(LambdaValue/1E6) + 'E6_Mu' + str(MuValue) + '.csv'), index=False)\n",
    "    \n",
    "if ConstitutiveModel == ConstitutiveModels[1]:                # Ogden\n",
    "    AnalyticalStress[ConstitutiveModel + ' Pzz (Pa)'] = Pzz\n",
    "    AnalyticalStress[ConstitutiveModel + ' Pxx (Pa)'] = Pxx\n",
    "    AnalyticalStress.to_csv(os.path.join(Output_Path,'Lambda' + str(LambdaValue/1E6) + 'E6_Mu' + str(MuValue) + '_Alpha' + str(AlphaValue) + '.csv'), index=False)"
   ]
  },
  {
   "cell_type": "code",
   "execution_count": 9,
   "metadata": {},
   "outputs": [
    {
     "data": {
      "image/png": "[encoded data removed]",
      "text/plain": [
       "<Figure size 432x288 with 1 Axes>"
      ]
     },
     "metadata": {
      "needs_background": "light"
     },
     "output_type": "display_data"
    }
   ],
   "source": [
    "plt.plot(StretchArray,Pzz)\n",
    "plt.plot(StretchArray,Pxx)\n",
    "plt.show()"
   ]
  }
 ],
 "metadata": {
  "kernelspec": {
   "display_name": "Python 3",
   "language": "python",
   "name": "python3"
  },
  "language_info": {
   "codemirror_mode": {
    "name": "ipython",
    "version": 3
   },
   "file_extension": ".py",
   "mimetype": "text/x-python",
   "name": "python",
   "nbconvert_exporter": "python",
   "pygments_lexer": "ipython3",
   "version": "3.8.2"
  }
 },
 "nbformat": 4,
 "nbformat_minor": 4
}
