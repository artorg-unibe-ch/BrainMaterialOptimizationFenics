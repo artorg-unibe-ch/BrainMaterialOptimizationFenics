{
 "cells": [
  {
   "cell_type": "code",
   "execution_count": 1,
   "metadata": {},
   "outputs": [],
   "source": [
    "from sympy import *\n",
    "import numpy as np\n",
    "from IPython.display import display\n",
    "import matplotlib.pyplot as plt\n",
    "import os\n",
    "import pandas as pd\n",
    "import fenics as fe\n",
    "import dill\n",
    "import Compressible as Comp"
   ]
  },
  {
   "cell_type": "code",
   "execution_count": 7,
   "metadata": {},
   "outputs": [],
   "source": [
    "# Test Parameter\n",
    "ConstitutiveModels = ['NeoHookean']\n",
    "StretchRange  = [0.1, 5.0]                   # Stretch ratio interval\n",
    "DeltaStretch  =  0.01                        # Step size\n",
    "\n",
    "\n",
    "# Material Parameters\n",
    "LambdaValue =  1E6   # 1st Lamé parameter\n",
    "MuValue     =  660   # 2nd Lamé parameter (Shear modulus) (Pa)\n",
    "\n",
    "C01Value    =  0.00  # Mooney-Rivlin 3rd material constant (Pa) if == 0 => Neo-Hookean\n",
    "JmValue     =  0.08  # Gent 3rd material constant (-) if == 1 => ~Neo-Hookean with ln\n",
    "BetaValue   =  20.3  # Demiray 3rd material constant (-) if == 1 => ~Neo-Hookean with exp\n",
    "AlphaValue  = -24.3  # Ogden 3rd material constant (-) if == 2 => Neo-Hookean\n",
    "\n",
    "Output_Path = os.path.join('Results', 'Compressible')"
   ]
  },
  {
   "cell_type": "code",
   "execution_count": 14,
   "metadata": {},
   "outputs": [],
   "source": [
    "StretchArray = np.arange(StretchRange[0],StretchRange[1],StretchDelta)\n",
    "AnalyticalStress = pd.DataFrame({'Stretch ratio (-)':StretchArray})\n",
    "\n",
    "for ConstitutiveModel in ConstitutiveModels:\n",
    "\n",
    "    if ConstitutiveModel == ConstitutiveModels[0]:                            # Neo-Hookean\n",
    "        StressValues = Comp.StressComputation(StretchArray, LambdaValue, MuValue)\n",
    "        AnalyticalStress[ConstitutiveModel + ' Stress (Pa)'] = StressValues[0]\n",
    "\n",
    "#     elif ConstitutiveModel == ConstitutiveModels[1]:                          # Mooney-Rivlin\n",
    "#         StressValues = AnalyticalFunction(C01V, LambdaV, MuV, StretchSteps)\n",
    "#         AnalyticalStress[ConstitutiveModel + ' Stress (Pa)'] = StressValues\n",
    "\n",
    "#     elif ConstitutiveModel == ConstitutiveModels[2]:                          # Gent\n",
    "#         StressValues = AnalyticalFunction(JmV, LambdaV, MuV, StretchSteps)\n",
    "#         AnalyticalStress[ConstitutiveModel + ' Stress (Pa)'] = StressValues\n",
    "\n",
    "#     elif ConstitutiveModel == ConstitutiveModels[3]:                          # Demiray\n",
    "#         StressValues = AnalyticalFunction(BetaV, LambdaV, MuV, StretchSteps)\n",
    "#         AnalyticalStress[ConstitutiveModel + ' Stress (Pa)'] = StressValues\n",
    "\n",
    "#     elif ConstitutiveModel == ConstitutiveModels[4]:                          # Ogden\n",
    "#         StressValues = AnalyticalFunction(AlphaV, LambdaV, MuV, StretchSteps)\n",
    "#         AnalyticalStress[ConstitutiveModel + ' Stress (Pa)'] = StressValues\n",
    "        "
   ]
  },
  {
   "cell_type": "code",
   "execution_count": 16,
   "metadata": {},
   "outputs": [
    {
     "data": {
      "image/png": "[encoded data removed]",
      "text/plain": [
       "<Figure size 864x504 with 1 Axes>"
      ]
     },
     "metadata": {
      "needs_background": "light"
     },
     "output_type": "display_data"
    }
   ],
   "source": [
    "# Plot Results\n",
    "Columns = AnalyticalStress.columns\n",
    "Colors = ['Black','Red','Blue','Green','Magenta','Cyan']\n",
    "Figure, Axes  = plt.subplots(1, figsize=(12,7))\n",
    "for Index in np.arange(1,len(Columns)):\n",
    "    Column = Columns[Index]\n",
    "    Color = Colors[Index]\n",
    "    Axes.plot(AnalyticalStress[Columns[0]], AnalyticalStress[Column], color = Color, linestyle = '-', label=Column.split()[0])\n",
    "Axes.set_xlabel('Stretch ratio (-)')\n",
    "Axes.set_ylabel('Stress (kPa)')\n",
    "# Axes.set_xlim([0.85,1.15])\n",
    "# Axes.set_ylim([-2E3,2E3])\n",
    "plt.legend(loc='upper left', frameon=True, framealpha=1)\n",
    "# plt.savefig(os.path.join(Output_Path, FileName + '_Comparison.pdf'))\n",
    "plt.show()"
   ]
  }
 ],
 "metadata": {
  "kernelspec": {
   "display_name": "Python 3",
   "language": "python",
   "name": "python3"
  },
  "language_info": {
   "codemirror_mode": {
    "name": "ipython",
    "version": 3
   },
   "file_extension": ".py",
   "mimetype": "text/x-python",
   "name": "python",
   "nbconvert_exporter": "python",
   "pygments_lexer": "ipython3",
   "version": "3.8.2"
  }
 },
 "nbformat": 4,
 "nbformat_minor": 4
}
