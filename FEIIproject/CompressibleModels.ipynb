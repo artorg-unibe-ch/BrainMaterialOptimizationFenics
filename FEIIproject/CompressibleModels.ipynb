{
 "cells": [
  {
   "cell_type": "code",
   "execution_count": 1,
   "metadata": {},
   "outputs": [],
   "source": [
    "%matplotlib inline\n",
    "import matplotlib.pyplot as plt           # Allows to do plots\n",
    "import fenics as fe                       # Allors to use the FEniCS functions\n",
    "import os                                 # Allows to use path\n",
    "import pandas as pd                       # Allows to use data in tables\n",
    "from IPython.display import display, clear_output"
   ]
  },
  {
   "cell_type": "code",
   "execution_count": 2,
   "metadata": {},
   "outputs": [],
   "source": [
    "# ----------------------------------------------------------------------------\n",
    "# Parameters to set\n",
    "# ----------------------------------------------------------------------------\n",
    "\n",
    "# Folder for the results\n",
    "Output_Path = 'ResultsCompressible'\n",
    "\n",
    "# Test performed\n",
    "Tests = ['Tension', 'Compression', 'SimpleShear']\n",
    "Test  = Tests[2]\n",
    "\n",
    "# Constitutive models\n",
    "Models = ['Compressible Neo-Hookean', 'Compressible Ogden']\n",
    "Model  = Models[1]\n",
    "\n",
    "# Poisson's ratio\n",
    "Nu     = 0.49\n",
    "\n",
    "# Discretization (number of elements by sides)\n",
    "Nelements = 5"
   ]
  },
  {
   "cell_type": "code",
   "execution_count": 3,
   "metadata": {},
   "outputs": [],
   "source": [
    "# ----------------------------------------------------------------------------\n",
    "# Mesh\n",
    "# ----------------------------------------------------------------------------\n",
    "\n",
    "# Geometry (mm)\n",
    "Length = 5\n",
    "Thickness = 5\n",
    "Height = 5\n",
    "\n",
    "# Mesh\n",
    "Mesh = fe.BoxMesh(fe.Point(-Length/2, -Thickness/2, -Height/2), \n",
    "                  fe.Point( Length/2, Thickness/2, Height/2), \n",
    "                  Nelements, Nelements, Nelements)"
   ]
  },
  {
   "cell_type": "code",
   "execution_count": 4,
   "metadata": {},
   "outputs": [],
   "source": [
    "# ----------------------------------------------------------------------------\n",
    "# Function spaces\n",
    "# ----------------------------------------------------------------------------\n",
    "\n",
    "# Discretization\n",
    "Type = 'Lagrange'\n",
    "PolDegree = 1\n",
    "\n",
    "# Functions spaces\n",
    "V_ele = fe.VectorElement(Type, Mesh.ufl_cell(), PolDegree)\n",
    "V = fe.VectorFunctionSpace(Mesh, Type, PolDegree)\n",
    "\n",
    "# Finite element functions\n",
    "du = fe.TrialFunction(V)\n",
    "v = fe.TestFunction(V)\n",
    "u = fe.Function(V)"
   ]
  },
  {
   "cell_type": "code",
   "execution_count": 5,
   "metadata": {},
   "outputs": [],
   "source": [
    "# ----------------------------------------------------------------------------\n",
    "# Material Constants\n",
    "# ----------------------------------------------------------------------------\n",
    "\n",
    "# Neo-Hookean\n",
    "Mu_NH  = 1.15                         # (kPa)\n",
    "Lambda = 2*Mu_NH*Nu/(1-2*Nu)          # (kPa)\n",
    "\n",
    "# Ogden\n",
    "Mu_Og = 0.66                          # (kPa)\n",
    "alpha = -24.3                         # (-)\n",
    "D     = 3*(1-2*Nu)/(Mu_Og*(1+Nu))     # (1/kPa)\n",
    "\n",
    "# Other parameters\n",
    "Mu_Og, alpha = [0.274, -31.279]\n",
    "Nu = 0.454\n",
    "D     = 3*(1-2*Nu)/(Mu_Og*(1+Nu))     # (1/kPa)"
   ]
  },
  {
   "cell_type": "code",
   "execution_count": 6,
   "metadata": {},
   "outputs": [],
   "source": [
    "# ----------------------------------------------------------------------------\n",
    "# Kinematics\n",
    "# ----------------------------------------------------------------------------\n",
    "\n",
    "d = u.geometric_dimension()\n",
    "I = fe.Identity(d)                    # Identity tensor\n",
    "F = I + fe.grad(u)                    # Deformation gradient\n",
    "F = fe.variable(F)                    # To differentiate Psi(F)\n",
    "C = F.T*F                             # Right Cauchy-Green deformation tensor"
   ]
  },
  {
   "cell_type": "code",
   "execution_count": 7,
   "metadata": {},
   "outputs": [],
   "source": [
    "# ----------------------------------------------------------------------------\n",
    "# Invariants\n",
    "# ----------------------------------------------------------------------------\n",
    "\n",
    "J = fe.det(F)                         # Jacobian of F\n",
    "Ic = fe.tr(C)                         # Trace of C\n",
    "\n",
    "# Invariant of Right Cauchy-Green deformation tensor\n",
    "def I1(C):\n",
    "    return fe.tr(C)\n",
    "\n",
    "def I2(C):\n",
    "    c1 = C[0,0]*C[1,1] + C[0,0]*C[2,2] + C[1,1]*C[2,2]\n",
    "    c2 = C[0,1]*C[0,1] + C[0,2]*C[0,2] + C[1,2]*C[1,2]\n",
    "    return c1 - c2\n",
    "\n",
    "def I3(C):\n",
    "    return fe.det(C)\n",
    "\n",
    "# Define function necessary for eigenvalues computation\n",
    "def v_inv(C):\n",
    "    return (I1(C)/3.)**2 - I2(C)/3.\n",
    "\n",
    "def s_inv(C):\n",
    "    return (I1(C)/3.)**3 - I1(C)*I2(C)/6. + I3(C)/2.\n",
    "\n",
    "def phi_inv(C):\n",
    "    arg = s_inv(C)/v_inv(C)*fe.sqrt(1./v_inv(C))\n",
    "    # numerical issues if arg~0\n",
    "    # https://fenicsproject.org/qa/12299\n",
    "    # /nan-values-when-computing-arccos-1-0-bug/\n",
    "    arg_cond = fe.conditional( fe.ge(arg, 1-fe.DOLFIN_EPS),\n",
    "    1-fe.DOLFIN_EPS,fe.conditional( fe.le(arg, -1+fe.DOLFIN_EPS),\n",
    "    -1+fe.DOLFIN_EPS, arg ))\n",
    "    return fe.acos(arg_cond)/3.\n",
    "\n",
    "# Eigenvalues of the strech tensor C\n",
    "lambda_1 = Ic/3. + 2*fe.sqrt(v_inv(C))*fe.cos(phi_inv(C))\n",
    "lambda_2 = Ic/3. - 2*fe.sqrt(v_inv(C))*fe.cos(fe.pi/3. + phi_inv(C))\n",
    "lambda_3 = Ic/3. - 2*fe.sqrt(v_inv(C))*fe.cos(fe.pi/3. - phi_inv(C))"
   ]
  },
  {
   "cell_type": "code",
   "execution_count": 8,
   "metadata": {},
   "outputs": [],
   "source": [
    "# ----------------------------------------------------------------------------\n",
    "# Constitutive model\n",
    "# ----------------------------------------------------------------------------\n",
    "\n",
    "# Compressible Neo-Hookean constitutive model\n",
    "CompNeoHook = (Mu_NH/2)*(Ic - 3) - Mu_NH*fe.ln(J) + (Lambda/2)*(fe.ln(J))**2\n",
    "\n",
    "# Compressible Modified one-term Ogden\n",
    "CompOgden   = 2 * Mu_Og * (J**(-1/3)*lambda_1**(alpha/2.)\n",
    "                        +  J**(-1/3)*lambda_2**(alpha/2.) \n",
    "                        +  J**(-1/3)*lambda_3**(alpha/2.) - 3) / alpha**2 + 1/D * (J-1)**2\n",
    "\n",
    "ConstitutiveModels = [CompNeoHook, CompOgden]"
   ]
  },
  {
   "cell_type": "code",
   "execution_count": 9,
   "metadata": {},
   "outputs": [],
   "source": [
    "# ----------------------------------------------------------------------------\n",
    "# Subdomains definition\n",
    "# ----------------------------------------------------------------------------\n",
    "\n",
    "# Define geometric spaces\n",
    "class LowerSide(fe.SubDomain):\n",
    "    def inside(self, x, on_boundary):\n",
    "        tol = 1E-14\n",
    "        return on_boundary and fe.near(x[2], -Height/2, tol)\n",
    "    \n",
    "class UpperSide(fe.SubDomain):\n",
    "    def inside(self, x, on_boundary):\n",
    "        tol = 1E-14\n",
    "        return on_boundary and fe.near(x[2], Height/2, tol)\n",
    "    \n",
    "# Define integration over subdpmains\n",
    "Domains_Facets = fe.MeshFunction('size_t', Mesh, Mesh.geometric_dimension()-1)\n",
    "ds = fe.Measure('ds', domain=Mesh, subdomain_data=Domains_Facets)\n",
    "\n",
    "# Mark all domain facets with 0\n",
    "Domains_Facets.set_all(0)\n",
    "\n",
    "# Mark bottom facets with 1\n",
    "bottom = LowerSide()\n",
    "bottom.mark(Domains_Facets, 1)\n",
    "\n",
    "# Mark upper facets with 2\n",
    "upper = UpperSide()\n",
    "upper.mark(Domains_Facets, 2)"
   ]
  },
  {
   "cell_type": "code",
   "execution_count": 10,
   "metadata": {},
   "outputs": [],
   "source": [
    "# ----------------------------------------------------------------------------\n",
    "# Boundary conditions\n",
    "# ----------------------------------------------------------------------------\n",
    "\n",
    "# Fixed side\n",
    "u_0 = fe.Constant((0, 0, 0)) # No displacement\n",
    "\n",
    "# Normal to moving side\n",
    "n = fe.Constant((0, 0, 1))\n",
    "\n",
    "# Diverse definitions\n",
    "IniS = [1, 1, 0]                      # Initial state (-)\n",
    "FinS = [1.1, 0.9, 0.2]                # Final state/stretch (-)\n",
    "Ymin = [-0.1, 0.1, -0.01]\n",
    "Ymax = [1.5, -3, 0.15]\n",
    "NumberSteps = 10                      # Number of steps (-)\n",
    "\n",
    "# Boundary conditions definition\n",
    "if Test == Tests[0]:\n",
    "    IniS = IniS[0]\n",
    "    FinS = FinS[0]\n",
    "    Ymin = Ymin[0]\n",
    "    Ymax = Ymax[0]\n",
    "    u_1 = fe.Expression(('0', '0', '(s-1)*h'),\n",
    "    degree=1, s = IniS, h = Height )                   # Displacement imposed\n",
    "    Dir = fe.Constant((0,0,1))                         # Deformation direction\n",
    "    DeltaStretch = round((FinS-IniS)/NumberSteps,3)    # Stretch step (-)\n",
    "    \n",
    "elif Test == Tests[1]:\n",
    "    IniS = IniS[1]\n",
    "    FinS = FinS[1]\n",
    "    Ymin = Ymin[1]\n",
    "    Ymax = Ymax[1]\n",
    "    u_1 = fe.Expression(('0', '0', '(s-1)*h'),\n",
    "    degree=1, s = IniS, h = Height )                   # Displacement imposed\n",
    "    Dir = fe.Constant((0,0,1))                         # Deformation direction\n",
    "    DeltaStretch = round((FinS-IniS)/NumberSteps,3)    # Stretch step (-)\n",
    "\n",
    "elif Test == Tests[2]:\n",
    "    IniS = IniS[2]\n",
    "    FinS = FinS[2]\n",
    "    Ymin = Ymin[2]\n",
    "    Ymax = Ymax[2]\n",
    "    u_1 = fe.Expression(('s*h', '0', '0'),\n",
    "    degree=1, s = IniS, h = Height )                   # Displacement imposed\n",
    "    Dir = fe.Constant((1,0,0))                         # Deformation direction\n",
    "    DeltaStretch = round((FinS-IniS)/NumberSteps,3)    # Stretch step (-)\n",
    "\n",
    "    \n",
    "# Apply boundary conditionsParameters to set\n",
    "bcl = fe.DirichletBC(V, u_0, Domains_Facets, 1)\n",
    "bcu = fe.DirichletBC(V, u_1, Domains_Facets, 2)\n",
    "\n",
    "# Set of boundary conditions\n",
    "bcs = [bcl, bcu]"
   ]
  },
  {
   "cell_type": "code",
   "execution_count": 11,
   "metadata": {},
   "outputs": [],
   "source": [
    "# ----------------------------------------------------------------------------\n",
    "# Total potential energy\n",
    "# ----------------------------------------------------------------------------\n",
    "if Model == Models[0]:\n",
    "    Psi = ConstitutiveModels[0]\n",
    "    \n",
    "elif Model == Models[1]:\n",
    "    Psi = ConstitutiveModels[1]\n",
    "\n",
    "Pi = Psi * fe.dx"
   ]
  },
  {
   "cell_type": "code",
   "execution_count": 12,
   "metadata": {},
   "outputs": [
    {
     "name": "stdout",
     "output_type": "stream",
     "text": [
      "Calling FFC just-in-time (JIT) compiler, this may take some time.\n",
      "Calling FFC just-in-time (JIT) compiler, this may take some time.\n"
     ]
    }
   ],
   "source": [
    "# ----------------------------------------------------------------------------\n",
    "# Problem to solve\n",
    "# ----------------------------------------------------------------------------\n",
    "\n",
    "# First directional derivative of the potential energy\n",
    "Fpi = fe.derivative(Pi,u,v)\n",
    "\n",
    "# Jacobian of Fpi\n",
    "Jac = fe.derivative(Fpi,u,du)\n",
    "\n",
    "# Define option for the compiler (optional)\n",
    "ffc_options = {\"optimize\": True, \\\n",
    "               \"eliminate_zeros\": True, \\\n",
    "               \"precompute_basis_const\": True, \\\n",
    "               \"precompute_ip_const\": True }\n",
    "\n",
    "# Define the problem\n",
    "problem = fe.NonlinearVariationalProblem(Fpi, u, bcs, Jac,\n",
    "form_compiler_parameters=ffc_options)\n",
    "\n",
    "# Define the solver\n",
    "solver = fe.NonlinearVariationalSolver(problem)\n",
    "\n",
    "# Set solver parameters (optional)\n",
    "prm = solver.parameters\n",
    "prm['nonlinear_solver'] = 'newton'\n",
    "prm['newton_solver']['linear_solver'] = 'cg'             # Conjugate gradient\n",
    "prm['newton_solver']['preconditioner'] = 'icc'           # Incomplete Choleski"
   ]
  },
  {
   "cell_type": "code",
   "execution_count": 13,
   "metadata": {},
   "outputs": [],
   "source": [
    "# ----------------------------------------------------------------------------\n",
    "# Results File\n",
    "# ----------------------------------------------------------------------------\n",
    "\n",
    "os.makedirs(Output_Path, exist_ok=True)\n",
    "FileName = 'Nu' + str(Nu) + '_' + str(Nelements) + 'Elements_' + Test\n",
    "\n",
    "results = xdmffile = fe.XDMFFile(os.path.join(Output_Path, FileName + '.xdmf'))\n",
    "results.parameters['flush_output'] = True\n",
    "results.parameters['functions_share_mesh'] = True\n",
    "\n",
    "# Data frame to store values\n",
    "cols = ['Stretches','P']\n",
    "df = pd.DataFrame(columns=cols, index=range(int(NumberSteps)+1))\n",
    "\n",
    "# Set the stretch state to initial state\n",
    "StretchState = IniS"
   ]
  },
  {
   "cell_type": "code",
   "execution_count": 14,
   "metadata": {},
   "outputs": [],
   "source": [
    "# ----------------------------------------------------------------------------\n",
    "# Estimation of the results (only necessary for Ogden)\n",
    "# ----------------------------------------------------------------------------\n",
    "\n",
    "if Model == Models[1]:\n",
    "    \n",
    "    # Change constitutive model\n",
    "    Psi = ConstitutiveModels[0]\n",
    "    Pi = Psi * fe.dx\n",
    "    \n",
    "    # First directional derivative of the potential energy\n",
    "    Fpi = fe.derivative(Pi,u,v)\n",
    "\n",
    "    # Jacobian of Fpi\n",
    "    Jac = fe.derivative(Fpi,u,du)\n",
    "    \n",
    "    # Define the problem\n",
    "    problem = fe.NonlinearVariationalProblem(Fpi, u, bcs, Jac,\n",
    "    form_compiler_parameters=ffc_options)\n",
    "\n",
    "    # Define the solver\n",
    "    solver = fe.NonlinearVariationalSolver(problem)\n",
    "    \n",
    "    # Update boundary condition for non zero displacement\n",
    "    u_1.s = IniS + 0.001\n",
    "\n",
    "    # Compute solution and save displacement\n",
    "    solver.solve()\n",
    "    \n",
    "    # Put the correct constitutive model and redefine the problem\n",
    "    Psi = ConstitutiveModels[1]\n",
    "    \n",
    "    Pi = Psi * fe.dx\n",
    "\n",
    "    # First directional derivative of the potential energy\n",
    "    Fpi = fe.derivative(Pi,u,v)\n",
    "\n",
    "    # Jacobian of Fpi\n",
    "    Jac = fe.derivative(Fpi,u,du)\n",
    "\n",
    "    # Define option for the compiler (optional)\n",
    "    ffc_options = {\"optimize\": True, \\\n",
    "                   \"eliminate_zeros\": True, \\\n",
    "                   \"precompute_basis_const\": True, \\\n",
    "                   \"precompute_ip_const\": True }\n",
    "\n",
    "    # Define the problem\n",
    "    problem = fe.NonlinearVariationalProblem(Fpi, u, bcs, Jac,\n",
    "    form_compiler_parameters=ffc_options)\n",
    "\n",
    "    # Define the solver\n",
    "    solver = fe.NonlinearVariationalSolver(problem)\n",
    "\n",
    "    # Set solver parameters (optional)\n",
    "    prm = solver.parameters\n",
    "    prm['nonlinear_solver'] = 'newton'\n",
    "    prm['newton_solver']['linear_solver'] = 'cg'             # Conjugate gradient\n",
    "    prm['newton_solver']['preconditioner'] = 'icc'           # Incomplete Choleski"
   ]
  },
  {
   "cell_type": "code",
   "execution_count": 15,
   "metadata": {},
   "outputs": [
    {
     "data": {
      "image/png": "[encoded data removed]",
      "text/plain": [
       "<Figure size 864x504 with 1 Axes>"
      ]
     },
     "metadata": {
      "needs_background": "light"
     },
     "output_type": "display_data"
    }
   ],
   "source": [
    "# ----------------------------------------------------------------------------\n",
    "# Solve\n",
    "# ----------------------------------------------------------------------------\n",
    "\n",
    "plt.rc('figure', figsize=[12,7])\n",
    "fig = plt.figure()\n",
    "ax = fig.add_subplot(1, 1, 1)\n",
    "\n",
    "for Step in range(NumberSteps+1):\n",
    "    \n",
    "    # Update current state\n",
    "    u_1.s = StretchState\n",
    "    \n",
    "    # Compute solution and save displacement\n",
    "    solver.solve()\n",
    "    \n",
    "    # First Piola Kirchoff (nominal) stress\n",
    "    P = fe.diff(Psi, F)\n",
    "    \n",
    "    # Nominal stress vectors normal to upper surface\n",
    "    p = fe.dot(P,n)\n",
    "    \n",
    "    # Reaction force on the upper surface\n",
    "    f = fe.assemble(fe.inner(p,Dir)*ds(2))\n",
    "    \n",
    "    # Mean nominal stress on the upper surface\n",
    "    Pm = f/fe.assemble(1*ds(2))\n",
    "    \n",
    "    # Project the displacement onto the vector function space\n",
    "    u_project = fe.project(u, V, solver_type='cg')\n",
    "    u_project.rename('displacement (mm)', '')\n",
    "    results.write(u_project,Step)\n",
    "    \n",
    "    # Save values to table\n",
    "    df.loc[Step].Stretches = StretchState\n",
    "    df.loc[Step].P = Pm\n",
    "    \n",
    "    # Plot\n",
    "    ax.cla()\n",
    "    ax.plot(df.Stretches, df.P,  color = 'r', \n",
    "            linestyle = '--', label = 'P', marker = 'x', markersize = 5)\n",
    "    if Test == Tests[2]:\n",
    "        ax.set_xlabel('Amount of shear (-)')\n",
    "        ax.set_ylabel('Shear stress (kPa)')\n",
    "        ax.xaxis.set_major_locator(plt.MultipleLocator(0.05))\n",
    "    else:\n",
    "        ax.set_xlabel('Stretch ratio (-)')\n",
    "        ax.set_ylabel('Stresses (kPa)')\n",
    "        ax.xaxis.set_major_locator(plt.MultipleLocator(0.02))\n",
    "    ax.set_xlim(IniS,FinS)\n",
    "    ax.set_ylim(Ymin,Ymax)\n",
    "    ax.legend(loc='upper left', frameon=True, framealpha=1)\n",
    "    display(fig)\n",
    "    clear_output(wait=True)\n",
    "            \n",
    "    # Update the stretch state\n",
    "    StretchState += DeltaStretch\n",
    "    \n",
    "# Save table and figure\n",
    "df.to_pickle(os.path.join(Output_Path, FileName + 'Stress'))\n",
    "plt.savefig(os.path.join(Output_Path, FileName + '.pdf'))"
   ]
  },
  {
   "cell_type": "code",
   "execution_count": 16,
   "metadata": {},
   "outputs": [
    {
     "data": {
      "text/plain": [
       "Text(0.5, 1.0, 'SimpleShear')"
      ]
     },
     "execution_count": 16,
     "metadata": {},
     "output_type": "execute_result"
    },
    {
     "data": {
      "image/png": "[encoded data removed]",
      "text/plain": [
       "<Figure size 864x504 with 1 Axes>"
      ]
     },
     "metadata": {
      "needs_background": "light"
     },
     "output_type": "display_data"
    }
   ],
   "source": [
    "LoadCase = Test\n",
    "\n",
    "# Experimental Data\n",
    "FolderPath = os.path.join('/home/msimon/Desktop/SHARED/ScriptsAndData/ExperimentalData/')\n",
    "FilePath = os.path.join(FolderPath, 'CR_' + LoadCase + '_ExpDat.csv')\n",
    "ExpData = pd.read_csv(FilePath, sep=';', header=None, decimal=',')\n",
    "\n",
    "# Control Plot       \n",
    "plt.rc('figure', figsize=[12,7])\n",
    "fig = plt.figure()\n",
    "ax = fig.add_subplot(1, 1, 1)\n",
    "ax.cla()\n",
    "ax.plot(ExpData[0], ExpData[1],  color = 'b', linestyle = '--', label = 'Original Data', marker = 'o', markersize = 8, fillstyle='none')\n",
    "ax.plot(df.Stretches, df.P,  color = 'r', linestyle = '--', label = 'Simulation Prediction', marker = 'o', markersize = 8, fillstyle='none')\n",
    "ax.set_xlabel('Stretch ratio (-)')\n",
    "ax.set_ylabel('Stresses (kPa)')\n",
    "ax.xaxis.set_major_locator(plt.MultipleLocator(0.02))\n",
    "ax.legend(loc='upper left', frameon=True, framealpha=1)\n",
    "plt.title(LoadCase)"
   ]
  },
  {
   "cell_type": "code",
   "execution_count": 17,
   "metadata": {},
   "outputs": [
    {
     "name": "stdout",
     "output_type": "stream",
     "text": [
      "0.274 -31.279 0.6927780399401597\n"
     ]
    }
   ],
   "source": [
    "print(Mu_Og, alpha, D) "
   ]
  },
  {
   "cell_type": "code",
   "execution_count": 18,
   "metadata": {},
   "outputs": [
    {
     "name": "stdout",
     "output_type": "stream",
     "text": [
      "0.458 -59.367 1.026\n"
     ]
    }
   ],
   "source": [
    "print(0.458, -59.367, 1.026)"
   ]
  },
  {
   "cell_type": "code",
   "execution_count": 19,
   "metadata": {},
   "outputs": [
    {
     "name": "stdout",
     "output_type": "stream",
     "text": [
      "0.454\n"
     ]
    }
   ],
   "source": [
    "print(Nu)"
   ]
  }
 ],
 "metadata": {
  "kernelspec": {
   "display_name": "Python 3",
   "language": "python",
   "name": "python3"
  },
  "language_info": {
   "codemirror_mode": {
    "name": "ipython",
    "version": 3
   },
   "file_extension": ".py",
   "mimetype": "text/x-python",
   "name": "python",
   "nbconvert_exporter": "python",
   "pygments_lexer": "ipython3",
   "version": "3.7.6"
  }
 },
 "nbformat": 4,
 "nbformat_minor": 4
}
